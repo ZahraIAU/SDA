{
 "cells": [
  {
   "cell_type": "markdown",
   "metadata": {
    "id": "VSE-00toU-sF"
   },
   "source": [
    "___\n",
    "\n",
    "<p style=\"text-align: center;\"><img src=\"https://docs.google.com/uc?id=1lY0Uj5R04yMY3-ZppPWxqCr5pvBLYPnV\" class=\"img-fluid\" alt=\"CLRSWY\"></p>\n",
    "\n",
    "___"
   ]
  },
  {
   "cell_type": "markdown",
   "metadata": {
    "id": "XJ0ZAOMyU-sL"
   },
   "source": [
    "# WELCOME!"
   ]
  },
  {
   "cell_type": "markdown",
   "metadata": {
    "id": "d4aFXZwuU-sL"
   },
   "source": [
    "Welcome to \"***Clustering (Customer Segmentation) Project***\". This is the last medium project of ***Machine Learning*** course.\n",
    "\n",
    "At the end of this project, you will have performed ***Cluster Analysis*** with an ***Unsupervised Learning*** method.\n",
    "\n",
    "---\n",
    "\n",
    "In this project, customers are required to be segmented according to the purchasing history obtained from the membership cards of a big mall.\n",
    "\n",
    "This project is less challenging than other projects. After getting to know the data set quickly, you are expected to perform ***Exploratory Data Analysis***. You should observe the distribution of customers according to different variables, also discover relationships and correlations between variables. Then you will spesify the different variables to use for cluster analysis.\n",
    "\n",
    "The last step in customer segmentation is to group the customers into distinct clusters based on their characteristics and behaviors. One of the most common methods for clustering is ***K-Means Clustering***, which partitions the data into k clusters based on the distance to the cluster centroids. Other clustering methods include ***hierarchical clustering***, density-based clustering, and spectral clustering. Each cluster can be assigned a label that describes its main features and preferences.\n",
    "\n",
    "- ***NOTE:*** *This project assumes that you already know the basics of coding in Python. You should also be familiar with the theory behind Cluster Analysis and scikit-learn module as well as Machine Learning before you begin.*"
   ]
  },
  {
   "cell_type": "markdown",
   "metadata": {
    "id": "IZJzYcmhU-sM"
   },
   "source": [
    "---\n",
    "---"
   ]
  },
  {
   "cell_type": "markdown",
   "metadata": {
    "id": "dRsvUIfcU-sM"
   },
   "source": [
    "# #Tasks"
   ]
  },
  {
   "cell_type": "markdown",
   "metadata": {
    "id": "CWoYEJTfU-sM"
   },
   "source": [
    "Mentoring Prep. and self study####\n",
    "\n",
    "#### 1. Import Libraries, Load Dataset, Exploring Data\n",
    "- Import Libraries\n",
    "- Load Dataset\n",
    "- Explore Data\n",
    "\n",
    "#### 2. Exploratory Data Analysis (EDA)\n",
    "\n",
    "\n",
    "#### 3. Cluster Analysis\n",
    "\n",
    "- Clustering based on Age and Spending Score\n",
    "\n",
    "    *i. Create a new dataset with two variables of your choice*\n",
    "    \n",
    "    *ii. Determine optimal number of clusters*\n",
    "    \n",
    "    *iii. Apply K Means*\n",
    "    \n",
    "    *iv. Visualizing and Labeling All the Clusters*\n",
    "    \n",
    "    \n",
    "- Clustering based on Annual Income and Spending Score\n",
    "\n",
    "    *i. Create a new dataset with two variables of your choice*\n",
    "    \n",
    "    *ii. Determine optimal number of clusters*\n",
    "    \n",
    "    *iii. Apply K Means*\n",
    "    \n",
    "    *iv. Visualizing and Labeling All the Clusters*\n",
    "    \n",
    "    \n",
    "- Hierarchical Clustering\n",
    "\n",
    "    *i. Determine optimal number of clusters using Dendogram*\n",
    "\n",
    "    *ii. Apply Agglomerative Clustering*\n",
    "\n",
    "    *iii. Visualizing and Labeling All the Clusters*\n",
    "\n",
    "- Conclusion"
   ]
  },
  {
   "cell_type": "markdown",
   "metadata": {
    "id": "HlknQK_RU-sM"
   },
   "source": [
    "---\n",
    "---"
   ]
  },
  {
   "cell_type": "markdown",
   "metadata": {
    "id": "N-6TnZPnAJmU"
   },
   "source": [
    "## 1. Import Libraries, Load Dataset, Exploring Data\n",
    "\n",
    "There is a big mall in a specific city that keeps information of its customers who subscribe to a membership card. In the membetrship card they provide following information : gender, age and annula income. The customers use this membership card to make all the purchases in the mall, so tha mall has the purchase history of all subscribed members and according to that they compute the spending score of all customers. You have to segment these customers based on the details given."
   ]
  },
  {
   "cell_type": "markdown",
   "metadata": {
    "id": "rVOlP-SqAJmZ"
   },
   "source": [
    "#### Import Libraries"
   ]
  },
  {
   "cell_type": "code",
   "execution_count": null,
   "metadata": {
    "id": "KyKbcx3hU-sN"
   },
   "outputs": [],
   "source": [
    "import numpy as np\n",
    "import pandas as pd\n",
    "\n",
    "import matplotlib.pyplot as plt\n",
    "import seaborn as sns\n",
    "sns.set_style(\"whitegrid\")\n",
    "\n",
    "from sklearn.cluster import KMeans\n",
    "from sklearn.cluster import AgglomerativeClustering\n",
    "\n",
    "from sklearn.metrics import silhouette_score\n",
    "\n",
    "from ipywidgets import interact\n",
    "import warnings\n",
    "warnings.filterwarnings('ignore')"
   ]
  },
  {
   "cell_type": "markdown",
   "metadata": {
    "id": "jnRWlG-IAJmi"
   },
   "source": [
    "#### Load Dataset"
   ]
  },
  {
   "cell_type": "code",
   "execution_count": null,
   "metadata": {
    "id": "AUWdtqFzU-sO",
    "outputId": "578930b5-6e37-4b99-877e-c527e9dea88e"
   },
   "outputs": [],
   "source": [
    "df = pd.read_csv(\"Mall_Customers.csv\")\n",
    "df.head()"
   ]
  },
  {
   "cell_type": "markdown",
   "metadata": {
    "id": "o10v8wIvAJmv"
   },
   "source": [
    "#### Explore Data\n",
    "\n",
    "You can rename columns to more usable, if you need."
   ]
  },
  {
   "cell_type": "code",
   "execution_count": null,
   "metadata": {
    "id": "dVCbKlkcU-sP",
    "lang": "tr"
   },
   "outputs": [],
   "source": [
    "df.rename(columns={'Annual Income (k$)': 'Annual_Income',\n",
    "                   'Spending Score (1-100)': 'Spending_Score'},\n",
    "                   inplace=True)\n",
    "# We have made an edit to make it easier when writing column names"
   ]
  },
  {
   "cell_type": "code",
   "execution_count": null,
   "metadata": {
    "cell_style": "split",
    "id": "WBe34CwNl_ht",
    "outputId": "37c51783-3404-44a3-de22-1f3b4bd4b99e"
   },
   "outputs": [],
   "source": [
    "df.head()"
   ]
  },
  {
   "cell_type": "code",
   "execution_count": null,
   "metadata": {
    "cell_style": "split",
    "id": "9DhvZLDSl_ht",
    "outputId": "61acdfcd-ae92-4db0-f585-e30c9b29eebc"
   },
   "outputs": [],
   "source": [
    "df.shape"
   ]
  },
  {
   "cell_type": "code",
   "execution_count": null,
   "metadata": {
    "cell_style": "split",
    "id": "7PnwOksffGI2",
    "outputId": "939d3a86-b925-443a-99da-dc0a34cdef87"
   },
   "outputs": [],
   "source": [
    "df.duplicated().sum()"
   ]
  },
  {
   "cell_type": "code",
   "execution_count": null,
   "metadata": {
    "id": "tyd4taZ-l_ht",
    "outputId": "822ad5da-6adc-409d-915c-e3a744b832fa"
   },
   "outputs": [],
   "source": [
    "df.info()"
   ]
  },
  {
   "cell_type": "code",
   "execution_count": null,
   "metadata": {
    "cell_style": "center",
    "id": "rDr3-zmLl_ht",
    "outputId": "769aa330-4027-4f25-965d-453e1d9b22e6",
    "scrolled": false
   },
   "outputs": [],
   "source": [
    "df.describe().T"
   ]
  },
  {
   "cell_type": "code",
   "execution_count": null,
   "metadata": {
    "cell_style": "center",
    "id": "TtUGvNQdfGI2",
    "outputId": "7ad23a81-457b-4c79-ca17-2f4ca9eb80e0",
    "scrolled": true
   },
   "outputs": [],
   "source": [
    "df.describe(include=\"object\").T"
   ]
  },
  {
   "cell_type": "code",
   "execution_count": null,
   "metadata": {
    "id": "KeA2WPGul_hu",
    "lang": "tr"
   },
   "outputs": [],
   "source": [
    "df.drop(columns=\"CustomerID\", inplace=True)\n",
    "# CustomerID is like index for us, so we drop it."
   ]
  },
  {
   "cell_type": "code",
   "execution_count": null,
   "metadata": {
    "id": "BW9SZLi4l_hu",
    "outputId": "8df154e0-8563-49b2-b548-7abb0ce1a5d6"
   },
   "outputs": [],
   "source": [
    "df.head()"
   ]
  },
  {
   "cell_type": "markdown",
   "metadata": {
    "id": "oM3mwJDaU-sP"
   },
   "source": [
    "---\n",
    "---"
   ]
  },
  {
   "cell_type": "markdown",
   "metadata": {
    "id": "AeO00ckrAJm-"
   },
   "source": [
    "## 2. Exploratory Data Analysis (EDA)\n",
    "\n",
    "After performing Cluster Analysis, you need to know the data well in order to label the observations correctly. Analyze frequency distributions of features, relationships and correlations between the independent variables and the dependent variable. It is recommended to apply data visualization techniques. Observing breakpoints helps you to internalize the data.\n",
    "\n",
    "\n",
    "\n"
   ]
  },
  {
   "cell_type": "code",
   "execution_count": null,
   "metadata": {
    "colab": {
     "referenced_widgets": [
      "d6d984187ecf46b6a238059fc6a49ae9",
      "35fb79906b084fc3a6ed3e380e7ec194",
      "372e05eb182c4179af886884da5ac52f"
     ]
    },
    "id": "_SnpnC9UfGI3",
    "outputId": "000b873c-4a66-427f-d86f-53a20c041f80"
   },
   "outputs": [],
   "source": [
    "@interact(col=df.columns[1:], chart=[\"countplot\", \"histogram\"])\n",
    "def plot(col, chart):\n",
    "    colors = np.random.choice(['blue', 'red', 'green'])\n",
    "    if chart == \"countplot\":\n",
    "        plt.figure(figsize=(20, 5))\n",
    "        ax = sns.countplot(x=col, data=df)\n",
    "        plt.title(col + ' Countplot')\n",
    "        plt.xlabel(col)\n",
    "        ax.bar_label(ax.containers[0])\n",
    "\n",
    "    else:\n",
    "        plt.figure(figsize=(20, 5))\n",
    "        ax = sns.histplot(data=df, x=col, bins=80, kde=True, color=colors)\n",
    "        plt.title(col + ' Histplot')\n",
    "        plt.xlabel(col)\n",
    "        ax.bar_label(ax.containers[0])\n",
    "\n",
    "\n",
    "# We are investigating the age range of the customer group.\n",
    "# We are investigating the annual revenues of customer groups.\n",
    "# We are investigating the spending scores of customer groups."
   ]
  },
  {
   "cell_type": "code",
   "execution_count": null,
   "metadata": {
    "id": "jD750ga7l_hv",
    "lang": "tr",
    "outputId": "556cd232-ebc5-41c8-c9cd-a5757ae6c8a8"
   },
   "outputs": [],
   "source": [
    "plt.figure(figsize=(8, 8))\n",
    "\n",
    "explode = [0, 0.1]\n",
    "plt.pie(df['Gender'].value_counts(),\n",
    "        explode=explode,\n",
    "        autopct='%1.1f%%',\n",
    "        shadow=True,\n",
    "        startangle=140)\n",
    "plt.legend(labels=['Female', 'Male'])\n",
    "plt.title('Male and Female Distribution')\n",
    "plt.axis('off')\n",
    "# We compare gender ratios, which is one of the important issues in customer segmentation."
   ]
  },
  {
   "cell_type": "code",
   "execution_count": null,
   "metadata": {
    "id": "JvFeo3IHl_hv",
    "outputId": "a8712c40-4921-468b-ffb8-4c5d6d864703"
   },
   "outputs": [],
   "source": [
    "plt.figure(figsize=(15, 8))\n",
    "sns.heatmap(df.corr(), annot=True, vmin=-1, vmax=1, cmap=\"coolwarm\")\n",
    "plt.show()\n",
    "\n",
    "# We are investigating how features are correlated to understand how they trending bivariately."
   ]
  },
  {
   "cell_type": "code",
   "execution_count": null,
   "metadata": {
    "id": "oaDqoTJKl_hv",
    "lang": "tr",
    "outputId": "b88152d2-5dee-4b00-e59c-0cac279fe142"
   },
   "outputs": [],
   "source": [
    "plt.figure(figsize=(12, 3))\n",
    "sns.swarmplot(x='Spending_Score', y='Gender', data=df, color=\"r\")\n",
    "sns.boxplot(x='Spending_Score', y='Gender', data=df, saturation=.3)\n",
    "plt.title('Gender and Spending Score')\n",
    "plt.show()\n",
    "\n",
    "# stripplot : used to look at the density of categorical data.\n",
    "\n",
    "plt.figure(figsize=(12, 6))\n",
    "sns.violinplot(x='Spending_Score', y='Gender', data=df)\n",
    "plt.title('Gender based Spending Score')\n",
    "plt.show()\n",
    "\n",
    "# With violinplot, we can see the density situation that we can't see in boxplot."
   ]
  },
  {
   "cell_type": "code",
   "execution_count": null,
   "metadata": {
    "id": "MnFGy6Vwl_hw",
    "outputId": "142dca04-f9c9-4ab1-b5a3-033e2edd0e07"
   },
   "outputs": [],
   "source": [
    "plt.figure(figsize=(12, 3))\n",
    "sns.swarmplot(x='Annual_Income', y='Gender', data=df, color=\"magenta\")\n",
    "sns.boxplot(x='Annual_Income', y='Gender', data=df, saturation=0.3)\n",
    "plt.title('Gender based Annual Income Distribution')\n",
    "plt.show()\n",
    "\n",
    "plt.figure(figsize=(12, 5))\n",
    "sns.violinplot(x='Annual_Income', y='Gender', data=df, orient=\"h\")\n",
    "plt.title('Gender based Annual Income Distribution')\n",
    "plt.show()"
   ]
  },
  {
   "cell_type": "code",
   "execution_count": null,
   "metadata": {
    "id": "XxqmyOfxl_hw",
    "lang": "tr",
    "outputId": "6217e5a0-4c4a-4c26-c6bf-00b065040c84"
   },
   "outputs": [],
   "source": [
    "sns.pairplot(df);\n",
    "\n",
    "# we look at pairplot to get an idea of how many clusters we can create using which variables.\n",
    "# Caution : If your data has too many features it is hard to use pairplot. It will take too much time\n",
    "# You can use PCA(dimension reduction technique) and use 3 to 5 componenets to get insight"
   ]
  },
  {
   "cell_type": "code",
   "execution_count": null,
   "metadata": {
    "id": "Ef3OpgwFl_hw",
    "lang": "tr",
    "outputId": "b4387203-0ae9-468a-e938-38efc080381f"
   },
   "outputs": [],
   "source": [
    "plt.figure(figsize=(14, 8))\n",
    "\n",
    "sns.scatterplot(x='Annual_Income', y='Spending_Score', data=df, hue=\"Gender\")\n",
    "plt.show()\n",
    "# We look at the distribution of gender in the clustering we will create using Annual_Income and Spending_Score,\n",
    "# which caught our eye above."
   ]
  },
  {
   "cell_type": "markdown",
   "metadata": {
    "id": "7zkXXtlfU-sQ"
   },
   "source": [
    "---\n",
    "---"
   ]
  },
  {
   "cell_type": "markdown",
   "metadata": {
    "id": "ztKiiwbbAJnR"
   },
   "source": [
    "## 3. Cluster Analysis"
   ]
  },
  {
   "cell_type": "markdown",
   "metadata": {
    "id": "ENtjtdoyAJnR"
   },
   "source": [
    "The purpose of the project is to perform cluster analysis using [K-Means](https://towardsdatascience.com/understanding-k-means-clustering-in-machine-learning-6a6e67336aa1) and [Hierarchical Clustering](https://medium.com/analytics-vidhya/hierarchical-clustering-d2d92835280c) algorithms.\n",
    "Using a maximum of two variables for each analysis can help to identify cluster labels more clearly.\n",
    "The K-Means algorithm requires determining the number of clusters using the [Elbow Method](https://en.wikipedia.org/wiki/Elbow_method_(clustering), while Hierarchical Clustering builds a dendrogram without defining the number of clusters beforehand. Different labeling should be done based on the information obtained from each analysis.\n",
    "Labeling example:\n",
    "\n",
    "- **Normal Customers**  -- An Average consumer in terms of spending and Annual Income\n",
    "- **Spender Customers** --  Annual Income is less but spending high, so can also be treated as potential target customer."
   ]
  },
  {
   "cell_type": "markdown",
   "metadata": {
    "id": "uubv8-IUfGI4"
   },
   "source": [
    "## Scaling Data"
   ]
  },
  {
   "cell_type": "markdown",
   "metadata": {
    "id": "q9G6s55bfGI4"
   },
   "source": [
    "**The K-means algorithm definitely needs scaling**. However, if all our features are in the same/similar range, **there is no need to scale the data**. For these data, scaling may cause worse results in some cases. You should try data both with and without scale and continue with whichever one has good results."
   ]
  },
  {
   "cell_type": "markdown",
   "metadata": {
    "id": "XIiAQ55aAJnU"
   },
   "source": [
    "### Clustering based on Age and Spending Score"
   ]
  },
  {
   "cell_type": "markdown",
   "metadata": {
    "id": "QDZsaDkTU-sR"
   },
   "source": [
    "#### *i. Create a new dataset with two variables of your choice*"
   ]
  },
  {
   "cell_type": "code",
   "execution_count": null,
   "metadata": {
    "id": "eujjR30gU-sS",
    "lang": "tr",
    "outputId": "ea3ff39e-63c5-4229-e478-a01f0728d7fe"
   },
   "outputs": [],
   "source": [
    "df_2 = df.drop(columns=\"Gender\")\n",
    "df_2\n",
    "# We do not use categorical features in k-means algorithms."
   ]
  },
  {
   "cell_type": "code",
   "execution_count": null,
   "metadata": {
    "code_folding": [
     3
    ],
    "id": "xUUYQCcUl_hx",
    "lang": "tr"
   },
   "outputs": [],
   "source": [
    "# function to compute hopkins's statistic for the dataframe X\n",
    "from sklearn.neighbors import NearestNeighbors\n",
    "from random import sample\n",
    "from numpy.random import uniform\n",
    "def hopkins(X, ratio=0.05):\n",
    "\n",
    "    if not isinstance(X, np.ndarray):\n",
    "      X=X.values  #convert dataframe to a numpy array\n",
    "    sample_size = int(X.shape[0] * ratio) #0.05 (5%) based on paper by Lawson and Jures\n",
    "\n",
    "    #a uniform random sample in the original data space\n",
    "    X_uniform_random_sample = uniform(X.min(axis=0), X.max(axis=0) ,(sample_size , X.shape[1]))\n",
    "\n",
    "    #a random sample of size sample_size from the original data X\n",
    "    random_indices=sample(range(0, X.shape[0], 1), sample_size)\n",
    "    X_sample = X[random_indices]\n",
    "\n",
    "    #initialise unsupervised learner for implementing neighbor searches\n",
    "    neigh = NearestNeighbors(n_neighbors=2)\n",
    "    nbrs=neigh.fit(X)\n",
    "\n",
    "    #u_distances = nearest neighbour distances from uniform random sample\n",
    "    u_distances , u_indices = nbrs.kneighbors(X_uniform_random_sample , n_neighbors=2)\n",
    "    u_distances = u_distances[: , 0] #distance to the first (nearest) neighbour\n",
    "\n",
    "    #w_distances = nearest neighbour distances from a sample of points from original data X\n",
    "    w_distances , w_indices = nbrs.kneighbors(X_sample , n_neighbors=2)\n",
    "    #distance to the second nearest neighbour (as the first neighbour will be the point itself, with distance = 0)\n",
    "    w_distances = w_distances[: , 1]\n",
    "\n",
    "    u_sum = np.sum(u_distances)\n",
    "    w_sum = np.sum(w_distances)\n",
    "\n",
    "    #compute and return hopkins' statistic\n",
    "    H = u_sum/ (u_sum + w_sum)\n",
    "    return H"
   ]
  },
  {
   "cell_type": "code",
   "execution_count": null,
   "metadata": {
    "id": "UM2eNwIfl_hx",
    "lang": "tr",
    "outputId": "ed6356a9-fda6-4ef3-ada2-b303ebfa3854"
   },
   "outputs": [],
   "source": [
    "hopkins(df_2, 1)\n",
    "\n",
    "# With hopkins test, whether the data is uniform or randomly distributed, it returns us a result about it.\n",
    "# We say that the closer it is to 1, the more prone to data clustering."
   ]
  },
  {
   "cell_type": "code",
   "execution_count": null,
   "metadata": {
    "id": "AZ19bykvl_hx",
    "lang": "tr",
    "outputId": "0edcbe42-f8bf-4240-c186-dadf4ba6177f"
   },
   "outputs": [],
   "source": [
    "X_age_ss = df.loc[:,['Age','Spending_Score']]\n",
    "X_age_ss"
   ]
  },
  {
   "cell_type": "code",
   "execution_count": null,
   "metadata": {
    "id": "wmtGVW7Bl_hx",
    "outputId": "a67546f4-e707-4116-b935-3fc87192fb54"
   },
   "outputs": [],
   "source": [
    "hopkins(X_age_ss, 1)"
   ]
  },
  {
   "cell_type": "markdown",
   "metadata": {
    "id": "GxTIB_KTU-sS"
   },
   "source": [
    "#### *ii. Determine optimal number of clusters*"
   ]
  },
  {
   "cell_type": "code",
   "execution_count": null,
   "metadata": {
    "id": "eYGRY1jGfGI6",
    "lang": "tr",
    "outputId": "fb930850-5ba7-4f87-9c9f-ea77cfd211ea"
   },
   "outputs": [],
   "source": [
    "sns.pairplot(X_age_ss);\n",
    "# We look at the distributions of age and spending score."
   ]
  },
  {
   "cell_type": "markdown",
   "metadata": {
    "id": "k2L06JT2PLLs"
   },
   "source": [
    "![image.png](data:image/png;base64,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)"
   ]
  },
  {
   "cell_type": "markdown",
   "metadata": {
    "id": "S0dPF9Z6PLLs"
   },
   "source": [
    "### inertia"
   ]
  },
  {
   "cell_type": "code",
   "execution_count": null,
   "metadata": {
    "id": "01eoOx6IU-sS",
    "outputId": "fb474214-9dc4-4a91-e167-c7fff9c21cbd"
   },
   "outputs": [],
   "source": [
    "ssd = []\n",
    "for n in range(2, 11):\n",
    "    kmeans = KMeans(n_clusters=n, random_state=42)\n",
    "    kmeans.fit(X_age_ss)\n",
    "    ssd.append(kmeans.inertia_)  # distances from each observation to each cluster centroid\n",
    "\n",
    "plt.figure(figsize=(10, 6))\n",
    "plt.plot(range(2, 11), ssd, \"bo-\",  markersize=14.0)\n",
    "plt.title('The Elbow Method')\n",
    "plt.xlabel('No. of Clusters')\n",
    "plt.ylabel('ssd')\n",
    "plt.show()\n",
    "# New paper about elbow method. May be you want to read and try. http://arxiv.org/abs/2212.12189"
   ]
  },
  {
   "cell_type": "markdown",
   "metadata": {
    "id": "-iN39fANPLLs"
   },
   "source": [
    "### distortion"
   ]
  },
  {
   "cell_type": "code",
   "execution_count": null,
   "metadata": {
    "id": "0_iD3pNEl_hy",
    "outputId": "17d070b2-e11a-4a50-e38f-f22d9bce599a"
   },
   "outputs": [],
   "source": [
    "K = range(2, 11)\n",
    "distortion = []\n",
    "for k in K:\n",
    "    kmeanModel = KMeans(n_clusters=k, random_state=42)\n",
    "    kmeanModel.fit(X_age_ss)\n",
    "    distances = kmeanModel.transform(X_age_ss) # distances from each observation to each cluster centroid\n",
    "    labels = kmeanModel.labels_\n",
    "    result = []\n",
    "    for i in range(k):\n",
    "        cluster_distances = distances[labels == i, i] # distances from observations in each cluster to their own centroid\n",
    "        result.append(np.mean(cluster_distances ** 2)) # calculate the mean of squared distances from observations in each cluster to their own centroid and add it to the result list\n",
    "    distortion.append(sum(result)) # sum the means of all clusters and add it to the distortion list\n",
    "\n",
    "plt.figure(figsize=(10,6))\n",
    "plt.plot(K, distortion, \"r*--\", markersize=14.0)\n",
    "plt.xlabel(\"Different k values\")\n",
    "plt.ylabel(\"distortion\")\n",
    "plt.title(\"elbow method\")"
   ]
  },
  {
   "cell_type": "markdown",
   "metadata": {
    "id": "QpWUIlFOPLLs"
   },
   "source": [
    "### silhoutte_score"
   ]
  },
  {
   "cell_type": "code",
   "execution_count": null,
   "metadata": {
    "id": "j7ztt22Il_hy",
    "outputId": "077f1a6e-8f08-4518-d642-2b857dc0f878"
   },
   "outputs": [],
   "source": [
    "from sklearn.metrics import silhouette_score\n",
    "\n",
    "range_n_clusters = range(2, 11)\n",
    "for num_clusters in range_n_clusters:\n",
    "    # intialise kmeans\n",
    "    kmeans = KMeans(n_clusters=num_clusters, random_state=42)\n",
    "    kmeans.fit(X_age_ss)\n",
    "    cluster_labels = kmeans.labels_\n",
    "    # silhouette score\n",
    "    silhouette_avg = silhouette_score(X_age_ss, cluster_labels)\n",
    "    print(\n",
    "        f\"For n_clusters={num_clusters}, the silhouette score is {silhouette_avg}\"\n",
    "    )"
   ]
  },
  {
   "cell_type": "markdown",
   "metadata": {
    "id": "sJyCZAB_PLLs"
   },
   "source": [
    "### silhoutte score of each cluster"
   ]
  },
  {
   "cell_type": "code",
   "execution_count": null,
   "metadata": {
    "id": "6CmfSEdBl_hy",
    "outputId": "828eb866-0a06-4e13-9786-0066dcb62777"
   },
   "outputs": [],
   "source": [
    "from sklearn.cluster import KMeans\n",
    "\n",
    "from yellowbrick.cluster import SilhouetteVisualizer\n",
    "\n",
    "model3 = KMeans(n_clusters=4, random_state=42)\n",
    "visualizer = SilhouetteVisualizer(model3)\n",
    "\n",
    "visualizer.fit(X_age_ss)  # Fit the data to the visualizer\n",
    "visualizer.poof()"
   ]
  },
  {
   "cell_type": "code",
   "execution_count": null,
   "metadata": {
    "id": "ITj7N1GTfGI7",
    "lang": "tr",
    "outputId": "4074036c-08ae-42f5-8131-9656f4c7cc75"
   },
   "outputs": [],
   "source": [
    "model3.n_clusters\n",
    "#We can get the number of clusters with .n_clusters."
   ]
  },
  {
   "cell_type": "code",
   "execution_count": null,
   "metadata": {
    "id": "Ir0hl2Rdl_hy",
    "outputId": "3278fa15-3943-45e2-cb42-de3d1c4ea402"
   },
   "outputs": [],
   "source": [
    "#model3.n_clusters\n",
    "\n",
    "for i in range(model3.n_clusters):\n",
    "    label = (model3.labels_ == i)\n",
    "    print(\n",
    "        f\"mean silhouette score for label {i:<4} : {visualizer.silhouette_samples_[label].mean()}\"\n",
    "    )\n",
    "print(f\"mean silhouette score for all labels : {visualizer.silhouette_score_}\")"
   ]
  },
  {
   "cell_type": "markdown",
   "metadata": {
    "id": "qJw9ZUhAl_hz"
   },
   "source": [
    "### Why silhouette_score is negative?"
   ]
  },
  {
   "cell_type": "markdown",
   "metadata": {
    "id": "FZPbWu0ll_hz"
   },
   "source": [
    "![image.png](data:image/png;base64,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)"
   ]
  },
  {
   "cell_type": "raw",
   "metadata": {
    "id": "T577eQxcl_hz"
   },
   "source": [
    "silhouette_score = (b-a)/max(a,b)\n",
    "\n",
    "b : the mean other-cluster/clusters distance\n",
    "a : the mean intra-cluster distance\n",
    "\n",
    "for red point,\n",
    "\n",
    "b = (1.1 + 1.2)/2 ==> 1.15\n",
    "a = ((1+1)**0.5 + (1+1)**0.5)/2  ==> 1.41\n",
    "\n",
    "silhouette_score = (1.15-1.41)/1.41 ==> -0.13"
   ]
  },
  {
   "cell_type": "markdown",
   "metadata": {
    "id": "hLgBGZFWfGI7"
   },
   "source": [
    "https://stackoverflow.com/questions/63639841/how-can-silhouette-scores-be-negative"
   ]
  },
  {
   "cell_type": "markdown",
   "metadata": {
    "id": "KP6SFvfzU-sS"
   },
   "source": [
    "#### *iii. Apply K Means*"
   ]
  },
  {
   "cell_type": "code",
   "execution_count": null,
   "metadata": {
    "id": "vsTXRuVKU-sS",
    "lang": "tr"
   },
   "outputs": [],
   "source": [
    "kmeans = KMeans(n_clusters=4, random_state=42)\n",
    "\n",
    "# n_clusters = 4. Since we decided to have 4 clusters according to age and spending score."
   ]
  },
  {
   "cell_type": "code",
   "execution_count": null,
   "metadata": {
    "id": "EyG8uC17l_hz",
    "outputId": "a4ce27bc-dd91-4525-e133-134406f9ca41"
   },
   "outputs": [],
   "source": [
    "kmeans.fit_predict(X_age_ss)"
   ]
  },
  {
   "cell_type": "code",
   "execution_count": null,
   "metadata": {
    "id": "72S0ygAgfGI8",
    "lang": "tr",
    "outputId": "94923924-423d-4ecb-f719-f8bd57f8e1cb"
   },
   "outputs": [],
   "source": [
    "df_age_ss = X_age_ss.copy()\n",
    "df_age_ss\n",
    "\n",
    "# We perform the copy operation as we will perform a clustering operation and compare it with Hierarchical Clustering."
   ]
  },
  {
   "cell_type": "code",
   "execution_count": null,
   "metadata": {
    "id": "b4iXbLaSl_hz",
    "lang": "tr"
   },
   "outputs": [],
   "source": [
    "df_age_ss[\"cluster_Kmeans\"] = kmeans.fit_predict(X_age_ss) #kmeans.labels_\n",
    "\n",
    "# Add cluster_Kmeans as a column to df_age_ss."
   ]
  },
  {
   "cell_type": "code",
   "execution_count": null,
   "metadata": {
    "id": "eAaf4pDVl_hz",
    "outputId": "ead62c17-6799-4a53-b563-2d3c856adcc6"
   },
   "outputs": [],
   "source": [
    "df_age_ss"
   ]
  },
  {
   "cell_type": "markdown",
   "metadata": {
    "id": "edi71PM5U-sT"
   },
   "source": [
    "#### *iv. Visualizing and Labeling All the Clusters*"
   ]
  },
  {
   "cell_type": "code",
   "execution_count": null,
   "metadata": {
    "id": "Yb6q473lU-sT",
    "lang": "tr",
    "outputId": "046d26c7-d8c1-4fd4-9a09-aa89c3e437e0"
   },
   "outputs": [],
   "source": [
    "plt.figure(figsize=(14,8))\n",
    "sns.scatterplot(x='Age',\n",
    "                y='Spending_Score',\n",
    "                hue='cluster_Kmeans',\n",
    "                data=df_age_ss,\n",
    "                palette=\"bright\")\n",
    "centers = kmeans.cluster_centers_\n",
    "plt.scatter(centers[:, 0],\n",
    "            centers[:, 1],\n",
    "            c='black',\n",
    "            s=300,\n",
    "            alpha=0.5)\n",
    "# We look at clusters and centroids formed by age and spending score."
   ]
  },
  {
   "cell_type": "code",
   "execution_count": null,
   "metadata": {
    "id": "JqguomyTfGI8",
    "lang": "tr"
   },
   "outputs": [],
   "source": [
    "# People show certain shopping behaviors in certain age periods.\n",
    "# Therefore, the campaigns we will apply to cluster_0 and cluster_3 will not be the same."
   ]
  },
  {
   "cell_type": "markdown",
   "metadata": {
    "id": "YZXtAvtEAJnW"
   },
   "source": [
    "### Clustering based on Annual Income and Spending Score"
   ]
  },
  {
   "cell_type": "markdown",
   "metadata": {
    "id": "hCM7GG4QU-sT"
   },
   "source": [
    "#### *i. Create a new dataset with two variables of your choice*"
   ]
  },
  {
   "cell_type": "code",
   "execution_count": null,
   "metadata": {
    "id": "ukhz2Zd_U-sT",
    "outputId": "4a9ace79-eb08-4892-8cb8-940635d50851"
   },
   "outputs": [],
   "source": [
    "X_ai_ss = df[['Annual_Income','Spending_Score']]\n",
    "X_ai_ss.head()"
   ]
  },
  {
   "cell_type": "code",
   "execution_count": null,
   "metadata": {
    "id": "WN1oQ4ycl_h0",
    "outputId": "ed98a59f-e388-4a8f-e7f3-8710a862d6f7"
   },
   "outputs": [],
   "source": [
    "hopkins(X_ai_ss, 1)"
   ]
  },
  {
   "cell_type": "markdown",
   "metadata": {
    "id": "hvsbVZbhU-sU"
   },
   "source": [
    "#### *ii. Determine optimal number of clusters*"
   ]
  },
  {
   "cell_type": "code",
   "execution_count": null,
   "metadata": {
    "id": "QK8EioFhfGI9",
    "lang": "tr",
    "outputId": "5fd8134b-dfa5-4b1a-f3cb-0b18e9a9cf0b"
   },
   "outputs": [],
   "source": [
    "sns.pairplot(X_ai_ss)\n",
    "# We look at the distributions of Annual_Income and Spending_Score."
   ]
  },
  {
   "cell_type": "markdown",
   "metadata": {
    "id": "MByu0TZhPLLu"
   },
   "source": [
    "### inertia"
   ]
  },
  {
   "cell_type": "code",
   "execution_count": null,
   "metadata": {
    "id": "PyRJOqpeU-sU",
    "outputId": "3da65d37-79db-4b8b-b080-59fb1ae97141"
   },
   "outputs": [],
   "source": [
    "ssd =[]\n",
    "for n in range(2,11):\n",
    "    kmeans=KMeans(n_clusters=n, random_state=42)\n",
    "    kmeans.fit(X_ai_ss)\n",
    "    ssd.append(kmeans.inertia_) # distances from each observation to each cluster centroid\n",
    "plt.figure(figsize=(10,6))\n",
    "plt.plot(range(2, 11), ssd, \"bo-\", markersize=14.0)\n",
    "plt.title('The Elbow Method')\n",
    "plt.xlabel('Number of Clusters')\n",
    "plt.ylabel('ssd')\n",
    "plt.show()"
   ]
  },
  {
   "cell_type": "markdown",
   "metadata": {
    "id": "H1WrKd6fPLLu"
   },
   "source": [
    "### distortion"
   ]
  },
  {
   "cell_type": "code",
   "execution_count": null,
   "metadata": {
    "id": "V3grgrwJl_h1",
    "outputId": "270ba65a-9f3e-438d-afdc-25a49afc2827"
   },
   "outputs": [],
   "source": [
    "K = range(2, 10)\n",
    "distortion = []\n",
    "for k in K:\n",
    "    kmeanModel = KMeans(n_clusters=k, random_state=42)\n",
    "    kmeanModel.fit(X_ai_ss)\n",
    "    distances = kmeanModel.transform(X_ai_ss) # distances from each observation to each cluster centroid\n",
    "    labels = kmeanModel.labels_\n",
    "    result = []\n",
    "    for i in range(k):\n",
    "        cluster_distances = distances[labels == i, i] # distances from observations in each cluster to their own centroid\n",
    "        result.append(np.mean(cluster_distances ** 2)) # calculate the mean of squared distances from observations in each cluster to their own centroid and add it to the result list\n",
    "    distortion.append(sum(result)) # sum the means of all clusters and add it to the distortion list\n",
    "\n",
    "plt.figure(figsize=(10,6))\n",
    "plt.plot(K, distortion, \"r*--\", markersize=14.0)\n",
    "plt.xlabel(\"Different k values\")\n",
    "plt.ylabel(\"distortion\")\n",
    "plt.title(\"elbow method\")"
   ]
  },
  {
   "cell_type": "markdown",
   "metadata": {
    "id": "5rYFyu8LPLLu"
   },
   "source": [
    "### silhouette_score"
   ]
  },
  {
   "cell_type": "code",
   "execution_count": null,
   "metadata": {
    "id": "FCQAtx-6l_h2",
    "outputId": "d89a8772-2ee2-4035-edcb-3a617c6c7483"
   },
   "outputs": [],
   "source": [
    "from sklearn.metrics import silhouette_score\n",
    "\n",
    "range_n_clusters = range(2, 11)\n",
    "for num_clusters in range_n_clusters:\n",
    "    # intialise kmeans\n",
    "    kmeans = KMeans(n_clusters=num_clusters, random_state=42)\n",
    "    kmeans.fit(X_ai_ss)\n",
    "    cluster_labels = kmeans.labels_\n",
    "    # silhouette score\n",
    "    silhouette_avg = silhouette_score(X_ai_ss, cluster_labels)\n",
    "    print(\n",
    "        f\"For n_clusters={num_clusters}, the silhouette score is {silhouette_avg}\"\n",
    "    )"
   ]
  },
  {
   "cell_type": "markdown",
   "metadata": {
    "id": "4Gv97ndhPLLu"
   },
   "source": [
    "### silhouette_score of each cluster"
   ]
  },
  {
   "cell_type": "code",
   "execution_count": null,
   "metadata": {
    "id": "7r5ciz8Ul_h1",
    "outputId": "a2fb0378-2c00-4e94-8414-7136d6b053fa"
   },
   "outputs": [],
   "source": [
    "model4 = KMeans(n_clusters=5, random_state=42)\n",
    "visualizer = SilhouetteVisualizer(model4)\n",
    "\n",
    "visualizer.fit(X_ai_ss)  # Fit the data to the visualizer\n",
    "visualizer.poof()"
   ]
  },
  {
   "cell_type": "code",
   "execution_count": null,
   "metadata": {
    "id": "DZS0AZMxfGI-",
    "lang": "tr"
   },
   "outputs": [],
   "source": [
    "# The number of samples of cluster 0 is higher than other clusters"
   ]
  },
  {
   "cell_type": "code",
   "execution_count": null,
   "metadata": {
    "id": "xaIYPe4ql_h1",
    "outputId": "76053c4e-0faa-4daf-d95d-c38408eebef3"
   },
   "outputs": [],
   "source": [
    "#model3.n_clusters\n",
    "\n",
    "for i in range(model4.n_clusters):\n",
    "    label = (model4.labels_ == i)\n",
    "    print(\n",
    "        f\"mean silhouette score for label {i:<4} : {visualizer.silhouette_samples_[label].mean()}\"\n",
    "    )\n",
    "print(f\"mean silhouette score for all labels : {visualizer.silhouette_score_}\")"
   ]
  },
  {
   "cell_type": "markdown",
   "metadata": {
    "id": "XAy3q6uWU-sU"
   },
   "source": [
    "#### *iii. Apply K Means*"
   ]
  },
  {
   "cell_type": "code",
   "execution_count": null,
   "metadata": {
    "id": "qMdE5fy9U-sW",
    "outputId": "b7c3b82b-c9db-4d4b-bca2-a9a4361ce313"
   },
   "outputs": [],
   "source": [
    "kmeans2 = KMeans(n_clusters=5, random_state=42)\n",
    "kmeans2.fit_predict(X_ai_ss)"
   ]
  },
  {
   "cell_type": "code",
   "execution_count": null,
   "metadata": {
    "id": "AoMydwwGfGI-",
    "outputId": "75887d4f-1129-4447-9062-802b187522d6"
   },
   "outputs": [],
   "source": [
    "df_ai_ss = X_ai_ss.copy()\n",
    "df_ai_ss.head()"
   ]
  },
  {
   "cell_type": "code",
   "execution_count": null,
   "metadata": {
    "id": "Pqc_WfVml_h2",
    "outputId": "2e33ee2c-c240-4b7d-8f00-c21ed94bb432"
   },
   "outputs": [],
   "source": [
    "df_ai_ss['cluster_Kmeans'] = kmeans2.fit_predict(X_ai_ss) #kmeans2.labels_\n",
    "df_ai_ss"
   ]
  },
  {
   "cell_type": "markdown",
   "metadata": {
    "id": "djypW4gIU-sW"
   },
   "source": [
    "#### *iv. Visualizing and Labeling All the Clusters*"
   ]
  },
  {
   "cell_type": "code",
   "execution_count": null,
   "metadata": {
    "id": "XnplKRQLU-sX",
    "lang": "tr",
    "outputId": "9e4d045b-02b4-4281-e263-d6fddb8c08c6"
   },
   "outputs": [],
   "source": [
    "plt.figure(figsize=(15, 9))\n",
    "sns.scatterplot(x='Annual_Income',\n",
    "                y='Spending_Score',\n",
    "                hue='cluster_Kmeans',\n",
    "                data=df_ai_ss,\n",
    "                palette=\"bright\")\n",
    "centers = kmeans2.cluster_centers_\n",
    "plt.scatter(centers[:, 0],\n",
    "            centers[:, 1],\n",
    "            c='black',\n",
    "            s=300,\n",
    "            alpha=0.5)\n",
    "\n",
    "# We look at the clusters and centroids formed according to Annual_Income and Spending_Score."
   ]
  },
  {
   "cell_type": "markdown",
   "metadata": {
    "id": "8o6I0cgJfGI_",
    "lang": "en"
   },
   "source": [
    "#### We have made our inferences on the Kmeans algorithm so far, and we will take and compare the results with another clustering algorithm, Hierarchical Clustering:\n",
    "\n",
    "\n",
    "### The point we need to pay attention to is the number of clusters in kmeans so that we can find the differences."
   ]
  },
  {
   "cell_type": "markdown",
   "metadata": {
    "id": "maXWsmMXXp1M"
   },
   "source": [
    "### Hierarchical Clustering"
   ]
  },
  {
   "cell_type": "markdown",
   "metadata": {
    "id": "6f9Xkw7hX3WL"
   },
   "source": [
    "### *i. Determine optimal number of clusters using Dendogram*"
   ]
  },
  {
   "cell_type": "markdown",
   "metadata": {
    "id": "W1VQcyzWl_h5"
   },
   "source": [
    "### Clustering based on Age and Spending Score"
   ]
  },
  {
   "cell_type": "code",
   "execution_count": null,
   "metadata": {
    "id": "IPwnZi9ZfGI_",
    "outputId": "80637bbe-32e5-4607-989c-da895361313c"
   },
   "outputs": [],
   "source": [
    "X_age_ss"
   ]
  },
  {
   "cell_type": "code",
   "execution_count": null,
   "metadata": {
    "id": "ZnwTCDo4Xjge",
    "lang": "tr"
   },
   "outputs": [],
   "source": [
    "from scipy.cluster.hierarchy import linkage\n",
    "\n",
    "# In order to draw a dendrogram, it's not enough to give the data directly, we have to use linkage."
   ]
  },
  {
   "cell_type": "code",
   "execution_count": null,
   "metadata": {
    "id": "m9Q5l4Nql_h6"
   },
   "outputs": [],
   "source": [
    "from scipy.cluster.hierarchy import dendrogram"
   ]
  },
  {
   "cell_type": "markdown",
   "metadata": {
    "id": "AKr1PwNqPLLv"
   },
   "source": [
    "### Dendrogram"
   ]
  },
  {
   "cell_type": "code",
   "execution_count": null,
   "metadata": {
    "colab": {
     "referenced_widgets": [
      "b5370b0b39584122a7e55444eec154cc",
      "68ea3524c50c431994d4b89514fe318d",
      "806fdc24e0f24885ae544dbc3923aa71"
     ]
    },
    "id": "CExLovqVfGJA",
    "outputId": "10a7e5c4-b53f-4806-ca89-88cb8e1e476e"
   },
   "outputs": [],
   "source": [
    "@interact(method=[\"ward\", \"complete\", \"average\", \"single\"])\n",
    "def dendogramer(method):\n",
    "    link = linkage(y=X_age_ss, method=method)\n",
    "    plt.figure(figsize=(20, 10))\n",
    "    plt.title(\"Dendogram\")\n",
    "    plt.xlabel(\"Observations\")\n",
    "    plt.ylabel(\"Distance\")\n",
    "    dendrogram(link,\n",
    "               truncate_mode=\"lastp\",\n",
    "               p=10,\n",
    "               show_contracted=True,\n",
    "               leaf_font_size=10)"
   ]
  },
  {
   "cell_type": "markdown",
   "metadata": {
    "id": "2TsruB0afGJA",
    "lang": "en"
   },
   "source": [
    "* Let's pay attention to the scales."
   ]
  },
  {
   "cell_type": "code",
   "execution_count": null,
   "metadata": {
    "id": "9XmcKi3YfGJA",
    "lang": "tr"
   },
   "outputs": [],
   "source": [
    "# Recommended us 2 clusters, but considering the distances between clusters, it recommends 2 . For that reason ;\n",
    "# Let's take some advice by looking at silhouette_scores:"
   ]
  },
  {
   "cell_type": "markdown",
   "metadata": {
    "id": "uq3Yfz99PLLv"
   },
   "source": [
    "### silhouette_score"
   ]
  },
  {
   "cell_type": "code",
   "execution_count": null,
   "metadata": {
    "id": "LRB8gxZLl_h6",
    "outputId": "d4b7a61a-4163-435e-93ac-00266d6c8a4b"
   },
   "outputs": [],
   "source": [
    "range_n_clusters = range(2, 11)\n",
    "for num_clusters in range_n_clusters:\n",
    "    # intialise kmeans\n",
    "    Agg_model = AgglomerativeClustering(n_clusters=num_clusters)\n",
    "    Agg_model.fit(X_age_ss)\n",
    "    cluster_labels = Agg_model.labels_\n",
    "    # silhouette score\n",
    "    silhouette_avg = silhouette_score(X_age_ss, cluster_labels)\n",
    "    print(\n",
    "        f\"For n_clusters={num_clusters}, the silhouette score is {silhouette_avg}\"\n",
    "    )"
   ]
  },
  {
   "cell_type": "markdown",
   "metadata": {
    "id": "E5b9XiRPl_h6"
   },
   "source": [
    "## Clustering based on Annual Income and Spending Score"
   ]
  },
  {
   "cell_type": "code",
   "execution_count": null,
   "metadata": {
    "id": "RR_MaqxLfGJB",
    "outputId": "6cb6a137-1f2e-4789-e265-27021c113f83"
   },
   "outputs": [],
   "source": [
    "X_ai_ss"
   ]
  },
  {
   "cell_type": "markdown",
   "metadata": {
    "id": "OKgikrOEPLLw"
   },
   "source": [
    "### Dendrogram"
   ]
  },
  {
   "cell_type": "code",
   "execution_count": null,
   "metadata": {
    "colab": {
     "referenced_widgets": [
      "ae34c694fcec4029bcef9876b761805a",
      "1f3e94ac34834999ad640b9104f1ad7f",
      "a4cc05a3d39c4f05ad04f814c92b2ef1"
     ]
    },
    "id": "6QGEZVoyfGJB",
    "outputId": "057c1de8-9a90-4f5b-8c3c-69cf8f289efd",
    "scrolled": false
   },
   "outputs": [],
   "source": [
    "@interact(method=[\"ward\", \"complete\", \"average\", \"single\"])\n",
    "def dendogramer(method):\n",
    "    link = linkage(y=X_ai_ss, method=method)\n",
    "    plt.figure(figsize=(20, 10))\n",
    "    plt.title(\"Dendogram\")\n",
    "    plt.xlabel(\"Observations\")\n",
    "    plt.ylabel(\"Distance\")\n",
    "    dendrogram(link,\n",
    "               truncate_mode=\"lastp\",\n",
    "               p=10,\n",
    "               show_contracted=True,\n",
    "               leaf_font_size=10)"
   ]
  },
  {
   "cell_type": "markdown",
   "metadata": {
    "id": "PhPP7wUsPLLw"
   },
   "source": [
    "### silhouette_score"
   ]
  },
  {
   "cell_type": "code",
   "execution_count": null,
   "metadata": {
    "id": "sZYJL_M4l_h7",
    "outputId": "dfb59c48-9018-498a-c1e9-3248f6a3844c"
   },
   "outputs": [],
   "source": [
    "range_n_clusters = range(2, 11)\n",
    "for num_clusters in range_n_clusters:\n",
    "    # intialise kmeans\n",
    "    Agg_model = AgglomerativeClustering(n_clusters=num_clusters)\n",
    "    Agg_model.fit(X_ai_ss)\n",
    "    cluster_labels = Agg_model.labels_\n",
    "    # silhouette score\n",
    "    silhouette_avg = silhouette_score(X_ai_ss, cluster_labels)\n",
    "    print(\n",
    "        f\"For n_clusters={num_clusters}, the silhouette score is {silhouette_avg}\"\n",
    "    )"
   ]
  },
  {
   "cell_type": "markdown",
   "metadata": {
    "id": "WtLdkjy8AJnb"
   },
   "source": [
    "### ii. *Apply Agglomerative Clustering*"
   ]
  },
  {
   "cell_type": "markdown",
   "metadata": {
    "id": "C1TkkGMwl_h7"
   },
   "source": [
    "#### Age and Spending Score"
   ]
  },
  {
   "cell_type": "code",
   "execution_count": null,
   "metadata": {
    "id": "eENMjJaXfGJB",
    "outputId": "bd7556d5-73b4-4194-e55d-b97e23dc2c4e"
   },
   "outputs": [],
   "source": [
    "X_age_ss"
   ]
  },
  {
   "cell_type": "code",
   "execution_count": null,
   "metadata": {
    "id": "H7mcSrT-YC-C",
    "lang": "tr"
   },
   "outputs": [],
   "source": [
    "Agg1 = AgglomerativeClustering(n_clusters=4,affinity=\"euclidean\", linkage=\"ward\")  #older sklearn\n",
    "\n",
    "#Agg1 = AgglomerativeClustering(n_clusters=4,metric=\"euclidean\", linkage=\"ward\")  #newer sklearn\n",
    "                               # If linkage = \"ward\" then metric='euclidean' is required.\n",
    "# originating from the formulation of variance...\n",
    "\n",
    "y_agg = Agg1.fit_predict(X_age_ss)"
   ]
  },
  {
   "cell_type": "code",
   "execution_count": null,
   "metadata": {
    "id": "U42ujymyfGJB",
    "outputId": "f2f31609-0782-4295-ef19-c69af7db2782"
   },
   "outputs": [],
   "source": [
    "df_age_ss"
   ]
  },
  {
   "cell_type": "code",
   "execution_count": null,
   "metadata": {
    "id": "4fQsINQol_h7",
    "outputId": "88c7288e-39fb-4d90-f389-bc57bbf8f5d6"
   },
   "outputs": [],
   "source": [
    "df_age_ss['cluster_Agg'] = y_agg\n",
    "df_age_ss.head()"
   ]
  },
  {
   "cell_type": "markdown",
   "metadata": {
    "id": "J1WYJAZxl_h7"
   },
   "source": [
    "#### Annual Income and Spending Score"
   ]
  },
  {
   "cell_type": "code",
   "execution_count": null,
   "metadata": {
    "id": "r-1AwEQ7fGJC",
    "outputId": "89d370b6-9d16-4ba0-9e89-f46d802f4828"
   },
   "outputs": [],
   "source": [
    "X_ai_ss"
   ]
  },
  {
   "cell_type": "code",
   "execution_count": null,
   "metadata": {
    "id": "opwOJhaQl_h8"
   },
   "outputs": [],
   "source": [
    "#Agg2 = AgglomerativeClustering(n_clusters=5,metric='euclidean', linkage='ward') #newer sklearn\n",
    "\n",
    "Agg2 = AgglomerativeClustering(n_clusters=5, affinity='euclidean', linkage='ward') #older sklearn\n",
    "y_agg2 = Agg2.fit_predict(X_ai_ss)"
   ]
  },
  {
   "cell_type": "code",
   "execution_count": null,
   "metadata": {
    "id": "xtxjpA4ZfGJC",
    "outputId": "7fc27499-a207-49fa-dee7-64b461f81718"
   },
   "outputs": [],
   "source": [
    "df_ai_ss"
   ]
  },
  {
   "cell_type": "code",
   "execution_count": null,
   "metadata": {
    "id": "lGXvYBAkl_h8",
    "outputId": "d62eed08-6acd-4c37-cac4-c03b765a6591"
   },
   "outputs": [],
   "source": [
    "df_ai_ss['cluster_Agg'] = y_agg2\n",
    "df_ai_ss.head()"
   ]
  },
  {
   "cell_type": "code",
   "execution_count": null,
   "metadata": {
    "id": "CSjOYQlCfGJC",
    "lang": "tr"
   },
   "outputs": [],
   "source": [
    "# labels are different but their locations are almost the same (cluster_Kmeans - cluster_Agg)"
   ]
  },
  {
   "cell_type": "markdown",
   "metadata": {
    "id": "Ph8dNKdyYDYR"
   },
   "source": [
    "### iii. *Visualizing and Labeling All the Clusters*"
   ]
  },
  {
   "cell_type": "markdown",
   "metadata": {
    "id": "xYex1lWMl_h8"
   },
   "source": [
    "#### Age and Spending Score"
   ]
  },
  {
   "cell_type": "code",
   "execution_count": null,
   "metadata": {
    "id": "y4dewywZfGJD",
    "outputId": "677b6853-2a6e-4871-a22a-192faea319ff"
   },
   "outputs": [],
   "source": [
    "df_age_ss"
   ]
  },
  {
   "cell_type": "code",
   "execution_count": null,
   "metadata": {
    "id": "2Jk_z0_qYKkl",
    "outputId": "80e0b406-9469-46f3-ea55-1c8e0a33c831"
   },
   "outputs": [],
   "source": [
    "plt.figure(figsize=(14, 9))\n",
    "sns.scatterplot(x='Age',\n",
    "                y='Spending_Score',\n",
    "                hue='cluster_Agg',\n",
    "                data=df_age_ss,\n",
    "                palette=\"bright\")"
   ]
  },
  {
   "cell_type": "code",
   "execution_count": null,
   "metadata": {
    "id": "9Zs3xzcnl_h8",
    "outputId": "eff08708-1e5b-4137-a70a-0acf4e17b705"
   },
   "outputs": [],
   "source": [
    "plt.figure(figsize=(20, 10))\n",
    "\n",
    "plt.subplot(121)\n",
    "sns.scatterplot(x='Age',\n",
    "                y='Spending_Score',\n",
    "                hue='cluster_Kmeans',\n",
    "                data=df_age_ss,\n",
    "                palette=['green', 'orange', 'brown', 'dodgerblue'])\n",
    "plt.title(\"K_means\")\n",
    "plt.subplot(122)\n",
    "sns.scatterplot(x='Age',\n",
    "                y='Spending_Score',\n",
    "                hue='cluster_Agg',\n",
    "                data=df_age_ss,\n",
    "                palette=['dodgerblue', 'green', 'orange', 'brown'])\n",
    "plt.title(\"Agg\");"
   ]
  },
  {
   "cell_type": "code",
   "execution_count": null,
   "metadata": {
    "id": "YAAEcX-_fGJD",
    "lang": "tr"
   },
   "outputs": [],
   "source": [
    "# Hierarchical Clustering has not drawn the cluster boundaries sharply.\n",
    "# It is necessary to pay attention to this. Kmeans is better separated."
   ]
  },
  {
   "cell_type": "markdown",
   "metadata": {
    "id": "syagf9YIl_h8"
   },
   "source": [
    "#### Annual Income and Spending Score"
   ]
  },
  {
   "cell_type": "code",
   "execution_count": null,
   "metadata": {
    "id": "KP7xXDEIfGJD",
    "outputId": "744c0a49-1ed7-4bd1-e3fa-1af6a41751d5"
   },
   "outputs": [],
   "source": [
    "df_ai_ss"
   ]
  },
  {
   "cell_type": "code",
   "execution_count": null,
   "metadata": {
    "id": "8JBmUNqMl_h8",
    "outputId": "5a75890c-c833-4110-dec5-dab7f7fa652d"
   },
   "outputs": [],
   "source": [
    "plt.figure(figsize=(14,9))\n",
    "sns.scatterplot(x='Annual_Income',\n",
    "                y='Spending_Score',\n",
    "                hue='cluster_Agg',\n",
    "                data=df_ai_ss ,\n",
    "                palette=\"bright\")"
   ]
  },
  {
   "cell_type": "code",
   "execution_count": null,
   "metadata": {
    "id": "FYnFEEN7l_h8",
    "outputId": "24d00df0-aa58-461c-9435-1d608697b9c1"
   },
   "outputs": [],
   "source": [
    "plt.figure(figsize=(20, 8))\n",
    "\n",
    "plt.subplot(121)\n",
    "sns.scatterplot(x='Annual_Income',\n",
    "                y='Spending_Score',\n",
    "                hue='cluster_Kmeans',\n",
    "                data=df_ai_ss,\n",
    "                palette=['green', 'orange', 'brown', 'dodgerblue', 'red'])\n",
    "plt.title(\"K_means\")\n",
    "plt.subplot(122)\n",
    "sns.scatterplot(x='Annual_Income',\n",
    "                y='Spending_Score',\n",
    "                hue='cluster_Agg',\n",
    "                data=df_ai_ss,\n",
    "                palette=['orange', 'green', 'red', 'dodgerblue', 'brown'])\n",
    "plt.title(\"Agg\")"
   ]
  },
  {
   "cell_type": "code",
   "execution_count": null,
   "metadata": {
    "id": "oeVIvm1EfGJE",
    "lang": "tr"
   },
   "outputs": [],
   "source": [
    "# There are healthier transitions in Kmeans\n",
    "# We chose the Kmeans algorithm finally"
   ]
  },
  {
   "cell_type": "markdown",
   "metadata": {
    "id": "O4cSAMbxl_h8"
   },
   "source": [
    "#### Interpretation based on Age and Spending Score"
   ]
  },
  {
   "cell_type": "code",
   "execution_count": null,
   "metadata": {
    "id": "R9bG4sAZfGJE",
    "outputId": "05dfadc9-06b6-497e-a00f-2c3c9f2ba37a"
   },
   "outputs": [],
   "source": [
    "df_age_ss"
   ]
  },
  {
   "cell_type": "code",
   "execution_count": null,
   "metadata": {
    "id": "Si1iypJcl_h9",
    "outputId": "ee43ca0e-b1ab-4cbd-c088-80d6573986d4"
   },
   "outputs": [],
   "source": [
    "# lets see the number of poeple lie in each group\n",
    "plt.title(\"clusters with the number of customers\")\n",
    "plt.xlabel(\"clusters\")\n",
    "plt.ylabel(\"Count\")\n",
    "ax = df_age_ss.cluster_Kmeans.value_counts().plot(kind='bar')\n",
    "ax.bar_label(ax.containers[0])"
   ]
  },
  {
   "cell_type": "code",
   "execution_count": null,
   "metadata": {
    "id": "4hTQYIxVl_h9",
    "lang": "tr",
    "outputId": "fef8803f-7a65-4d5c-fa69-71bf4a7a57c6"
   },
   "outputs": [],
   "source": [
    "df[\"cluster_Age_Spending_Score\"] = df_age_ss.cluster_Kmeans\n",
    "df.head()\n",
    "\n",
    "# We add clusters resulting from Kmeans to our df (age-spending score)"
   ]
  },
  {
   "cell_type": "code",
   "execution_count": null,
   "metadata": {
    "id": "N1ee-3oAl_h9",
    "lang": "tr",
    "outputId": "5c0e2c4d-0fb9-4ae2-e228-16a119c9999f"
   },
   "outputs": [],
   "source": [
    "plt.title(\"Men VS Women ratio in each cluster\")\n",
    "plt.ylabel(\"Count\")\n",
    "ax = sns.countplot(x=df.cluster_Age_Spending_Score, hue=df.Gender)\n",
    "for p in ax.containers:\n",
    "    ax.bar_label(p)\n",
    "# We count clusters according to gender."
   ]
  },
  {
   "cell_type": "code",
   "execution_count": null,
   "metadata": {
    "id": "S7_Evmp6fGJE",
    "lang": "tr"
   },
   "outputs": [],
   "source": [
    "# 2 and 3 clusters draw attention to the excess of women."
   ]
  },
  {
   "cell_type": "code",
   "execution_count": null,
   "metadata": {
    "id": "2U4vmydml_h9",
    "lang": "tr",
    "outputId": "949826d8-9e33-4cb2-b2b7-482026bd2a54"
   },
   "outputs": [],
   "source": [
    "df.groupby(\"cluster_Age_Spending_Score\").mean()\n",
    "# We group them according to the clusters formed."
   ]
  },
  {
   "cell_type": "code",
   "execution_count": null,
   "metadata": {
    "id": "u03bJ8bml_h9",
    "outputId": "a084b8c0-b18b-4317-c5e2-dfb8cad034f7"
   },
   "outputs": [],
   "source": [
    "plt.figure(figsize=(20, 6))\n",
    "\n",
    "plt.subplot(131)\n",
    "sns.boxplot(y=\"Age\", x=\"cluster_Age_Spending_Score\", data=df)\n",
    "sns.swarmplot(y=\"Age\",\n",
    "              x=\"cluster_Age_Spending_Score\",\n",
    "              data=df,\n",
    "              color=\"magenta\")\n",
    "\n",
    "plt.subplot(132)\n",
    "sns.boxplot(y=\"Annual_Income\", x=\"cluster_Age_Spending_Score\", data=df)\n",
    "sns.swarmplot(y=\"Annual_Income\",\n",
    "              x=\"cluster_Age_Spending_Score\",\n",
    "              data=df,\n",
    "              color=\"magenta\")\n",
    "\n",
    "plt.subplot(133)\n",
    "sns.boxplot(y=\"Spending_Score\", x=\"cluster_Age_Spending_Score\", data=df)\n",
    "sns.swarmplot(y=\"Spending_Score\",\n",
    "              x=\"cluster_Age_Spending_Score\",\n",
    "              data=df,\n",
    "              color=\"magenta\")"
   ]
  },
  {
   "cell_type": "code",
   "execution_count": null,
   "metadata": {
    "id": "aSDiLFxgl_h-",
    "lang": "tr",
    "outputId": "767c8062-d937-44f5-dfb4-f10c28b80999"
   },
   "outputs": [],
   "source": [
    "ax = df.groupby(\"cluster_Age_Spending_Score\").mean().plot(kind='bar',\n",
    "                                                          figsize=(20, 6),\n",
    "                                                          fontsize=20)\n",
    "for p in ax.containers:\n",
    "    ax.bar_label(p, fmt=\"%.0f\", size=15)\n",
    "\n",
    "# Note that we are using df.groupby(\"cluster_Age_Spending_Score\").mean()."
   ]
  },
  {
   "cell_type": "markdown",
   "metadata": {
    "id": "6_plVudVl_h-"
   },
   "source": [
    "### Conclusion"
   ]
  },
  {
   "cell_type": "markdown",
   "metadata": {
    "id": "ykW0zzJel_h-"
   },
   "source": [
    "**cluster 0** : The average age is around 56. both annula_income and spending_scores are on average.\n",
    "It should be researched what can be done to direct to more spending.\n",
    "\n",
    "**cluster 1**: The average age is around 43. the annula_income is high but the spending_scores are very low.\n",
    "This group is our target audience and specific strategies should be developed to drive this group to spend.\n",
    "\n",
    "**cluster 2** :The average age is around 30. The annula_income is high and spending_scores are very high.\n",
    "This group consists of our loyal customers. Our company derives the main profit from this group. Very\n",
    "special promotions can be made in order not to miss it.    \n",
    "    \n",
    "**cluster 3**: The average age is around 28. Both annula_income and spending_scores are on average.\n",
    "It should be researched what can be done to direct to more spending."
   ]
  },
  {
   "cell_type": "markdown",
   "metadata": {
    "id": "P60VeKmll_h-"
   },
   "source": [
    "#### Interpretation based on Annual Income and Spending Score"
   ]
  },
  {
   "cell_type": "code",
   "execution_count": null,
   "metadata": {
    "id": "x6gyqHC6l_h-",
    "outputId": "394a6eff-8d9a-4c75-a8cb-4ccf04a3d0f5"
   },
   "outputs": [],
   "source": [
    "df_ai_ss"
   ]
  },
  {
   "cell_type": "code",
   "execution_count": null,
   "metadata": {
    "id": "rSk4ekP_l_h-",
    "outputId": "dc58c9d1-fdcd-45da-e216-e315bab920c8"
   },
   "outputs": [],
   "source": [
    "df_ai_ss.cluster_Kmeans.value_counts()"
   ]
  },
  {
   "cell_type": "code",
   "execution_count": null,
   "metadata": {
    "id": "hmyshrrul_h-",
    "outputId": "d96385fc-2ccf-45be-bda3-cc9b0827c402"
   },
   "outputs": [],
   "source": [
    "# lets see the number of poeple lie in each group\n",
    "plt.title(\"clusters with the number of customers\")\n",
    "plt.xlabel(\"clusters\")\n",
    "plt.ylabel(\"Count\")\n",
    "ax = df_ai_ss.cluster_Kmeans.value_counts().plot(kind='bar')\n",
    "ax.bar_label(ax.containers[0]);"
   ]
  },
  {
   "cell_type": "code",
   "execution_count": null,
   "metadata": {
    "id": "CG0yh2stl_h-",
    "outputId": "815132d1-4650-4eb2-e4fd-d837ae00a5e9"
   },
   "outputs": [],
   "source": [
    "df.head()"
   ]
  },
  {
   "cell_type": "code",
   "execution_count": null,
   "metadata": {
    "id": "0a5sisuyl_h-",
    "lang": "tr"
   },
   "outputs": [],
   "source": [
    "df.drop(columns=\"cluster_Age_Spending_Score\", inplace=True)\n",
    "\n",
    "# According to Annual_Income and Spending_Score,\n",
    "# we drop the cluster_Age_Spending_Score to get results according to the clusters we created with Kmeans."
   ]
  },
  {
   "cell_type": "code",
   "execution_count": null,
   "metadata": {
    "id": "9NIoK-35l_h-",
    "lang": "tr",
    "outputId": "237d10d1-e30f-4365-d622-9905901e34eb"
   },
   "outputs": [],
   "source": [
    "df[\"cluster_Annual_Income_Spending_Score\"] = df_ai_ss.cluster_Kmeans\n",
    "df.head()\n",
    "# Add cluster_Annual_Income_Spending_Score column."
   ]
  },
  {
   "cell_type": "code",
   "execution_count": null,
   "metadata": {
    "id": "irdzvFlsl_h_",
    "outputId": "b0338266-3dd1-46ce-b9a2-377b250f2928"
   },
   "outputs": [],
   "source": [
    "plt.title(\"Men VS Women ratio in each cluster\")\n",
    "plt.ylabel(\"Count\")\n",
    "ax =sns.countplot(x=df.cluster_Annual_Income_Spending_Score, hue=df.Gender)\n",
    "for p in ax.containers:\n",
    "    ax.bar_label(p)"
   ]
  },
  {
   "cell_type": "code",
   "execution_count": null,
   "metadata": {
    "id": "UihrHkd1l_h_",
    "lang": "tr",
    "outputId": "4b5b6cab-3895-4eae-c637-834d40f0a9f7"
   },
   "outputs": [],
   "source": [
    "df.groupby([\"Gender\", \"cluster_Annual_Income_Spending_Score\"]).mean()\n",
    "\n",
    "# here we group df by both Gender and cluster_Annual_Income_Spending_Score."
   ]
  },
  {
   "cell_type": "code",
   "execution_count": null,
   "metadata": {
    "id": "27CkMjXil_h_",
    "outputId": "dde58d90-12e6-4e39-cb71-36b0f53a1721"
   },
   "outputs": [],
   "source": [
    "plt.figure(figsize = (20,6))\n",
    "\n",
    "plt.subplot(131)\n",
    "sns.boxplot(y=\"Age\", x=\"cluster_Annual_Income_Spending_Score\",\n",
    "            hue= \"Gender\", data = df,palette=\"deep\",saturation=0.5)\n",
    "sns.swarmplot(y = \"Age\", x = \"cluster_Annual_Income_Spending_Score\",\n",
    "              hue= \"Gender\", data = df,palette=sns.color_palette(\"Paired\"))\n",
    "\n",
    "plt.subplot(132)\n",
    "sns.boxplot(y=\"Annual_Income\", x=\"cluster_Annual_Income_Spending_Score\",\n",
    "            hue=\"Gender\", data = df, palette=\"deep\",saturation=0.5)\n",
    "sns.swarmplot(y = \"Annual_Income\", x = \"cluster_Annual_Income_Spending_Score\",\n",
    "              hue= \"Gender\", data = df,palette=sns.color_palette(\"Paired\"))\n",
    "\n",
    "plt.subplot(133)\n",
    "sns.boxplot(y=\"Spending_Score\", x=\"cluster_Annual_Income_Spending_Score\",\n",
    "            hue=\"Gender\", data=df, palette=\"deep\",saturation=0.5);\n",
    "sns.swarmplot(y = \"Spending_Score\", x = \"cluster_Annual_Income_Spending_Score\",\n",
    "              hue= \"Gender\", data = df,palette=sns.color_palette(\"Paired\"))"
   ]
  },
  {
   "cell_type": "code",
   "execution_count": null,
   "metadata": {
    "id": "jwdCzmFJl_h_",
    "outputId": "08fbabf0-c55a-415c-9913-31ca643038f3"
   },
   "outputs": [],
   "source": [
    "ax = df.groupby([\"Gender\", \"cluster_Annual_Income_Spending_Score\"]).mean().plot(kind=\"bar\",\n",
    "                                                                                figsize=(20,6),\n",
    "                                                                                fontsize=20)\n",
    "for p in ax.containers:\n",
    "    ax.bar_label(p, fmt=\"%.0f\", size=14)"
   ]
  },
  {
   "cell_type": "markdown",
   "metadata": {
    "id": "JGuMuE4-l_h_"
   },
   "source": [
    "## Conclusion"
   ]
  },
  {
   "cell_type": "markdown",
   "metadata": {
    "id": "DEdRZ53yl_h_"
   },
   "source": [
    "### Female\n",
    "\n",
    "**cluster 0** : The average age is around 41, both annual_income and spending_scores are on average.\n",
    "It should be researched what can be done to direct more spending.\n",
    "\n",
    "**cluster 1**: The average age is around 43, the annual_income is very high but the spending_scores is low.\n",
    "This group is our target audience and special strategies need to be developed for this group.    \n",
    "\n",
    "**cluster 2** :The average age is around 43. Both annual_income and spending_scores are low. It can be\n",
    "directed to shopping with gift certificates.\n",
    "\n",
    "**cluster 3**: The average age is around 25. Low annual_incomes but very high spending scores. This\n",
    "group does a lot of shopping, but they do not bring much profit.\n",
    "\n",
    "**cluster 4**: The average age is around 32, the annual income and the spending_score\n",
    "is very high. This group consists of our loyal customers. Our company derives the main profit from this group.\n",
    "Very special promotions can be made in order not to miss it."
   ]
  },
  {
   "cell_type": "markdown",
   "metadata": {
    "id": "bnwu21O4l_iA"
   },
   "source": [
    "### Male\n",
    "\n",
    "**cluster 0** : The average age is around 45, both annual_income and spending_scores are on average.\n",
    "It should be researched what can be done to direct more spending.\n",
    "\n",
    "**cluster 1**: The average age is around 39, the annual_income is very high but the spending_scores is very low.\n",
    "This group is our target audience and special strategies need to be developed for this group.    \n",
    "\n",
    "**cluster 2** :The average age is around 48. Both annual_income and spending_scores are low. It can be\n",
    "directed to shopping with gift certificates.\n",
    "\n",
    "**cluster 3**: The average age is around 25. Low annual_incomes but very high spending scores. This\n",
    "group does a lot of shopping, but they do not bring much profit.\n",
    "\n",
    "**cluster 4**: The average age is around 33, the annual income and the spending_score\n",
    "is very high. This group consists of our loyal customers. Our company derives the main profit from this group.\n",
    "Very special promotions can be made in order not to miss it."
   ]
  },
  {
   "cell_type": "code",
   "execution_count": null,
   "metadata": {
    "id": "a5CF1cQvl_iA",
    "outputId": "c43f5307-309f-4d6f-e291-4218e6c7d487"
   },
   "outputs": [],
   "source": [
    "ax = df.groupby(\"cluster_Annual_Income_Spending_Score\").mean().plot(kind='bar', figsize = (20,6))\n",
    "for p in ax.containers:\n",
    "    ax.bar_label(p, fmt=\"%.0f\")"
   ]
  },
  {
   "cell_type": "markdown",
   "metadata": {
    "id": "1_qMn4KDl_iA"
   },
   "source": [
    "**cluster 0** : The average age is around 43, both annual_income and spending_scores are on average.\n",
    "It should be researched what can be done to direct more spending.\n",
    "\n",
    "**cluster 1**: The average age is around 41, the annual_income is very high but the spending_scores is very low. This group is our target audience and special strategies need to be developed for this group.\n",
    "\n",
    "**cluster 2** :The average age is around 45. Both annual_income and spending_scores are low. It can be\n",
    "directed to shopping with gift certificates.\n",
    "\n",
    "**cluster 3**: The average age is around 25. Low annual_incomes but very high spending scores. This\n",
    "group does a lot of shopping, but they do not bring much profit.\n",
    "\n",
    "**cluster 4**: The average age is around 33, the annual income and the spending_score is very high. This group consists of our loyal customers. Our company derives the main profit from this group. Very special promotions can be made in order not to miss it."
   ]
  },
  {
   "cell_type": "markdown",
   "metadata": {
    "id": "lkzS_l5lU-sX"
   },
   "source": [
    "___\n",
    "\n",
    "<p style=\"text-align: center;\"><img src=\"https://docs.google.com/uc?id=1lY0Uj5R04yMY3-ZppPWxqCr5pvBLYPnV\" class=\"img-fluid\" alt=\"CLRSWY\"></p>\n",
    "\n",
    "___"
   ]
  }
 ],
 "metadata": {
  "colab": {
   "provenance": []
  },
  "kernelspec": {
   "display_name": "Python 3 (ipykernel)",
   "language": "python",
   "name": "python3"
  },
  "language_info": {
   "codemirror_mode": {
    "name": "ipython",
    "version": 3
   },
   "file_extension": ".py",
   "mimetype": "text/x-python",
   "name": "python",
   "nbconvert_exporter": "python",
   "pygments_lexer": "ipython3",
   "version": "3.7.3"
  },
  "nbTranslate": {
   "displayLangs": [
    "en",
    "tr"
   ],
   "hotkey": "alt-t",
   "langInMainMenu": true,
   "sourceLang": "tr",
   "targetLang": "en",
   "useGoogleTranslate": true
  },
  "toc": {
   "base_numbering": 1,
   "nav_menu": {},
   "number_sections": true,
   "sideBar": true,
   "skip_h1_title": false,
   "title_cell": "Table of Contents",
   "title_sidebar": "Contents",
   "toc_cell": false,
   "toc_position": {
    "height": "calc(100% - 180px)",
    "left": "10px",
    "top": "150px",
    "width": "350.641px"
   },
   "toc_section_display": true,
   "toc_window_display": false
  },
  "varInspector": {
   "cols": {
    "lenName": 16,
    "lenType": 16,
    "lenVar": 40
   },
   "kernels_config": {
    "python": {
     "delete_cmd_postfix": "",
     "delete_cmd_prefix": "del ",
     "library": "var_list.py",
     "varRefreshCmd": "print(var_dic_list())"
    },
    "r": {
     "delete_cmd_postfix": ") ",
     "delete_cmd_prefix": "rm(",
     "library": "var_list.r",
     "varRefreshCmd": "cat(var_dic_list()) "
    }
   },
   "types_to_exclude": [
    "module",
    "function",
    "builtin_function_or_method",
    "instance",
    "_Feature"
   ],
   "window_display": false
  },
  "vscode": {
   "interpreter": {
    "hash": "9a4c4f48a7c69f416f6cf2655c5700f68b3ff724cce5aaacbc7bad0fd37e2def"
   }
  }
 },
 "nbformat": 4,
 "nbformat_minor": 1
}
