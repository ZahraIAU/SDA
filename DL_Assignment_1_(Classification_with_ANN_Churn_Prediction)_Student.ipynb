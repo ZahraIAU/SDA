{
  "cells": [
    {
      "cell_type": "markdown",
      "id": "bb7b5297",
      "metadata": {
        "papermill": {
          "duration": 0.149353,
          "end_time": "2022-03-13T16:33:15.972259",
          "exception": false,
          "start_time": "2022-03-13T16:33:15.822906",
          "status": "completed"
        },
        "tags": [],
        "id": "bb7b5297"
      },
      "source": [
        "___\n",
        "\n",
        "<p style=\"text-align: center;\"><img src=\"https://docs.google.com/uc?id=1lY0Uj5R04yMY3-ZppPWxqCr5pvBLYPnV\" class=\"img-fluid\" alt=\"CLRSWY\"></p>\n",
        "\n",
        "___"
      ]
    },
    {
      "cell_type": "markdown",
      "id": "daac7f6c",
      "metadata": {
        "papermill": {
          "duration": 0.08049,
          "end_time": "2022-03-13T16:33:16.150241",
          "exception": false,
          "start_time": "2022-03-13T16:33:16.069751",
          "status": "completed"
        },
        "tags": [],
        "id": "daac7f6c"
      },
      "source": [
        "<h1 style=\"text-align: center;\">Deep Learning<br><br>Assignment-1 (ANN)<br><br>Churn Prediction for Bank Customer<br><h1>"
      ]
    },
    {
      "cell_type": "markdown",
      "id": "7b5153da",
      "metadata": {
        "cell_style": "center",
        "papermill": {
          "duration": 0.079124,
          "end_time": "2022-03-13T16:33:16.795090",
          "exception": false,
          "start_time": "2022-03-13T16:33:16.715966",
          "status": "completed"
        },
        "tags": [],
        "id": "7b5153da"
      },
      "source": [
        "## Import  libraries & data"
      ]
    },
    {
      "cell_type": "code",
      "execution_count": 7,
      "id": "bf3892e7",
      "metadata": {
        "cell_style": "center",
        "execution": {
          "iopub.execute_input": "2022-03-13T16:33:18.131665Z",
          "iopub.status.busy": "2022-03-13T16:33:18.130839Z",
          "iopub.status.idle": "2022-03-13T16:33:23.926896Z",
          "shell.execute_reply": "2022-03-13T16:33:23.925653Z",
          "shell.execute_reply.started": "2022-03-13T16:21:21.027408Z"
        },
        "id": "bf3892e7",
        "papermill": {
          "duration": 5.881957,
          "end_time": "2022-03-13T16:33:23.927046",
          "exception": false,
          "start_time": "2022-03-13T16:33:18.045089",
          "status": "completed"
        },
        "tags": []
      },
      "outputs": [],
      "source": [
        "import numpy as np\n",
        "import pandas as pd\n",
        "import matplotlib.pyplot as plt\n",
        "import seaborn as sns\n",
        "\n",
        "from sklearn.compose import make_column_transformer\n",
        "from sklearn.preprocessing import OneHotEncoder, StandardScaler, RobustScaler, MinMaxScaler\n",
        "from sklearn.model_selection import train_test_split\n",
        "from sklearn.metrics import recall_score, classification_report, ConfusionMatrixDisplay,\\\n",
        "RocCurveDisplay, roc_auc_score,roc_curve\n",
        "from sklearn.utils.class_weight import compute_class_weight\n",
        "from scikeras.wrappers import KerasClassifier\n",
        "from sklearn.model_selection import cross_validate\n",
        "from sklearn.preprocessing import LabelEncoder\n",
        "\n",
        "import tensorflow as tf\n",
        "from tensorflow.keras.models import Sequential\n",
        "from tensorflow.keras.layers import Input, Dense, Activation, Dropout\n",
        "from tensorflow.keras.optimizers import Adam, Adadelta, RMSprop, Nadam\n",
        "from tensorflow.keras.callbacks import EarlyStopping\n",
        "from tensorflow.keras.models import load_model\n",
        "\n",
        "import pickle\n",
        "import warnings\n",
        "import os\n",
        "import optuna\n",
        "\n",
        "warnings.filterwarnings('ignore')\n",
        "os.environ['TF_CPP_MIN_LOG_LEVEL'] = '1'\n",
        "sns.set_style('whitegrid')"
      ]
    },
    {
      "cell_type": "code",
      "source": [
        "from google.colab import files\n",
        "uploaded = files.upload()\n"
      ],
      "metadata": {
        "colab": {
          "base_uri": "https://localhost:8080/",
          "height": 73
        },
        "id": "g5CpdbsY74EC",
        "outputId": "88d058f9-bb87-47ed-bbfe-913075185f18"
      },
      "id": "g5CpdbsY74EC",
      "execution_count": 8,
      "outputs": [
        {
          "output_type": "display_data",
          "data": {
            "text/plain": [
              "<IPython.core.display.HTML object>"
            ],
            "text/html": [
              "\n",
              "     <input type=\"file\" id=\"files-29bf55e0-9d92-42a3-98b5-7f0f54ca77df\" name=\"files[]\" multiple disabled\n",
              "        style=\"border:none\" />\n",
              "     <output id=\"result-29bf55e0-9d92-42a3-98b5-7f0f54ca77df\">\n",
              "      Upload widget is only available when the cell has been executed in the\n",
              "      current browser session. Please rerun this cell to enable.\n",
              "      </output>\n",
              "      <script>// Copyright 2017 Google LLC\n",
              "//\n",
              "// Licensed under the Apache License, Version 2.0 (the \"License\");\n",
              "// you may not use this file except in compliance with the License.\n",
              "// You may obtain a copy of the License at\n",
              "//\n",
              "//      http://www.apache.org/licenses/LICENSE-2.0\n",
              "//\n",
              "// Unless required by applicable law or agreed to in writing, software\n",
              "// distributed under the License is distributed on an \"AS IS\" BASIS,\n",
              "// WITHOUT WARRANTIES OR CONDITIONS OF ANY KIND, either express or implied.\n",
              "// See the License for the specific language governing permissions and\n",
              "// limitations under the License.\n",
              "\n",
              "/**\n",
              " * @fileoverview Helpers for google.colab Python module.\n",
              " */\n",
              "(function(scope) {\n",
              "function span(text, styleAttributes = {}) {\n",
              "  const element = document.createElement('span');\n",
              "  element.textContent = text;\n",
              "  for (const key of Object.keys(styleAttributes)) {\n",
              "    element.style[key] = styleAttributes[key];\n",
              "  }\n",
              "  return element;\n",
              "}\n",
              "\n",
              "// Max number of bytes which will be uploaded at a time.\n",
              "const MAX_PAYLOAD_SIZE = 100 * 1024;\n",
              "\n",
              "function _uploadFiles(inputId, outputId) {\n",
              "  const steps = uploadFilesStep(inputId, outputId);\n",
              "  const outputElement = document.getElementById(outputId);\n",
              "  // Cache steps on the outputElement to make it available for the next call\n",
              "  // to uploadFilesContinue from Python.\n",
              "  outputElement.steps = steps;\n",
              "\n",
              "  return _uploadFilesContinue(outputId);\n",
              "}\n",
              "\n",
              "// This is roughly an async generator (not supported in the browser yet),\n",
              "// where there are multiple asynchronous steps and the Python side is going\n",
              "// to poll for completion of each step.\n",
              "// This uses a Promise to block the python side on completion of each step,\n",
              "// then passes the result of the previous step as the input to the next step.\n",
              "function _uploadFilesContinue(outputId) {\n",
              "  const outputElement = document.getElementById(outputId);\n",
              "  const steps = outputElement.steps;\n",
              "\n",
              "  const next = steps.next(outputElement.lastPromiseValue);\n",
              "  return Promise.resolve(next.value.promise).then((value) => {\n",
              "    // Cache the last promise value to make it available to the next\n",
              "    // step of the generator.\n",
              "    outputElement.lastPromiseValue = value;\n",
              "    return next.value.response;\n",
              "  });\n",
              "}\n",
              "\n",
              "/**\n",
              " * Generator function which is called between each async step of the upload\n",
              " * process.\n",
              " * @param {string} inputId Element ID of the input file picker element.\n",
              " * @param {string} outputId Element ID of the output display.\n",
              " * @return {!Iterable<!Object>} Iterable of next steps.\n",
              " */\n",
              "function* uploadFilesStep(inputId, outputId) {\n",
              "  const inputElement = document.getElementById(inputId);\n",
              "  inputElement.disabled = false;\n",
              "\n",
              "  const outputElement = document.getElementById(outputId);\n",
              "  outputElement.innerHTML = '';\n",
              "\n",
              "  const pickedPromise = new Promise((resolve) => {\n",
              "    inputElement.addEventListener('change', (e) => {\n",
              "      resolve(e.target.files);\n",
              "    });\n",
              "  });\n",
              "\n",
              "  const cancel = document.createElement('button');\n",
              "  inputElement.parentElement.appendChild(cancel);\n",
              "  cancel.textContent = 'Cancel upload';\n",
              "  const cancelPromise = new Promise((resolve) => {\n",
              "    cancel.onclick = () => {\n",
              "      resolve(null);\n",
              "    };\n",
              "  });\n",
              "\n",
              "  // Wait for the user to pick the files.\n",
              "  const files = yield {\n",
              "    promise: Promise.race([pickedPromise, cancelPromise]),\n",
              "    response: {\n",
              "      action: 'starting',\n",
              "    }\n",
              "  };\n",
              "\n",
              "  cancel.remove();\n",
              "\n",
              "  // Disable the input element since further picks are not allowed.\n",
              "  inputElement.disabled = true;\n",
              "\n",
              "  if (!files) {\n",
              "    return {\n",
              "      response: {\n",
              "        action: 'complete',\n",
              "      }\n",
              "    };\n",
              "  }\n",
              "\n",
              "  for (const file of files) {\n",
              "    const li = document.createElement('li');\n",
              "    li.append(span(file.name, {fontWeight: 'bold'}));\n",
              "    li.append(span(\n",
              "        `(${file.type || 'n/a'}) - ${file.size} bytes, ` +\n",
              "        `last modified: ${\n",
              "            file.lastModifiedDate ? file.lastModifiedDate.toLocaleDateString() :\n",
              "                                    'n/a'} - `));\n",
              "    const percent = span('0% done');\n",
              "    li.appendChild(percent);\n",
              "\n",
              "    outputElement.appendChild(li);\n",
              "\n",
              "    const fileDataPromise = new Promise((resolve) => {\n",
              "      const reader = new FileReader();\n",
              "      reader.onload = (e) => {\n",
              "        resolve(e.target.result);\n",
              "      };\n",
              "      reader.readAsArrayBuffer(file);\n",
              "    });\n",
              "    // Wait for the data to be ready.\n",
              "    let fileData = yield {\n",
              "      promise: fileDataPromise,\n",
              "      response: {\n",
              "        action: 'continue',\n",
              "      }\n",
              "    };\n",
              "\n",
              "    // Use a chunked sending to avoid message size limits. See b/62115660.\n",
              "    let position = 0;\n",
              "    do {\n",
              "      const length = Math.min(fileData.byteLength - position, MAX_PAYLOAD_SIZE);\n",
              "      const chunk = new Uint8Array(fileData, position, length);\n",
              "      position += length;\n",
              "\n",
              "      const base64 = btoa(String.fromCharCode.apply(null, chunk));\n",
              "      yield {\n",
              "        response: {\n",
              "          action: 'append',\n",
              "          file: file.name,\n",
              "          data: base64,\n",
              "        },\n",
              "      };\n",
              "\n",
              "      let percentDone = fileData.byteLength === 0 ?\n",
              "          100 :\n",
              "          Math.round((position / fileData.byteLength) * 100);\n",
              "      percent.textContent = `${percentDone}% done`;\n",
              "\n",
              "    } while (position < fileData.byteLength);\n",
              "  }\n",
              "\n",
              "  // All done.\n",
              "  yield {\n",
              "    response: {\n",
              "      action: 'complete',\n",
              "    }\n",
              "  };\n",
              "}\n",
              "\n",
              "scope.google = scope.google || {};\n",
              "scope.google.colab = scope.google.colab || {};\n",
              "scope.google.colab._files = {\n",
              "  _uploadFiles,\n",
              "  _uploadFilesContinue,\n",
              "};\n",
              "})(self);\n",
              "</script> "
            ]
          },
          "metadata": {}
        },
        {
          "output_type": "stream",
          "name": "stdout",
          "text": [
            "Saving Churn_Modelling.csv to Churn_Modelling (1).csv\n"
          ]
        }
      ]
    },
    {
      "cell_type": "code",
      "execution_count": 9,
      "id": "ef6722a3",
      "metadata": {
        "execution": {
          "iopub.execute_input": "2022-03-13T16:33:24.094821Z",
          "iopub.status.busy": "2022-03-13T16:33:24.093885Z",
          "iopub.status.idle": "2022-03-13T16:33:24.164146Z",
          "shell.execute_reply": "2022-03-13T16:33:24.164742Z",
          "shell.execute_reply.started": "2022-03-13T16:21:25.568333Z"
        },
        "papermill": {
          "duration": 0.156369,
          "end_time": "2022-03-13T16:33:24.164911",
          "exception": false,
          "start_time": "2022-03-13T16:33:24.008542",
          "status": "completed"
        },
        "tags": [],
        "colab": {
          "base_uri": "https://localhost:8080/",
          "height": 143
        },
        "id": "ef6722a3",
        "outputId": "0df050ab-d9a9-4afd-832d-a83bb3613cdf"
      },
      "outputs": [
        {
          "output_type": "execute_result",
          "data": {
            "text/plain": [
              "   RowNumber  CustomerId   Surname  CreditScore Geography  Gender  Age  \\\n",
              "0          1    15634602  Hargrave          619    France  Female   42   \n",
              "1          2    15647311      Hill          608     Spain  Female   41   \n",
              "2          3    15619304      Onio          502    France  Female   42   \n",
              "\n",
              "   Tenure    Balance  NumOfProducts  HasCrCard  IsActiveMember  \\\n",
              "0       2       0.00              1          1               1   \n",
              "1       1   83807.86              1          0               1   \n",
              "2       8  159660.80              3          1               0   \n",
              "\n",
              "   EstimatedSalary  Exited  \n",
              "0        101348.88       1  \n",
              "1        112542.58       0  \n",
              "2        113931.57       1  "
            ],
            "text/html": [
              "\n",
              "  <div id=\"df-7bd98fb0-7c9d-429f-80ab-0fe13ef6b290\" class=\"colab-df-container\">\n",
              "    <div>\n",
              "<style scoped>\n",
              "    .dataframe tbody tr th:only-of-type {\n",
              "        vertical-align: middle;\n",
              "    }\n",
              "\n",
              "    .dataframe tbody tr th {\n",
              "        vertical-align: top;\n",
              "    }\n",
              "\n",
              "    .dataframe thead th {\n",
              "        text-align: right;\n",
              "    }\n",
              "</style>\n",
              "<table border=\"1\" class=\"dataframe\">\n",
              "  <thead>\n",
              "    <tr style=\"text-align: right;\">\n",
              "      <th></th>\n",
              "      <th>RowNumber</th>\n",
              "      <th>CustomerId</th>\n",
              "      <th>Surname</th>\n",
              "      <th>CreditScore</th>\n",
              "      <th>Geography</th>\n",
              "      <th>Gender</th>\n",
              "      <th>Age</th>\n",
              "      <th>Tenure</th>\n",
              "      <th>Balance</th>\n",
              "      <th>NumOfProducts</th>\n",
              "      <th>HasCrCard</th>\n",
              "      <th>IsActiveMember</th>\n",
              "      <th>EstimatedSalary</th>\n",
              "      <th>Exited</th>\n",
              "    </tr>\n",
              "  </thead>\n",
              "  <tbody>\n",
              "    <tr>\n",
              "      <th>0</th>\n",
              "      <td>1</td>\n",
              "      <td>15634602</td>\n",
              "      <td>Hargrave</td>\n",
              "      <td>619</td>\n",
              "      <td>France</td>\n",
              "      <td>Female</td>\n",
              "      <td>42</td>\n",
              "      <td>2</td>\n",
              "      <td>0.00</td>\n",
              "      <td>1</td>\n",
              "      <td>1</td>\n",
              "      <td>1</td>\n",
              "      <td>101348.88</td>\n",
              "      <td>1</td>\n",
              "    </tr>\n",
              "    <tr>\n",
              "      <th>1</th>\n",
              "      <td>2</td>\n",
              "      <td>15647311</td>\n",
              "      <td>Hill</td>\n",
              "      <td>608</td>\n",
              "      <td>Spain</td>\n",
              "      <td>Female</td>\n",
              "      <td>41</td>\n",
              "      <td>1</td>\n",
              "      <td>83807.86</td>\n",
              "      <td>1</td>\n",
              "      <td>0</td>\n",
              "      <td>1</td>\n",
              "      <td>112542.58</td>\n",
              "      <td>0</td>\n",
              "    </tr>\n",
              "    <tr>\n",
              "      <th>2</th>\n",
              "      <td>3</td>\n",
              "      <td>15619304</td>\n",
              "      <td>Onio</td>\n",
              "      <td>502</td>\n",
              "      <td>France</td>\n",
              "      <td>Female</td>\n",
              "      <td>42</td>\n",
              "      <td>8</td>\n",
              "      <td>159660.80</td>\n",
              "      <td>3</td>\n",
              "      <td>1</td>\n",
              "      <td>0</td>\n",
              "      <td>113931.57</td>\n",
              "      <td>1</td>\n",
              "    </tr>\n",
              "  </tbody>\n",
              "</table>\n",
              "</div>\n",
              "    <div class=\"colab-df-buttons\">\n",
              "\n",
              "  <div class=\"colab-df-container\">\n",
              "    <button class=\"colab-df-convert\" onclick=\"convertToInteractive('df-7bd98fb0-7c9d-429f-80ab-0fe13ef6b290')\"\n",
              "            title=\"Convert this dataframe to an interactive table.\"\n",
              "            style=\"display:none;\">\n",
              "\n",
              "  <svg xmlns=\"http://www.w3.org/2000/svg\" height=\"24px\" viewBox=\"0 -960 960 960\">\n",
              "    <path d=\"M120-120v-720h720v720H120Zm60-500h600v-160H180v160Zm220 220h160v-160H400v160Zm0 220h160v-160H400v160ZM180-400h160v-160H180v160Zm440 0h160v-160H620v160ZM180-180h160v-160H180v160Zm440 0h160v-160H620v160Z\"/>\n",
              "  </svg>\n",
              "    </button>\n",
              "\n",
              "  <style>\n",
              "    .colab-df-container {\n",
              "      display:flex;\n",
              "      gap: 12px;\n",
              "    }\n",
              "\n",
              "    .colab-df-convert {\n",
              "      background-color: #E8F0FE;\n",
              "      border: none;\n",
              "      border-radius: 50%;\n",
              "      cursor: pointer;\n",
              "      display: none;\n",
              "      fill: #1967D2;\n",
              "      height: 32px;\n",
              "      padding: 0 0 0 0;\n",
              "      width: 32px;\n",
              "    }\n",
              "\n",
              "    .colab-df-convert:hover {\n",
              "      background-color: #E2EBFA;\n",
              "      box-shadow: 0px 1px 2px rgba(60, 64, 67, 0.3), 0px 1px 3px 1px rgba(60, 64, 67, 0.15);\n",
              "      fill: #174EA6;\n",
              "    }\n",
              "\n",
              "    .colab-df-buttons div {\n",
              "      margin-bottom: 4px;\n",
              "    }\n",
              "\n",
              "    [theme=dark] .colab-df-convert {\n",
              "      background-color: #3B4455;\n",
              "      fill: #D2E3FC;\n",
              "    }\n",
              "\n",
              "    [theme=dark] .colab-df-convert:hover {\n",
              "      background-color: #434B5C;\n",
              "      box-shadow: 0px 1px 3px 1px rgba(0, 0, 0, 0.15);\n",
              "      filter: drop-shadow(0px 1px 2px rgba(0, 0, 0, 0.3));\n",
              "      fill: #FFFFFF;\n",
              "    }\n",
              "  </style>\n",
              "\n",
              "    <script>\n",
              "      const buttonEl =\n",
              "        document.querySelector('#df-7bd98fb0-7c9d-429f-80ab-0fe13ef6b290 button.colab-df-convert');\n",
              "      buttonEl.style.display =\n",
              "        google.colab.kernel.accessAllowed ? 'block' : 'none';\n",
              "\n",
              "      async function convertToInteractive(key) {\n",
              "        const element = document.querySelector('#df-7bd98fb0-7c9d-429f-80ab-0fe13ef6b290');\n",
              "        const dataTable =\n",
              "          await google.colab.kernel.invokeFunction('convertToInteractive',\n",
              "                                                    [key], {});\n",
              "        if (!dataTable) return;\n",
              "\n",
              "        const docLinkHtml = 'Like what you see? Visit the ' +\n",
              "          '<a target=\"_blank\" href=https://colab.research.google.com/notebooks/data_table.ipynb>data table notebook</a>'\n",
              "          + ' to learn more about interactive tables.';\n",
              "        element.innerHTML = '';\n",
              "        dataTable['output_type'] = 'display_data';\n",
              "        await google.colab.output.renderOutput(dataTable, element);\n",
              "        const docLink = document.createElement('div');\n",
              "        docLink.innerHTML = docLinkHtml;\n",
              "        element.appendChild(docLink);\n",
              "      }\n",
              "    </script>\n",
              "  </div>\n",
              "\n",
              "\n",
              "<div id=\"df-51033dd4-ae56-43c9-a92d-762545c5ede9\">\n",
              "  <button class=\"colab-df-quickchart\" onclick=\"quickchart('df-51033dd4-ae56-43c9-a92d-762545c5ede9')\"\n",
              "            title=\"Suggest charts.\"\n",
              "            style=\"display:none;\">\n",
              "\n",
              "<svg xmlns=\"http://www.w3.org/2000/svg\" height=\"24px\"viewBox=\"0 0 24 24\"\n",
              "     width=\"24px\">\n",
              "    <g>\n",
              "        <path d=\"M19 3H5c-1.1 0-2 .9-2 2v14c0 1.1.9 2 2 2h14c1.1 0 2-.9 2-2V5c0-1.1-.9-2-2-2zM9 17H7v-7h2v7zm4 0h-2V7h2v10zm4 0h-2v-4h2v4z\"/>\n",
              "    </g>\n",
              "</svg>\n",
              "  </button>\n",
              "\n",
              "<style>\n",
              "  .colab-df-quickchart {\n",
              "      --bg-color: #E8F0FE;\n",
              "      --fill-color: #1967D2;\n",
              "      --hover-bg-color: #E2EBFA;\n",
              "      --hover-fill-color: #174EA6;\n",
              "      --disabled-fill-color: #AAA;\n",
              "      --disabled-bg-color: #DDD;\n",
              "  }\n",
              "\n",
              "  [theme=dark] .colab-df-quickchart {\n",
              "      --bg-color: #3B4455;\n",
              "      --fill-color: #D2E3FC;\n",
              "      --hover-bg-color: #434B5C;\n",
              "      --hover-fill-color: #FFFFFF;\n",
              "      --disabled-bg-color: #3B4455;\n",
              "      --disabled-fill-color: #666;\n",
              "  }\n",
              "\n",
              "  .colab-df-quickchart {\n",
              "    background-color: var(--bg-color);\n",
              "    border: none;\n",
              "    border-radius: 50%;\n",
              "    cursor: pointer;\n",
              "    display: none;\n",
              "    fill: var(--fill-color);\n",
              "    height: 32px;\n",
              "    padding: 0;\n",
              "    width: 32px;\n",
              "  }\n",
              "\n",
              "  .colab-df-quickchart:hover {\n",
              "    background-color: var(--hover-bg-color);\n",
              "    box-shadow: 0 1px 2px rgba(60, 64, 67, 0.3), 0 1px 3px 1px rgba(60, 64, 67, 0.15);\n",
              "    fill: var(--button-hover-fill-color);\n",
              "  }\n",
              "\n",
              "  .colab-df-quickchart-complete:disabled,\n",
              "  .colab-df-quickchart-complete:disabled:hover {\n",
              "    background-color: var(--disabled-bg-color);\n",
              "    fill: var(--disabled-fill-color);\n",
              "    box-shadow: none;\n",
              "  }\n",
              "\n",
              "  .colab-df-spinner {\n",
              "    border: 2px solid var(--fill-color);\n",
              "    border-color: transparent;\n",
              "    border-bottom-color: var(--fill-color);\n",
              "    animation:\n",
              "      spin 1s steps(1) infinite;\n",
              "  }\n",
              "\n",
              "  @keyframes spin {\n",
              "    0% {\n",
              "      border-color: transparent;\n",
              "      border-bottom-color: var(--fill-color);\n",
              "      border-left-color: var(--fill-color);\n",
              "    }\n",
              "    20% {\n",
              "      border-color: transparent;\n",
              "      border-left-color: var(--fill-color);\n",
              "      border-top-color: var(--fill-color);\n",
              "    }\n",
              "    30% {\n",
              "      border-color: transparent;\n",
              "      border-left-color: var(--fill-color);\n",
              "      border-top-color: var(--fill-color);\n",
              "      border-right-color: var(--fill-color);\n",
              "    }\n",
              "    40% {\n",
              "      border-color: transparent;\n",
              "      border-right-color: var(--fill-color);\n",
              "      border-top-color: var(--fill-color);\n",
              "    }\n",
              "    60% {\n",
              "      border-color: transparent;\n",
              "      border-right-color: var(--fill-color);\n",
              "    }\n",
              "    80% {\n",
              "      border-color: transparent;\n",
              "      border-right-color: var(--fill-color);\n",
              "      border-bottom-color: var(--fill-color);\n",
              "    }\n",
              "    90% {\n",
              "      border-color: transparent;\n",
              "      border-bottom-color: var(--fill-color);\n",
              "    }\n",
              "  }\n",
              "</style>\n",
              "\n",
              "  <script>\n",
              "    async function quickchart(key) {\n",
              "      const quickchartButtonEl =\n",
              "        document.querySelector('#' + key + ' button');\n",
              "      quickchartButtonEl.disabled = true;  // To prevent multiple clicks.\n",
              "      quickchartButtonEl.classList.add('colab-df-spinner');\n",
              "      try {\n",
              "        const charts = await google.colab.kernel.invokeFunction(\n",
              "            'suggestCharts', [key], {});\n",
              "      } catch (error) {\n",
              "        console.error('Error during call to suggestCharts:', error);\n",
              "      }\n",
              "      quickchartButtonEl.classList.remove('colab-df-spinner');\n",
              "      quickchartButtonEl.classList.add('colab-df-quickchart-complete');\n",
              "    }\n",
              "    (() => {\n",
              "      let quickchartButtonEl =\n",
              "        document.querySelector('#df-51033dd4-ae56-43c9-a92d-762545c5ede9 button');\n",
              "      quickchartButtonEl.style.display =\n",
              "        google.colab.kernel.accessAllowed ? 'block' : 'none';\n",
              "    })();\n",
              "  </script>\n",
              "</div>\n",
              "    </div>\n",
              "  </div>\n"
            ]
          },
          "metadata": {},
          "execution_count": 9
        }
      ],
      "source": [
        "df = pd.read_csv('Churn_Modelling.csv')\n",
        "df.head(3)"
      ]
    },
    {
      "cell_type": "markdown",
      "id": "bf5ebacb",
      "metadata": {
        "heading_collapsed": true,
        "papermill": {
          "duration": 0.081323,
          "end_time": "2022-03-13T16:33:24.328300",
          "exception": false,
          "start_time": "2022-03-13T16:33:24.246977",
          "status": "completed"
        },
        "tags": [],
        "id": "bf5ebacb"
      },
      "source": [
        "## Exploratory Data Analysis and Visualization"
      ]
    },
    {
      "cell_type": "code",
      "execution_count": 10,
      "id": "f50925dd",
      "metadata": {
        "cell_style": "split",
        "execution": {
          "iopub.execute_input": "2022-03-13T16:33:24.508071Z",
          "iopub.status.busy": "2022-03-13T16:33:24.506977Z",
          "iopub.status.idle": "2022-03-13T16:33:24.523645Z",
          "shell.execute_reply": "2022-03-13T16:33:24.524233Z",
          "shell.execute_reply.started": "2022-03-13T16:21:25.634342Z"
        },
        "hidden": true,
        "id": "f50925dd",
        "outputId": "4f31d857-49f2-4eec-fcde-7e8ebf40d992",
        "papermill": {
          "duration": 0.111383,
          "end_time": "2022-03-13T16:33:24.524427",
          "exception": false,
          "start_time": "2022-03-13T16:33:24.413044",
          "status": "completed"
        },
        "tags": [],
        "colab": {
          "base_uri": "https://localhost:8080/"
        }
      },
      "outputs": [
        {
          "output_type": "stream",
          "name": "stdout",
          "text": [
            "<class 'pandas.core.frame.DataFrame'>\n",
            "RangeIndex: 10000 entries, 0 to 9999\n",
            "Data columns (total 14 columns):\n",
            " #   Column           Non-Null Count  Dtype  \n",
            "---  ------           --------------  -----  \n",
            " 0   RowNumber        10000 non-null  int64  \n",
            " 1   CustomerId       10000 non-null  int64  \n",
            " 2   Surname          10000 non-null  object \n",
            " 3   CreditScore      10000 non-null  int64  \n",
            " 4   Geography        10000 non-null  object \n",
            " 5   Gender           10000 non-null  object \n",
            " 6   Age              10000 non-null  int64  \n",
            " 7   Tenure           10000 non-null  int64  \n",
            " 8   Balance          10000 non-null  float64\n",
            " 9   NumOfProducts    10000 non-null  int64  \n",
            " 10  HasCrCard        10000 non-null  int64  \n",
            " 11  IsActiveMember   10000 non-null  int64  \n",
            " 12  EstimatedSalary  10000 non-null  float64\n",
            " 13  Exited           10000 non-null  int64  \n",
            "dtypes: float64(2), int64(9), object(3)\n",
            "memory usage: 1.1+ MB\n"
          ]
        }
      ],
      "source": [
        "df.info()"
      ]
    },
    {
      "cell_type": "code",
      "execution_count": 11,
      "id": "08f63bde",
      "metadata": {
        "cell_style": "split",
        "execution": {
          "iopub.execute_input": "2022-03-13T16:33:24.690443Z",
          "iopub.status.busy": "2022-03-13T16:33:24.689394Z",
          "iopub.status.idle": "2022-03-13T16:33:24.696974Z",
          "shell.execute_reply": "2022-03-13T16:33:24.696412Z",
          "shell.execute_reply.started": "2022-03-13T16:21:25.657968Z"
        },
        "hidden": true,
        "id": "08f63bde",
        "outputId": "5e8b6f5a-2aeb-4d1a-aa13-4e1d743e2bb5",
        "papermill": {
          "duration": 0.091553,
          "end_time": "2022-03-13T16:33:24.697115",
          "exception": false,
          "start_time": "2022-03-13T16:33:24.605562",
          "status": "completed"
        },
        "tags": [],
        "colab": {
          "base_uri": "https://localhost:8080/"
        }
      },
      "outputs": [
        {
          "output_type": "execute_result",
          "data": {
            "text/plain": [
              "(10000, 14)"
            ]
          },
          "metadata": {},
          "execution_count": 11
        }
      ],
      "source": [
        "df.shape"
      ]
    },
    {
      "cell_type": "code",
      "execution_count": 12,
      "id": "ab1537f3",
      "metadata": {
        "cell_style": "split",
        "execution": {
          "iopub.execute_input": "2022-03-13T16:33:24.872337Z",
          "iopub.status.busy": "2022-03-13T16:33:24.868648Z",
          "iopub.status.idle": "2022-03-13T16:33:24.875838Z",
          "shell.execute_reply": "2022-03-13T16:33:24.876357Z",
          "shell.execute_reply.started": "2022-03-13T16:21:25.666704Z"
        },
        "hidden": true,
        "papermill": {
          "duration": 0.097397,
          "end_time": "2022-03-13T16:33:24.876526",
          "exception": false,
          "start_time": "2022-03-13T16:33:24.779129",
          "status": "completed"
        },
        "tags": [],
        "colab": {
          "base_uri": "https://localhost:8080/"
        },
        "id": "ab1537f3",
        "outputId": "05d7d471-be86-45c9-c9fe-8c6669420a2c"
      },
      "outputs": [
        {
          "output_type": "execute_result",
          "data": {
            "text/plain": [
              "False"
            ]
          },
          "metadata": {},
          "execution_count": 12
        }
      ],
      "source": [
        "df.isnull().sum().any()"
      ]
    },
    {
      "cell_type": "code",
      "execution_count": 13,
      "id": "9602bb88",
      "metadata": {
        "cell_style": "split",
        "execution": {
          "iopub.execute_input": "2022-03-13T16:33:25.047507Z",
          "iopub.status.busy": "2022-03-13T16:33:25.046771Z",
          "iopub.status.idle": "2022-03-13T16:33:25.066443Z",
          "shell.execute_reply": "2022-03-13T16:33:25.065889Z",
          "shell.execute_reply.started": "2022-03-13T16:21:25.682932Z"
        },
        "hidden": true,
        "papermill": {
          "duration": 0.107825,
          "end_time": "2022-03-13T16:33:25.066580",
          "exception": false,
          "start_time": "2022-03-13T16:33:24.958755",
          "status": "completed"
        },
        "scrolled": true,
        "tags": [],
        "colab": {
          "base_uri": "https://localhost:8080/"
        },
        "id": "9602bb88",
        "outputId": "8af51e23-c9df-4372-edea-6392d9d9bc7f"
      },
      "outputs": [
        {
          "output_type": "execute_result",
          "data": {
            "text/plain": [
              "0"
            ]
          },
          "metadata": {},
          "execution_count": 13
        }
      ],
      "source": [
        "df.duplicated().sum()"
      ]
    },
    {
      "cell_type": "code",
      "execution_count": 14,
      "id": "fe2c4ea8",
      "metadata": {
        "cell_style": "center",
        "execution": {
          "iopub.execute_input": "2022-03-13T16:33:25.241893Z",
          "iopub.status.busy": "2022-03-13T16:33:25.239040Z",
          "iopub.status.idle": "2022-03-13T16:33:25.278083Z",
          "shell.execute_reply": "2022-03-13T16:33:25.277552Z",
          "shell.execute_reply.started": "2022-03-13T16:21:25.700931Z"
        },
        "hidden": true,
        "id": "fe2c4ea8",
        "outputId": "12742e6c-190b-4d07-8911-137921ac8048",
        "papermill": {
          "duration": 0.129919,
          "end_time": "2022-03-13T16:33:25.278268",
          "exception": false,
          "start_time": "2022-03-13T16:33:25.148349",
          "status": "completed"
        },
        "tags": [],
        "colab": {
          "base_uri": "https://localhost:8080/",
          "height": 394
        }
      },
      "outputs": [
        {
          "output_type": "execute_result",
          "data": {
            "text/plain": [
              "                   count          mean           std          min  \\\n",
              "RowNumber        10000.0  5.000500e+03   2886.895680         1.00   \n",
              "CustomerId       10000.0  1.569094e+07  71936.186123  15565701.00   \n",
              "CreditScore      10000.0  6.505288e+02     96.653299       350.00   \n",
              "Age              10000.0  3.892180e+01     10.487806        18.00   \n",
              "Tenure           10000.0  5.012800e+00      2.892174         0.00   \n",
              "Balance          10000.0  7.648589e+04  62397.405202         0.00   \n",
              "NumOfProducts    10000.0  1.530200e+00      0.581654         1.00   \n",
              "HasCrCard        10000.0  7.055000e-01      0.455840         0.00   \n",
              "IsActiveMember   10000.0  5.151000e-01      0.499797         0.00   \n",
              "EstimatedSalary  10000.0  1.000902e+05  57510.492818        11.58   \n",
              "Exited           10000.0  2.037000e-01      0.402769         0.00   \n",
              "\n",
              "                         25%           50%           75%          max  \n",
              "RowNumber            2500.75  5.000500e+03  7.500250e+03     10000.00  \n",
              "CustomerId       15628528.25  1.569074e+07  1.575323e+07  15815690.00  \n",
              "CreditScore           584.00  6.520000e+02  7.180000e+02       850.00  \n",
              "Age                    32.00  3.700000e+01  4.400000e+01        92.00  \n",
              "Tenure                  3.00  5.000000e+00  7.000000e+00        10.00  \n",
              "Balance                 0.00  9.719854e+04  1.276442e+05    250898.09  \n",
              "NumOfProducts           1.00  1.000000e+00  2.000000e+00         4.00  \n",
              "HasCrCard               0.00  1.000000e+00  1.000000e+00         1.00  \n",
              "IsActiveMember          0.00  1.000000e+00  1.000000e+00         1.00  \n",
              "EstimatedSalary     51002.11  1.001939e+05  1.493882e+05    199992.48  \n",
              "Exited                  0.00  0.000000e+00  0.000000e+00         1.00  "
            ],
            "text/html": [
              "\n",
              "  <div id=\"df-f3d3b5c7-c109-41b9-9e2f-182f1ebf8dcd\" class=\"colab-df-container\">\n",
              "    <div>\n",
              "<style scoped>\n",
              "    .dataframe tbody tr th:only-of-type {\n",
              "        vertical-align: middle;\n",
              "    }\n",
              "\n",
              "    .dataframe tbody tr th {\n",
              "        vertical-align: top;\n",
              "    }\n",
              "\n",
              "    .dataframe thead th {\n",
              "        text-align: right;\n",
              "    }\n",
              "</style>\n",
              "<table border=\"1\" class=\"dataframe\">\n",
              "  <thead>\n",
              "    <tr style=\"text-align: right;\">\n",
              "      <th></th>\n",
              "      <th>count</th>\n",
              "      <th>mean</th>\n",
              "      <th>std</th>\n",
              "      <th>min</th>\n",
              "      <th>25%</th>\n",
              "      <th>50%</th>\n",
              "      <th>75%</th>\n",
              "      <th>max</th>\n",
              "    </tr>\n",
              "  </thead>\n",
              "  <tbody>\n",
              "    <tr>\n",
              "      <th>RowNumber</th>\n",
              "      <td>10000.0</td>\n",
              "      <td>5.000500e+03</td>\n",
              "      <td>2886.895680</td>\n",
              "      <td>1.00</td>\n",
              "      <td>2500.75</td>\n",
              "      <td>5.000500e+03</td>\n",
              "      <td>7.500250e+03</td>\n",
              "      <td>10000.00</td>\n",
              "    </tr>\n",
              "    <tr>\n",
              "      <th>CustomerId</th>\n",
              "      <td>10000.0</td>\n",
              "      <td>1.569094e+07</td>\n",
              "      <td>71936.186123</td>\n",
              "      <td>15565701.00</td>\n",
              "      <td>15628528.25</td>\n",
              "      <td>1.569074e+07</td>\n",
              "      <td>1.575323e+07</td>\n",
              "      <td>15815690.00</td>\n",
              "    </tr>\n",
              "    <tr>\n",
              "      <th>CreditScore</th>\n",
              "      <td>10000.0</td>\n",
              "      <td>6.505288e+02</td>\n",
              "      <td>96.653299</td>\n",
              "      <td>350.00</td>\n",
              "      <td>584.00</td>\n",
              "      <td>6.520000e+02</td>\n",
              "      <td>7.180000e+02</td>\n",
              "      <td>850.00</td>\n",
              "    </tr>\n",
              "    <tr>\n",
              "      <th>Age</th>\n",
              "      <td>10000.0</td>\n",
              "      <td>3.892180e+01</td>\n",
              "      <td>10.487806</td>\n",
              "      <td>18.00</td>\n",
              "      <td>32.00</td>\n",
              "      <td>3.700000e+01</td>\n",
              "      <td>4.400000e+01</td>\n",
              "      <td>92.00</td>\n",
              "    </tr>\n",
              "    <tr>\n",
              "      <th>Tenure</th>\n",
              "      <td>10000.0</td>\n",
              "      <td>5.012800e+00</td>\n",
              "      <td>2.892174</td>\n",
              "      <td>0.00</td>\n",
              "      <td>3.00</td>\n",
              "      <td>5.000000e+00</td>\n",
              "      <td>7.000000e+00</td>\n",
              "      <td>10.00</td>\n",
              "    </tr>\n",
              "    <tr>\n",
              "      <th>Balance</th>\n",
              "      <td>10000.0</td>\n",
              "      <td>7.648589e+04</td>\n",
              "      <td>62397.405202</td>\n",
              "      <td>0.00</td>\n",
              "      <td>0.00</td>\n",
              "      <td>9.719854e+04</td>\n",
              "      <td>1.276442e+05</td>\n",
              "      <td>250898.09</td>\n",
              "    </tr>\n",
              "    <tr>\n",
              "      <th>NumOfProducts</th>\n",
              "      <td>10000.0</td>\n",
              "      <td>1.530200e+00</td>\n",
              "      <td>0.581654</td>\n",
              "      <td>1.00</td>\n",
              "      <td>1.00</td>\n",
              "      <td>1.000000e+00</td>\n",
              "      <td>2.000000e+00</td>\n",
              "      <td>4.00</td>\n",
              "    </tr>\n",
              "    <tr>\n",
              "      <th>HasCrCard</th>\n",
              "      <td>10000.0</td>\n",
              "      <td>7.055000e-01</td>\n",
              "      <td>0.455840</td>\n",
              "      <td>0.00</td>\n",
              "      <td>0.00</td>\n",
              "      <td>1.000000e+00</td>\n",
              "      <td>1.000000e+00</td>\n",
              "      <td>1.00</td>\n",
              "    </tr>\n",
              "    <tr>\n",
              "      <th>IsActiveMember</th>\n",
              "      <td>10000.0</td>\n",
              "      <td>5.151000e-01</td>\n",
              "      <td>0.499797</td>\n",
              "      <td>0.00</td>\n",
              "      <td>0.00</td>\n",
              "      <td>1.000000e+00</td>\n",
              "      <td>1.000000e+00</td>\n",
              "      <td>1.00</td>\n",
              "    </tr>\n",
              "    <tr>\n",
              "      <th>EstimatedSalary</th>\n",
              "      <td>10000.0</td>\n",
              "      <td>1.000902e+05</td>\n",
              "      <td>57510.492818</td>\n",
              "      <td>11.58</td>\n",
              "      <td>51002.11</td>\n",
              "      <td>1.001939e+05</td>\n",
              "      <td>1.493882e+05</td>\n",
              "      <td>199992.48</td>\n",
              "    </tr>\n",
              "    <tr>\n",
              "      <th>Exited</th>\n",
              "      <td>10000.0</td>\n",
              "      <td>2.037000e-01</td>\n",
              "      <td>0.402769</td>\n",
              "      <td>0.00</td>\n",
              "      <td>0.00</td>\n",
              "      <td>0.000000e+00</td>\n",
              "      <td>0.000000e+00</td>\n",
              "      <td>1.00</td>\n",
              "    </tr>\n",
              "  </tbody>\n",
              "</table>\n",
              "</div>\n",
              "    <div class=\"colab-df-buttons\">\n",
              "\n",
              "  <div class=\"colab-df-container\">\n",
              "    <button class=\"colab-df-convert\" onclick=\"convertToInteractive('df-f3d3b5c7-c109-41b9-9e2f-182f1ebf8dcd')\"\n",
              "            title=\"Convert this dataframe to an interactive table.\"\n",
              "            style=\"display:none;\">\n",
              "\n",
              "  <svg xmlns=\"http://www.w3.org/2000/svg\" height=\"24px\" viewBox=\"0 -960 960 960\">\n",
              "    <path d=\"M120-120v-720h720v720H120Zm60-500h600v-160H180v160Zm220 220h160v-160H400v160Zm0 220h160v-160H400v160ZM180-400h160v-160H180v160Zm440 0h160v-160H620v160ZM180-180h160v-160H180v160Zm440 0h160v-160H620v160Z\"/>\n",
              "  </svg>\n",
              "    </button>\n",
              "\n",
              "  <style>\n",
              "    .colab-df-container {\n",
              "      display:flex;\n",
              "      gap: 12px;\n",
              "    }\n",
              "\n",
              "    .colab-df-convert {\n",
              "      background-color: #E8F0FE;\n",
              "      border: none;\n",
              "      border-radius: 50%;\n",
              "      cursor: pointer;\n",
              "      display: none;\n",
              "      fill: #1967D2;\n",
              "      height: 32px;\n",
              "      padding: 0 0 0 0;\n",
              "      width: 32px;\n",
              "    }\n",
              "\n",
              "    .colab-df-convert:hover {\n",
              "      background-color: #E2EBFA;\n",
              "      box-shadow: 0px 1px 2px rgba(60, 64, 67, 0.3), 0px 1px 3px 1px rgba(60, 64, 67, 0.15);\n",
              "      fill: #174EA6;\n",
              "    }\n",
              "\n",
              "    .colab-df-buttons div {\n",
              "      margin-bottom: 4px;\n",
              "    }\n",
              "\n",
              "    [theme=dark] .colab-df-convert {\n",
              "      background-color: #3B4455;\n",
              "      fill: #D2E3FC;\n",
              "    }\n",
              "\n",
              "    [theme=dark] .colab-df-convert:hover {\n",
              "      background-color: #434B5C;\n",
              "      box-shadow: 0px 1px 3px 1px rgba(0, 0, 0, 0.15);\n",
              "      filter: drop-shadow(0px 1px 2px rgba(0, 0, 0, 0.3));\n",
              "      fill: #FFFFFF;\n",
              "    }\n",
              "  </style>\n",
              "\n",
              "    <script>\n",
              "      const buttonEl =\n",
              "        document.querySelector('#df-f3d3b5c7-c109-41b9-9e2f-182f1ebf8dcd button.colab-df-convert');\n",
              "      buttonEl.style.display =\n",
              "        google.colab.kernel.accessAllowed ? 'block' : 'none';\n",
              "\n",
              "      async function convertToInteractive(key) {\n",
              "        const element = document.querySelector('#df-f3d3b5c7-c109-41b9-9e2f-182f1ebf8dcd');\n",
              "        const dataTable =\n",
              "          await google.colab.kernel.invokeFunction('convertToInteractive',\n",
              "                                                    [key], {});\n",
              "        if (!dataTable) return;\n",
              "\n",
              "        const docLinkHtml = 'Like what you see? Visit the ' +\n",
              "          '<a target=\"_blank\" href=https://colab.research.google.com/notebooks/data_table.ipynb>data table notebook</a>'\n",
              "          + ' to learn more about interactive tables.';\n",
              "        element.innerHTML = '';\n",
              "        dataTable['output_type'] = 'display_data';\n",
              "        await google.colab.output.renderOutput(dataTable, element);\n",
              "        const docLink = document.createElement('div');\n",
              "        docLink.innerHTML = docLinkHtml;\n",
              "        element.appendChild(docLink);\n",
              "      }\n",
              "    </script>\n",
              "  </div>\n",
              "\n",
              "\n",
              "<div id=\"df-fa9af190-dd65-43eb-b0ba-7658b3be44af\">\n",
              "  <button class=\"colab-df-quickchart\" onclick=\"quickchart('df-fa9af190-dd65-43eb-b0ba-7658b3be44af')\"\n",
              "            title=\"Suggest charts.\"\n",
              "            style=\"display:none;\">\n",
              "\n",
              "<svg xmlns=\"http://www.w3.org/2000/svg\" height=\"24px\"viewBox=\"0 0 24 24\"\n",
              "     width=\"24px\">\n",
              "    <g>\n",
              "        <path d=\"M19 3H5c-1.1 0-2 .9-2 2v14c0 1.1.9 2 2 2h14c1.1 0 2-.9 2-2V5c0-1.1-.9-2-2-2zM9 17H7v-7h2v7zm4 0h-2V7h2v10zm4 0h-2v-4h2v4z\"/>\n",
              "    </g>\n",
              "</svg>\n",
              "  </button>\n",
              "\n",
              "<style>\n",
              "  .colab-df-quickchart {\n",
              "      --bg-color: #E8F0FE;\n",
              "      --fill-color: #1967D2;\n",
              "      --hover-bg-color: #E2EBFA;\n",
              "      --hover-fill-color: #174EA6;\n",
              "      --disabled-fill-color: #AAA;\n",
              "      --disabled-bg-color: #DDD;\n",
              "  }\n",
              "\n",
              "  [theme=dark] .colab-df-quickchart {\n",
              "      --bg-color: #3B4455;\n",
              "      --fill-color: #D2E3FC;\n",
              "      --hover-bg-color: #434B5C;\n",
              "      --hover-fill-color: #FFFFFF;\n",
              "      --disabled-bg-color: #3B4455;\n",
              "      --disabled-fill-color: #666;\n",
              "  }\n",
              "\n",
              "  .colab-df-quickchart {\n",
              "    background-color: var(--bg-color);\n",
              "    border: none;\n",
              "    border-radius: 50%;\n",
              "    cursor: pointer;\n",
              "    display: none;\n",
              "    fill: var(--fill-color);\n",
              "    height: 32px;\n",
              "    padding: 0;\n",
              "    width: 32px;\n",
              "  }\n",
              "\n",
              "  .colab-df-quickchart:hover {\n",
              "    background-color: var(--hover-bg-color);\n",
              "    box-shadow: 0 1px 2px rgba(60, 64, 67, 0.3), 0 1px 3px 1px rgba(60, 64, 67, 0.15);\n",
              "    fill: var(--button-hover-fill-color);\n",
              "  }\n",
              "\n",
              "  .colab-df-quickchart-complete:disabled,\n",
              "  .colab-df-quickchart-complete:disabled:hover {\n",
              "    background-color: var(--disabled-bg-color);\n",
              "    fill: var(--disabled-fill-color);\n",
              "    box-shadow: none;\n",
              "  }\n",
              "\n",
              "  .colab-df-spinner {\n",
              "    border: 2px solid var(--fill-color);\n",
              "    border-color: transparent;\n",
              "    border-bottom-color: var(--fill-color);\n",
              "    animation:\n",
              "      spin 1s steps(1) infinite;\n",
              "  }\n",
              "\n",
              "  @keyframes spin {\n",
              "    0% {\n",
              "      border-color: transparent;\n",
              "      border-bottom-color: var(--fill-color);\n",
              "      border-left-color: var(--fill-color);\n",
              "    }\n",
              "    20% {\n",
              "      border-color: transparent;\n",
              "      border-left-color: var(--fill-color);\n",
              "      border-top-color: var(--fill-color);\n",
              "    }\n",
              "    30% {\n",
              "      border-color: transparent;\n",
              "      border-left-color: var(--fill-color);\n",
              "      border-top-color: var(--fill-color);\n",
              "      border-right-color: var(--fill-color);\n",
              "    }\n",
              "    40% {\n",
              "      border-color: transparent;\n",
              "      border-right-color: var(--fill-color);\n",
              "      border-top-color: var(--fill-color);\n",
              "    }\n",
              "    60% {\n",
              "      border-color: transparent;\n",
              "      border-right-color: var(--fill-color);\n",
              "    }\n",
              "    80% {\n",
              "      border-color: transparent;\n",
              "      border-right-color: var(--fill-color);\n",
              "      border-bottom-color: var(--fill-color);\n",
              "    }\n",
              "    90% {\n",
              "      border-color: transparent;\n",
              "      border-bottom-color: var(--fill-color);\n",
              "    }\n",
              "  }\n",
              "</style>\n",
              "\n",
              "  <script>\n",
              "    async function quickchart(key) {\n",
              "      const quickchartButtonEl =\n",
              "        document.querySelector('#' + key + ' button');\n",
              "      quickchartButtonEl.disabled = true;  // To prevent multiple clicks.\n",
              "      quickchartButtonEl.classList.add('colab-df-spinner');\n",
              "      try {\n",
              "        const charts = await google.colab.kernel.invokeFunction(\n",
              "            'suggestCharts', [key], {});\n",
              "      } catch (error) {\n",
              "        console.error('Error during call to suggestCharts:', error);\n",
              "      }\n",
              "      quickchartButtonEl.classList.remove('colab-df-spinner');\n",
              "      quickchartButtonEl.classList.add('colab-df-quickchart-complete');\n",
              "    }\n",
              "    (() => {\n",
              "      let quickchartButtonEl =\n",
              "        document.querySelector('#df-fa9af190-dd65-43eb-b0ba-7658b3be44af button');\n",
              "      quickchartButtonEl.style.display =\n",
              "        google.colab.kernel.accessAllowed ? 'block' : 'none';\n",
              "    })();\n",
              "  </script>\n",
              "</div>\n",
              "    </div>\n",
              "  </div>\n"
            ]
          },
          "metadata": {},
          "execution_count": 14
        }
      ],
      "source": [
        "df.describe().T\n",
        "\n"
      ]
    },
    {
      "cell_type": "code",
      "execution_count": 15,
      "id": "9424f2ef",
      "metadata": {
        "execution": {
          "iopub.execute_input": "2022-03-13T16:33:25.462621Z",
          "iopub.status.busy": "2022-03-13T16:33:25.461542Z",
          "iopub.status.idle": "2022-03-13T16:33:25.464017Z",
          "shell.execute_reply": "2022-03-13T16:33:25.464666Z",
          "shell.execute_reply.started": "2022-03-13T16:21:25.735022Z"
        },
        "hidden": true,
        "papermill": {
          "duration": 0.102939,
          "end_time": "2022-03-13T16:33:25.464891",
          "exception": false,
          "start_time": "2022-03-13T16:33:25.361952",
          "status": "completed"
        },
        "tags": [],
        "id": "9424f2ef"
      },
      "outputs": [],
      "source": [
        "df.drop(['CustomerId', 'Surname'], axis=1, inplace=True)"
      ]
    },
    {
      "cell_type": "code",
      "execution_count": 16,
      "id": "16c0d342",
      "metadata": {
        "cell_style": "split",
        "execution": {
          "iopub.execute_input": "2022-03-13T16:33:25.655680Z",
          "iopub.status.busy": "2022-03-13T16:33:25.654629Z",
          "iopub.status.idle": "2022-03-13T16:33:25.924277Z",
          "shell.execute_reply": "2022-03-13T16:33:25.923683Z",
          "shell.execute_reply.started": "2022-03-13T16:21:25.741994Z"
        },
        "hidden": true,
        "id": "16c0d342",
        "outputId": "8937b9ae-82a0-4df3-84d1-7a5de91f4183",
        "papermill": {
          "duration": 0.363131,
          "end_time": "2022-03-13T16:33:25.924440",
          "exception": false,
          "start_time": "2022-03-13T16:33:25.561309",
          "status": "completed"
        },
        "tags": [],
        "colab": {
          "base_uri": "https://localhost:8080/",
          "height": 482
        }
      },
      "outputs": [
        {
          "output_type": "stream",
          "name": "stdout",
          "text": [
            "0    7963\n",
            "1    2037\n",
            "Name: Exited, dtype: int64\n"
          ]
        },
        {
          "output_type": "display_data",
          "data": {
            "text/plain": [
              "<Figure size 640x480 with 1 Axes>"
            ],
            "image/png": "[encoded data removed]"
          },
          "metadata": {}
        }
      ],
      "source": [
        "print(df.Exited.value_counts())\n",
        "sns.countplot(df[\"Exited\"]);"
      ]
    },
    {
      "cell_type": "code",
      "execution_count": 17,
      "id": "d2b7aad9",
      "metadata": {
        "cell_style": "split",
        "execution": {
          "iopub.execute_input": "2022-03-13T16:33:26.101477Z",
          "iopub.status.busy": "2022-03-13T16:33:26.100676Z",
          "iopub.status.idle": "2022-03-13T16:33:28.863449Z",
          "shell.execute_reply": "2022-03-13T16:33:28.864284Z",
          "shell.execute_reply.started": "2022-03-13T16:21:25.956328Z"
        },
        "hidden": true,
        "papermill": {
          "duration": 2.853495,
          "end_time": "2022-03-13T16:33:28.864557",
          "exception": false,
          "start_time": "2022-03-13T16:33:26.011062",
          "status": "completed"
        },
        "tags": [],
        "colab": {
          "base_uri": "https://localhost:8080/",
          "height": 1000
        },
        "id": "d2b7aad9",
        "outputId": "1e8acb86-1437-4089-a951-eea272e1adc7"
      },
      "outputs": [
        {
          "output_type": "display_data",
          "data": {
            "text/plain": [
              "<Figure size 1500x1200 with 12 Axes>"
            ],
            "image/png": "[encoded data removed]"
          },
          "metadata": {}
        }
      ],
      "source": [
        "df.hist(figsize=(15, 12), bins=15);\n"
      ]
    },
    {
      "cell_type": "code",
      "execution_count": 18,
      "id": "8935dc51",
      "metadata": {
        "execution": {
          "iopub.execute_input": "2022-03-13T16:33:29.072637Z",
          "iopub.status.busy": "2022-03-13T16:33:29.068784Z",
          "iopub.status.idle": "2022-03-13T16:33:30.076333Z",
          "shell.execute_reply": "2022-03-13T16:33:30.077406Z",
          "shell.execute_reply.started": "2022-03-13T16:21:27.722538Z"
        },
        "hidden": true,
        "papermill": {
          "duration": 1.120286,
          "end_time": "2022-03-13T16:33:30.077627",
          "exception": false,
          "start_time": "2022-03-13T16:33:28.957341",
          "status": "completed"
        },
        "tags": [],
        "colab": {
          "base_uri": "https://localhost:8080/",
          "height": 1000
        },
        "id": "8935dc51",
        "outputId": "470421a0-c12b-43ae-b24c-4929df7fd627"
      },
      "outputs": [
        {
          "output_type": "display_data",
          "data": {
            "text/plain": [
              "<Figure size 1600x1200 with 4 Axes>"
            ],
            "image/png": "[encoded data removed]"
          },
          "metadata": {}
        }
      ],
      "source": [
        "cat_list = [\"Gender\", \"HasCrCard\", \"IsActiveMember\", \"Geography\"]\n",
        "index = 0\n",
        "plt.figure(figsize=(16, 12))\n",
        "for i in cat_list:\n",
        "    index += 1\n",
        "    plt.subplot(2, 2, index)\n",
        "    sns.countplot(data=df, x=i, hue=\"Exited\")"
      ]
    },
    {
      "cell_type": "code",
      "execution_count": 19,
      "id": "fbae8ffc",
      "metadata": {
        "cell_style": "split",
        "execution": {
          "iopub.execute_input": "2022-03-13T16:33:30.264385Z",
          "iopub.status.busy": "2022-03-13T16:33:30.263719Z",
          "iopub.status.idle": "2022-03-13T16:33:33.004666Z",
          "shell.execute_reply": "2022-03-13T16:33:33.005317Z",
          "shell.execute_reply.started": "2022-03-13T16:21:28.591903Z"
        },
        "hidden": true,
        "papermill": {
          "duration": 2.837944,
          "end_time": "2022-03-13T16:33:33.005521",
          "exception": false,
          "start_time": "2022-03-13T16:33:30.167577",
          "status": "completed"
        },
        "tags": [],
        "colab": {
          "base_uri": "https://localhost:8080/",
          "height": 541
        },
        "id": "fbae8ffc",
        "outputId": "6ff7f0fd-0bef-4a8c-a4c9-4754a8d01af4"
      },
      "outputs": [
        {
          "output_type": "display_data",
          "data": {
            "text/plain": [
              "<Figure size 2000x700 with 1 Axes>"
            ],
            "image/png": "[encoded data removed]"
          },
          "metadata": {}
        }
      ],
      "source": [
        "plt.figure(figsize=(20, 7))\n",
        "sns.countplot(x='Age', hue='Exited', data=df)\n",
        "plt.show()"
      ]
    },
    {
      "cell_type": "code",
      "execution_count": 20,
      "id": "565d484c",
      "metadata": {
        "cell_style": "center",
        "execution": {
          "iopub.execute_input": "2022-03-13T16:33:33.194457Z",
          "iopub.status.busy": "2022-03-13T16:33:33.193074Z",
          "iopub.status.idle": "2022-03-13T16:33:34.158751Z",
          "shell.execute_reply": "2022-03-13T16:33:34.159352Z",
          "shell.execute_reply.started": "2022-03-13T16:21:30.456913Z"
        },
        "hidden": true,
        "id": "565d484c",
        "outputId": "cc9a5c68-f460-4afd-ab7a-9468d103460c",
        "papermill": {
          "duration": 1.063056,
          "end_time": "2022-03-13T16:33:34.159644",
          "exception": false,
          "start_time": "2022-03-13T16:33:33.096588",
          "status": "completed"
        },
        "tags": [],
        "colab": {
          "base_uri": "https://localhost:8080/",
          "height": 551
        }
      },
      "outputs": [
        {
          "output_type": "display_data",
          "data": {
            "text/plain": [
              "<Figure size 1200x500 with 2 Axes>"
            ],
            "image/png": "[encoded data removed]"
          },
          "metadata": {}
        }
      ],
      "source": [
        "plt.figure(figsize=(12, 5))\n",
        "sns.heatmap(df.corr(numeric_only=True),\n",
        "            vmin=-1,\n",
        "            vmax= 1,\n",
        "            cmap= 'YlOrRd',\n",
        "            linewidths=.12,\n",
        "            linecolor='white',\n",
        "            fmt='.2g',\n",
        "            square=True);"
      ]
    },
    {
      "cell_type": "code",
      "execution_count": 21,
      "id": "e82f32db",
      "metadata": {
        "cell_style": "center",
        "execution": {
          "iopub.execute_input": "2022-03-13T16:33:34.352846Z",
          "iopub.status.busy": "2022-03-13T16:33:34.351900Z",
          "iopub.status.idle": "2022-03-13T16:33:34.671165Z",
          "shell.execute_reply": "2022-03-13T16:33:34.670619Z",
          "shell.execute_reply.started": "2022-03-13T16:21:31.186653Z"
        },
        "hidden": true,
        "id": "e82f32db",
        "outputId": "2400590c-5d86-4de8-9501-bef5940601a7",
        "papermill": {
          "duration": 0.417058,
          "end_time": "2022-03-13T16:33:34.671350",
          "exception": false,
          "start_time": "2022-03-13T16:33:34.254292",
          "status": "completed"
        },
        "tags": [],
        "colab": {
          "base_uri": "https://localhost:8080/",
          "height": 487
        }
      },
      "outputs": [
        {
          "output_type": "display_data",
          "data": {
            "text/plain": [
              "<Figure size 800x500 with 1 Axes>"
            ],
            "image/png": "[encoded data removed]"
          },
          "metadata": {}
        }
      ],
      "source": [
        "\n",
        "# Encode categorical variables to numeric values\n",
        "label_encoder = LabelEncoder()\n",
        "df['Geography'] = label_encoder.fit_transform(df['Geography'])\n",
        "df['Gender'] = label_encoder.fit_transform(df['Gender'])\n",
        "\n",
        "# Calculate correlations with 'Exited' after converting categorical variables to numeric\n",
        "correlation_data = df.corr()['Exited'][:-1].sort_values()\n",
        "\n",
        "plt.figure(figsize=(8, 5))\n",
        "correlation_data.plot(kind='barh', colormap='viridis')\n",
        "plt.xlabel('Correlation')\n",
        "plt.ylabel('Features')\n",
        "plt.title('Correlated features with `Exited`')\n",
        "plt.show()\n"
      ]
    },
    {
      "cell_type": "code",
      "execution_count": 22,
      "id": "a54d8543",
      "metadata": {
        "execution": {
          "iopub.execute_input": "2022-03-13T16:33:34.867934Z",
          "iopub.status.busy": "2022-03-13T16:33:34.867279Z",
          "iopub.status.idle": "2022-03-13T16:33:34.885705Z",
          "shell.execute_reply": "2022-03-13T16:33:34.886358Z",
          "shell.execute_reply.started": "2022-03-13T16:21:31.571830Z"
        },
        "hidden": true,
        "papermill": {
          "duration": 0.121124,
          "end_time": "2022-03-13T16:33:34.886514",
          "exception": false,
          "start_time": "2022-03-13T16:33:34.765390",
          "status": "completed"
        },
        "tags": [],
        "colab": {
          "base_uri": "https://localhost:8080/",
          "height": 206
        },
        "id": "a54d8543",
        "outputId": "eca165ba-6356-437f-f58e-3a3020b5e163"
      },
      "outputs": [
        {
          "output_type": "execute_result",
          "data": {
            "text/plain": [
              "   RowNumber  CreditScore  Geography  Gender  Age  Tenure    Balance  \\\n",
              "0          1          619          0       0   42       2       0.00   \n",
              "1          2          608          2       0   41       1   83807.86   \n",
              "2          3          502          0       0   42       8  159660.80   \n",
              "3          4          699          0       0   39       1       0.00   \n",
              "4          5          850          2       0   43       2  125510.82   \n",
              "\n",
              "   NumOfProducts  HasCrCard  IsActiveMember  EstimatedSalary  Exited  \n",
              "0              1          1               1        101348.88       1  \n",
              "1              1          0               1        112542.58       0  \n",
              "2              3          1               0        113931.57       1  \n",
              "3              2          0               0         93826.63       0  \n",
              "4              1          1               1         79084.10       0  "
            ],
            "text/html": [
              "\n",
              "  <div id=\"df-9204150a-4f20-4015-a055-db965dba0d33\" class=\"colab-df-container\">\n",
              "    <div>\n",
              "<style scoped>\n",
              "    .dataframe tbody tr th:only-of-type {\n",
              "        vertical-align: middle;\n",
              "    }\n",
              "\n",
              "    .dataframe tbody tr th {\n",
              "        vertical-align: top;\n",
              "    }\n",
              "\n",
              "    .dataframe thead th {\n",
              "        text-align: right;\n",
              "    }\n",
              "</style>\n",
              "<table border=\"1\" class=\"dataframe\">\n",
              "  <thead>\n",
              "    <tr style=\"text-align: right;\">\n",
              "      <th></th>\n",
              "      <th>RowNumber</th>\n",
              "      <th>CreditScore</th>\n",
              "      <th>Geography</th>\n",
              "      <th>Gender</th>\n",
              "      <th>Age</th>\n",
              "      <th>Tenure</th>\n",
              "      <th>Balance</th>\n",
              "      <th>NumOfProducts</th>\n",
              "      <th>HasCrCard</th>\n",
              "      <th>IsActiveMember</th>\n",
              "      <th>EstimatedSalary</th>\n",
              "      <th>Exited</th>\n",
              "    </tr>\n",
              "  </thead>\n",
              "  <tbody>\n",
              "    <tr>\n",
              "      <th>0</th>\n",
              "      <td>1</td>\n",
              "      <td>619</td>\n",
              "      <td>0</td>\n",
              "      <td>0</td>\n",
              "      <td>42</td>\n",
              "      <td>2</td>\n",
              "      <td>0.00</td>\n",
              "      <td>1</td>\n",
              "      <td>1</td>\n",
              "      <td>1</td>\n",
              "      <td>101348.88</td>\n",
              "      <td>1</td>\n",
              "    </tr>\n",
              "    <tr>\n",
              "      <th>1</th>\n",
              "      <td>2</td>\n",
              "      <td>608</td>\n",
              "      <td>2</td>\n",
              "      <td>0</td>\n",
              "      <td>41</td>\n",
              "      <td>1</td>\n",
              "      <td>83807.86</td>\n",
              "      <td>1</td>\n",
              "      <td>0</td>\n",
              "      <td>1</td>\n",
              "      <td>112542.58</td>\n",
              "      <td>0</td>\n",
              "    </tr>\n",
              "    <tr>\n",
              "      <th>2</th>\n",
              "      <td>3</td>\n",
              "      <td>502</td>\n",
              "      <td>0</td>\n",
              "      <td>0</td>\n",
              "      <td>42</td>\n",
              "      <td>8</td>\n",
              "      <td>159660.80</td>\n",
              "      <td>3</td>\n",
              "      <td>1</td>\n",
              "      <td>0</td>\n",
              "      <td>113931.57</td>\n",
              "      <td>1</td>\n",
              "    </tr>\n",
              "    <tr>\n",
              "      <th>3</th>\n",
              "      <td>4</td>\n",
              "      <td>699</td>\n",
              "      <td>0</td>\n",
              "      <td>0</td>\n",
              "      <td>39</td>\n",
              "      <td>1</td>\n",
              "      <td>0.00</td>\n",
              "      <td>2</td>\n",
              "      <td>0</td>\n",
              "      <td>0</td>\n",
              "      <td>93826.63</td>\n",
              "      <td>0</td>\n",
              "    </tr>\n",
              "    <tr>\n",
              "      <th>4</th>\n",
              "      <td>5</td>\n",
              "      <td>850</td>\n",
              "      <td>2</td>\n",
              "      <td>0</td>\n",
              "      <td>43</td>\n",
              "      <td>2</td>\n",
              "      <td>125510.82</td>\n",
              "      <td>1</td>\n",
              "      <td>1</td>\n",
              "      <td>1</td>\n",
              "      <td>79084.10</td>\n",
              "      <td>0</td>\n",
              "    </tr>\n",
              "  </tbody>\n",
              "</table>\n",
              "</div>\n",
              "    <div class=\"colab-df-buttons\">\n",
              "\n",
              "  <div class=\"colab-df-container\">\n",
              "    <button class=\"colab-df-convert\" onclick=\"convertToInteractive('df-9204150a-4f20-4015-a055-db965dba0d33')\"\n",
              "            title=\"Convert this dataframe to an interactive table.\"\n",
              "            style=\"display:none;\">\n",
              "\n",
              "  <svg xmlns=\"http://www.w3.org/2000/svg\" height=\"24px\" viewBox=\"0 -960 960 960\">\n",
              "    <path d=\"M120-120v-720h720v720H120Zm60-500h600v-160H180v160Zm220 220h160v-160H400v160Zm0 220h160v-160H400v160ZM180-400h160v-160H180v160Zm440 0h160v-160H620v160ZM180-180h160v-160H180v160Zm440 0h160v-160H620v160Z\"/>\n",
              "  </svg>\n",
              "    </button>\n",
              "\n",
              "  <style>\n",
              "    .colab-df-container {\n",
              "      display:flex;\n",
              "      gap: 12px;\n",
              "    }\n",
              "\n",
              "    .colab-df-convert {\n",
              "      background-color: #E8F0FE;\n",
              "      border: none;\n",
              "      border-radius: 50%;\n",
              "      cursor: pointer;\n",
              "      display: none;\n",
              "      fill: #1967D2;\n",
              "      height: 32px;\n",
              "      padding: 0 0 0 0;\n",
              "      width: 32px;\n",
              "    }\n",
              "\n",
              "    .colab-df-convert:hover {\n",
              "      background-color: #E2EBFA;\n",
              "      box-shadow: 0px 1px 2px rgba(60, 64, 67, 0.3), 0px 1px 3px 1px rgba(60, 64, 67, 0.15);\n",
              "      fill: #174EA6;\n",
              "    }\n",
              "\n",
              "    .colab-df-buttons div {\n",
              "      margin-bottom: 4px;\n",
              "    }\n",
              "\n",
              "    [theme=dark] .colab-df-convert {\n",
              "      background-color: #3B4455;\n",
              "      fill: #D2E3FC;\n",
              "    }\n",
              "\n",
              "    [theme=dark] .colab-df-convert:hover {\n",
              "      background-color: #434B5C;\n",
              "      box-shadow: 0px 1px 3px 1px rgba(0, 0, 0, 0.15);\n",
              "      filter: drop-shadow(0px 1px 2px rgba(0, 0, 0, 0.3));\n",
              "      fill: #FFFFFF;\n",
              "    }\n",
              "  </style>\n",
              "\n",
              "    <script>\n",
              "      const buttonEl =\n",
              "        document.querySelector('#df-9204150a-4f20-4015-a055-db965dba0d33 button.colab-df-convert');\n",
              "      buttonEl.style.display =\n",
              "        google.colab.kernel.accessAllowed ? 'block' : 'none';\n",
              "\n",
              "      async function convertToInteractive(key) {\n",
              "        const element = document.querySelector('#df-9204150a-4f20-4015-a055-db965dba0d33');\n",
              "        const dataTable =\n",
              "          await google.colab.kernel.invokeFunction('convertToInteractive',\n",
              "                                                    [key], {});\n",
              "        if (!dataTable) return;\n",
              "\n",
              "        const docLinkHtml = 'Like what you see? Visit the ' +\n",
              "          '<a target=\"_blank\" href=https://colab.research.google.com/notebooks/data_table.ipynb>data table notebook</a>'\n",
              "          + ' to learn more about interactive tables.';\n",
              "        element.innerHTML = '';\n",
              "        dataTable['output_type'] = 'display_data';\n",
              "        await google.colab.output.renderOutput(dataTable, element);\n",
              "        const docLink = document.createElement('div');\n",
              "        docLink.innerHTML = docLinkHtml;\n",
              "        element.appendChild(docLink);\n",
              "      }\n",
              "    </script>\n",
              "  </div>\n",
              "\n",
              "\n",
              "<div id=\"df-9e6e3e3c-6710-4d2c-a788-fb5e0f3fc529\">\n",
              "  <button class=\"colab-df-quickchart\" onclick=\"quickchart('df-9e6e3e3c-6710-4d2c-a788-fb5e0f3fc529')\"\n",
              "            title=\"Suggest charts.\"\n",
              "            style=\"display:none;\">\n",
              "\n",
              "<svg xmlns=\"http://www.w3.org/2000/svg\" height=\"24px\"viewBox=\"0 0 24 24\"\n",
              "     width=\"24px\">\n",
              "    <g>\n",
              "        <path d=\"M19 3H5c-1.1 0-2 .9-2 2v14c0 1.1.9 2 2 2h14c1.1 0 2-.9 2-2V5c0-1.1-.9-2-2-2zM9 17H7v-7h2v7zm4 0h-2V7h2v10zm4 0h-2v-4h2v4z\"/>\n",
              "    </g>\n",
              "</svg>\n",
              "  </button>\n",
              "\n",
              "<style>\n",
              "  .colab-df-quickchart {\n",
              "      --bg-color: #E8F0FE;\n",
              "      --fill-color: #1967D2;\n",
              "      --hover-bg-color: #E2EBFA;\n",
              "      --hover-fill-color: #174EA6;\n",
              "      --disabled-fill-color: #AAA;\n",
              "      --disabled-bg-color: #DDD;\n",
              "  }\n",
              "\n",
              "  [theme=dark] .colab-df-quickchart {\n",
              "      --bg-color: #3B4455;\n",
              "      --fill-color: #D2E3FC;\n",
              "      --hover-bg-color: #434B5C;\n",
              "      --hover-fill-color: #FFFFFF;\n",
              "      --disabled-bg-color: #3B4455;\n",
              "      --disabled-fill-color: #666;\n",
              "  }\n",
              "\n",
              "  .colab-df-quickchart {\n",
              "    background-color: var(--bg-color);\n",
              "    border: none;\n",
              "    border-radius: 50%;\n",
              "    cursor: pointer;\n",
              "    display: none;\n",
              "    fill: var(--fill-color);\n",
              "    height: 32px;\n",
              "    padding: 0;\n",
              "    width: 32px;\n",
              "  }\n",
              "\n",
              "  .colab-df-quickchart:hover {\n",
              "    background-color: var(--hover-bg-color);\n",
              "    box-shadow: 0 1px 2px rgba(60, 64, 67, 0.3), 0 1px 3px 1px rgba(60, 64, 67, 0.15);\n",
              "    fill: var(--button-hover-fill-color);\n",
              "  }\n",
              "\n",
              "  .colab-df-quickchart-complete:disabled,\n",
              "  .colab-df-quickchart-complete:disabled:hover {\n",
              "    background-color: var(--disabled-bg-color);\n",
              "    fill: var(--disabled-fill-color);\n",
              "    box-shadow: none;\n",
              "  }\n",
              "\n",
              "  .colab-df-spinner {\n",
              "    border: 2px solid var(--fill-color);\n",
              "    border-color: transparent;\n",
              "    border-bottom-color: var(--fill-color);\n",
              "    animation:\n",
              "      spin 1s steps(1) infinite;\n",
              "  }\n",
              "\n",
              "  @keyframes spin {\n",
              "    0% {\n",
              "      border-color: transparent;\n",
              "      border-bottom-color: var(--fill-color);\n",
              "      border-left-color: var(--fill-color);\n",
              "    }\n",
              "    20% {\n",
              "      border-color: transparent;\n",
              "      border-left-color: var(--fill-color);\n",
              "      border-top-color: var(--fill-color);\n",
              "    }\n",
              "    30% {\n",
              "      border-color: transparent;\n",
              "      border-left-color: var(--fill-color);\n",
              "      border-top-color: var(--fill-color);\n",
              "      border-right-color: var(--fill-color);\n",
              "    }\n",
              "    40% {\n",
              "      border-color: transparent;\n",
              "      border-right-color: var(--fill-color);\n",
              "      border-top-color: var(--fill-color);\n",
              "    }\n",
              "    60% {\n",
              "      border-color: transparent;\n",
              "      border-right-color: var(--fill-color);\n",
              "    }\n",
              "    80% {\n",
              "      border-color: transparent;\n",
              "      border-right-color: var(--fill-color);\n",
              "      border-bottom-color: var(--fill-color);\n",
              "    }\n",
              "    90% {\n",
              "      border-color: transparent;\n",
              "      border-bottom-color: var(--fill-color);\n",
              "    }\n",
              "  }\n",
              "</style>\n",
              "\n",
              "  <script>\n",
              "    async function quickchart(key) {\n",
              "      const quickchartButtonEl =\n",
              "        document.querySelector('#' + key + ' button');\n",
              "      quickchartButtonEl.disabled = true;  // To prevent multiple clicks.\n",
              "      quickchartButtonEl.classList.add('colab-df-spinner');\n",
              "      try {\n",
              "        const charts = await google.colab.kernel.invokeFunction(\n",
              "            'suggestCharts', [key], {});\n",
              "      } catch (error) {\n",
              "        console.error('Error during call to suggestCharts:', error);\n",
              "      }\n",
              "      quickchartButtonEl.classList.remove('colab-df-spinner');\n",
              "      quickchartButtonEl.classList.add('colab-df-quickchart-complete');\n",
              "    }\n",
              "    (() => {\n",
              "      let quickchartButtonEl =\n",
              "        document.querySelector('#df-9e6e3e3c-6710-4d2c-a788-fb5e0f3fc529 button');\n",
              "      quickchartButtonEl.style.display =\n",
              "        google.colab.kernel.accessAllowed ? 'block' : 'none';\n",
              "    })();\n",
              "  </script>\n",
              "</div>\n",
              "    </div>\n",
              "  </div>\n"
            ]
          },
          "metadata": {},
          "execution_count": 22
        }
      ],
      "source": [
        "df = pd.get_dummies(df, drop_first=True)\n",
        "df.head()"
      ]
    },
    {
      "cell_type": "markdown",
      "id": "9fba6794",
      "metadata": {
        "heading_collapsed": true,
        "papermill": {
          "duration": 0.094145,
          "end_time": "2022-03-13T16:33:35.076316",
          "exception": false,
          "start_time": "2022-03-13T16:33:34.982171",
          "status": "completed"
        },
        "tags": [],
        "id": "9fba6794"
      },
      "source": [
        "## Preprocessing of Data"
      ]
    },
    {
      "cell_type": "code",
      "execution_count": 23,
      "id": "dddc44cc",
      "metadata": {
        "execution": {
          "iopub.execute_input": "2022-03-13T16:33:35.272871Z",
          "iopub.status.busy": "2022-03-13T16:33:35.270621Z",
          "iopub.status.idle": "2022-03-13T16:33:35.273647Z",
          "shell.execute_reply": "2022-03-13T16:33:35.274153Z",
          "shell.execute_reply.started": "2022-03-13T16:21:31.603359Z"
        },
        "hidden": true,
        "id": "dddc44cc",
        "papermill": {
          "duration": 0.104605,
          "end_time": "2022-03-13T16:33:35.274363",
          "exception": false,
          "start_time": "2022-03-13T16:33:35.169758",
          "status": "completed"
        },
        "tags": []
      },
      "outputs": [],
      "source": [
        "from sklearn.model_selection import train_test_split\n",
        "from sklearn.preprocessing import MinMaxScaler"
      ]
    },
    {
      "cell_type": "code",
      "execution_count": 24,
      "id": "e5e7c2be",
      "metadata": {
        "cell_style": "center",
        "execution": {
          "iopub.execute_input": "2022-03-13T16:33:35.469952Z",
          "iopub.status.busy": "2022-03-13T16:33:35.468859Z",
          "iopub.status.idle": "2022-03-13T16:33:35.483206Z",
          "shell.execute_reply": "2022-03-13T16:33:35.483780Z",
          "shell.execute_reply.started": "2022-03-13T16:21:31.609288Z"
        },
        "hidden": true,
        "id": "e5e7c2be",
        "papermill": {
          "duration": 0.114044,
          "end_time": "2022-03-13T16:33:35.483944",
          "exception": false,
          "start_time": "2022-03-13T16:33:35.369900",
          "status": "completed"
        },
        "tags": []
      },
      "outputs": [],
      "source": [
        "X = df.drop('Exited', axis=1)\n",
        "y = df['Exited'].values\n",
        "seed = 42\n",
        "X_train, X_test, y_train, y_test = train_test_split(X,\n",
        "                                                    y,\n",
        "                                                    stratify=y,\n",
        "                                                    test_size=0.1,\n",
        "                                                    random_state=seed)\n"
      ]
    },
    {
      "cell_type": "code",
      "execution_count": 25,
      "id": "2a53d542",
      "metadata": {
        "cell_style": "split",
        "execution": {
          "iopub.execute_input": "2022-03-13T16:33:35.683341Z",
          "iopub.status.busy": "2022-03-13T16:33:35.682185Z",
          "iopub.status.idle": "2022-03-13T16:33:35.684521Z",
          "shell.execute_reply": "2022-03-13T16:33:35.685312Z",
          "shell.execute_reply.started": "2022-03-13T16:21:31.629324Z"
        },
        "hidden": true,
        "papermill": {
          "duration": 0.103984,
          "end_time": "2022-03-13T16:33:35.685507",
          "exception": false,
          "start_time": "2022-03-13T16:33:35.581523",
          "status": "completed"
        },
        "tags": [],
        "id": "2a53d542"
      },
      "outputs": [],
      "source": [
        "scaler = MinMaxScaler()\n"
      ]
    },
    {
      "cell_type": "code",
      "execution_count": 26,
      "id": "34957b29",
      "metadata": {
        "cell_style": "split",
        "execution": {
          "iopub.execute_input": "2022-03-13T16:33:35.884592Z",
          "iopub.status.busy": "2022-03-13T16:33:35.883824Z",
          "iopub.status.idle": "2022-03-13T16:33:35.894062Z",
          "shell.execute_reply": "2022-03-13T16:33:35.893369Z",
          "shell.execute_reply.started": "2022-03-13T16:21:31.635521Z"
        },
        "hidden": true,
        "id": "34957b29",
        "papermill": {
          "duration": 0.112805,
          "end_time": "2022-03-13T16:33:35.894270",
          "exception": false,
          "start_time": "2022-03-13T16:33:35.781465",
          "status": "completed"
        },
        "tags": []
      },
      "outputs": [],
      "source": [
        "X_train = scaler.fit_transform(X_train)\n",
        "X_test = scaler.transform(X_test)"
      ]
    },
    {
      "cell_type": "markdown",
      "id": "8d648baa",
      "metadata": {
        "id": "8d648baa",
        "papermill": {
          "duration": 0.095539,
          "end_time": "2022-03-13T16:33:36.087008",
          "exception": false,
          "start_time": "2022-03-13T16:33:35.991469",
          "status": "completed"
        },
        "tags": []
      },
      "source": [
        "## Modelling & Model Performance"
      ]
    },
    {
      "cell_type": "markdown",
      "id": "25b7159e",
      "metadata": {
        "heading_collapsed": true,
        "papermill": {
          "duration": 0.094138,
          "end_time": "2022-03-13T16:33:36.275564",
          "exception": false,
          "start_time": "2022-03-13T16:33:36.181426",
          "status": "completed"
        },
        "tags": [],
        "id": "25b7159e"
      },
      "source": [
        "### without class_weigth"
      ]
    },
    {
      "cell_type": "code",
      "execution_count": 27,
      "id": "543725a6",
      "metadata": {
        "execution": {
          "iopub.execute_input": "2022-03-13T16:33:36.472812Z",
          "iopub.status.busy": "2022-03-13T16:33:36.471898Z",
          "iopub.status.idle": "2022-03-13T16:33:36.475552Z",
          "shell.execute_reply": "2022-03-13T16:33:36.476061Z",
          "shell.execute_reply.started": "2022-03-13T16:21:31.651599Z"
        },
        "papermill": {
          "duration": 0.107901,
          "end_time": "2022-03-13T16:33:36.476257",
          "exception": false,
          "start_time": "2022-03-13T16:33:36.368356",
          "status": "completed"
        },
        "tags": [],
        "colab": {
          "base_uri": "https://localhost:8080/"
        },
        "id": "543725a6",
        "outputId": "2d9e282c-6251-468b-dd73-f734acb1cba8"
      },
      "outputs": [
        {
          "output_type": "execute_result",
          "data": {
            "text/plain": [
              "(9000, 11)"
            ]
          },
          "metadata": {},
          "execution_count": 27
        }
      ],
      "source": [
        "X_train.shape"
      ]
    },
    {
      "cell_type": "code",
      "execution_count": 28,
      "id": "889c1bc7",
      "metadata": {
        "cell_style": "split",
        "execution": {
          "iopub.execute_input": "2022-03-13T16:33:36.836172Z",
          "iopub.status.busy": "2022-03-13T16:33:36.835150Z",
          "iopub.status.idle": "2022-03-13T16:33:39.827581Z",
          "shell.execute_reply": "2022-03-13T16:33:39.828181Z",
          "shell.execute_reply.started": "2022-03-13T16:24:32.479661Z"
        },
        "hidden": true,
        "papermill": {
          "duration": 3.164967,
          "end_time": "2022-03-13T16:33:39.828389",
          "exception": false,
          "start_time": "2022-03-13T16:33:36.663422",
          "status": "completed"
        },
        "tags": [],
        "id": "889c1bc7"
      },
      "outputs": [],
      "source": [
        "from tensorflow.keras.optimizers import Adam\n",
        "model = Sequential()\n",
        "\n",
        "tf.random.set_seed(seed)\n",
        "\n",
        "model.add(Dense(16, activation=\"relu\"))\n",
        "model.add(Dense(8, activation=\"relu\"))\n",
        "model.add(Dense(1, activation=\"sigmoid\"))\n",
        "\n",
        "opt = Adam(learning_rate=0.001)\n",
        "model.compile(optimizer=opt,\n",
        "              loss=\"binary_crossentropy\",\n",
        "              metrics=[\"Recall\"])"
      ]
    },
    {
      "cell_type": "code",
      "execution_count": 29,
      "id": "3fab7fab",
      "metadata": {
        "cell_style": "split",
        "execution": {
          "iopub.execute_input": "2022-03-13T16:33:40.027439Z",
          "iopub.status.busy": "2022-03-13T16:33:40.026406Z",
          "iopub.status.idle": "2022-03-13T16:33:40.032306Z",
          "shell.execute_reply": "2022-03-13T16:33:40.031687Z",
          "shell.execute_reply.started": "2022-03-13T16:24:38.959677Z"
        },
        "hidden": true,
        "papermill": {
          "duration": 0.106903,
          "end_time": "2022-03-13T16:33:40.032448",
          "exception": false,
          "start_time": "2022-03-13T16:33:39.925545",
          "status": "completed"
        },
        "tags": [],
        "id": "3fab7fab"
      },
      "outputs": [],
      "source": [
        "early_stop = EarlyStopping(monitor=\"val_loss\",\n",
        "                           mode=\"auto\",\n",
        "                           verbose=1,\n",
        "                           patience=15)\n",
        "#The patience is often set somewhere between 10 and 100 (10 or 20 is more common),\n",
        "#but it really depends on your dataset and network."
      ]
    },
    {
      "cell_type": "code",
      "execution_count": 30,
      "id": "a0cd9726",
      "metadata": {
        "cell_style": "center",
        "execution": {
          "iopub.execute_input": "2022-03-13T16:33:40.234604Z",
          "iopub.status.busy": "2022-03-13T16:33:40.233543Z",
          "iopub.status.idle": "2022-03-13T16:34:22.893762Z",
          "shell.execute_reply": "2022-03-13T16:34:22.894379Z",
          "shell.execute_reply.started": "2022-03-13T16:24:40.410645Z"
        },
        "hidden": true,
        "papermill": {
          "duration": 42.765376,
          "end_time": "2022-03-13T16:34:22.894588",
          "exception": false,
          "start_time": "2022-03-13T16:33:40.129212",
          "status": "completed"
        },
        "scrolled": true,
        "tags": [],
        "colab": {
          "base_uri": "https://localhost:8080/"
        },
        "id": "a0cd9726",
        "outputId": "d45f0c1e-3131-4f1f-865b-f8fefea4e297"
      },
      "outputs": [
        {
          "output_type": "stream",
          "name": "stdout",
          "text": [
            "Epoch 1/200\n",
            "64/64 [==============================] - 2s 9ms/step - loss: 0.5295 - recall: 0.0030 - val_loss: 0.4912 - val_recall: 0.0000e+00\n",
            "Epoch 2/200\n",
            "64/64 [==============================] - 0s 4ms/step - loss: 0.4937 - recall: 0.0000e+00 - val_loss: 0.4773 - val_recall: 0.0000e+00\n",
            "Epoch 3/200\n",
            "64/64 [==============================] - 0s 3ms/step - loss: 0.4841 - recall: 0.0024 - val_loss: 0.4705 - val_recall: 0.0000e+00\n",
            "Epoch 4/200\n",
            "64/64 [==============================] - 0s 4ms/step - loss: 0.4769 - recall: 0.0079 - val_loss: 0.4643 - val_recall: 0.0055\n",
            "Epoch 5/200\n",
            "64/64 [==============================] - 0s 4ms/step - loss: 0.4711 - recall: 0.0212 - val_loss: 0.4576 - val_recall: 0.0221\n",
            "Epoch 6/200\n",
            "64/64 [==============================] - 0s 5ms/step - loss: 0.4651 - recall: 0.0278 - val_loss: 0.4519 - val_recall: 0.0166\n",
            "Epoch 7/200\n",
            "64/64 [==============================] - 0s 4ms/step - loss: 0.4605 - recall: 0.0448 - val_loss: 0.4457 - val_recall: 0.0773\n",
            "Epoch 8/200\n",
            "64/64 [==============================] - 0s 4ms/step - loss: 0.4551 - recall: 0.0551 - val_loss: 0.4400 - val_recall: 0.0884\n",
            "Epoch 9/200\n",
            "64/64 [==============================] - 0s 3ms/step - loss: 0.4503 - recall: 0.0648 - val_loss: 0.4358 - val_recall: 0.1547\n",
            "Epoch 10/200\n",
            "64/64 [==============================] - 0s 3ms/step - loss: 0.4461 - recall: 0.0896 - val_loss: 0.4293 - val_recall: 0.1492\n",
            "Epoch 11/200\n",
            "64/64 [==============================] - 0s 3ms/step - loss: 0.4431 - recall: 0.1023 - val_loss: 0.4250 - val_recall: 0.1547\n",
            "Epoch 12/200\n",
            "64/64 [==============================] - 0s 3ms/step - loss: 0.4397 - recall: 0.1253 - val_loss: 0.4219 - val_recall: 0.1989\n",
            "Epoch 13/200\n",
            "64/64 [==============================] - 0s 3ms/step - loss: 0.4372 - recall: 0.1320 - val_loss: 0.4241 - val_recall: 0.2818\n",
            "Epoch 14/200\n",
            "64/64 [==============================] - 0s 4ms/step - loss: 0.4359 - recall: 0.1568 - val_loss: 0.4165 - val_recall: 0.2044\n",
            "Epoch 15/200\n",
            "64/64 [==============================] - 0s 3ms/step - loss: 0.4339 - recall: 0.1592 - val_loss: 0.4160 - val_recall: 0.2431\n",
            "Epoch 16/200\n",
            "64/64 [==============================] - 0s 4ms/step - loss: 0.4327 - recall: 0.1671 - val_loss: 0.4136 - val_recall: 0.2486\n",
            "Epoch 17/200\n",
            "64/64 [==============================] - 0s 6ms/step - loss: 0.4309 - recall: 0.1943 - val_loss: 0.4116 - val_recall: 0.2210\n",
            "Epoch 18/200\n",
            "64/64 [==============================] - 0s 4ms/step - loss: 0.4295 - recall: 0.1810 - val_loss: 0.4094 - val_recall: 0.2376\n",
            "Epoch 19/200\n",
            "64/64 [==============================] - 0s 4ms/step - loss: 0.4282 - recall: 0.1877 - val_loss: 0.4090 - val_recall: 0.2873\n",
            "Epoch 20/200\n",
            "64/64 [==============================] - 0s 5ms/step - loss: 0.4266 - recall: 0.2046 - val_loss: 0.4053 - val_recall: 0.2431\n",
            "Epoch 21/200\n",
            "64/64 [==============================] - 0s 6ms/step - loss: 0.4247 - recall: 0.2052 - val_loss: 0.4044 - val_recall: 0.3094\n",
            "Epoch 22/200\n",
            "64/64 [==============================] - 0s 6ms/step - loss: 0.4231 - recall: 0.2125 - val_loss: 0.4013 - val_recall: 0.2431\n",
            "Epoch 23/200\n",
            "64/64 [==============================] - 0s 6ms/step - loss: 0.4217 - recall: 0.2179 - val_loss: 0.3994 - val_recall: 0.2928\n",
            "Epoch 24/200\n",
            "64/64 [==============================] - 0s 5ms/step - loss: 0.4203 - recall: 0.2306 - val_loss: 0.3971 - val_recall: 0.3039\n",
            "Epoch 25/200\n",
            "64/64 [==============================] - 0s 5ms/step - loss: 0.4180 - recall: 0.2391 - val_loss: 0.3950 - val_recall: 0.2928\n",
            "Epoch 26/200\n",
            "64/64 [==============================] - 0s 4ms/step - loss: 0.4172 - recall: 0.2361 - val_loss: 0.3937 - val_recall: 0.2707\n",
            "Epoch 27/200\n",
            "64/64 [==============================] - 0s 3ms/step - loss: 0.4153 - recall: 0.2452 - val_loss: 0.3907 - val_recall: 0.3149\n",
            "Epoch 28/200\n",
            "64/64 [==============================] - 0s 3ms/step - loss: 0.4145 - recall: 0.2506 - val_loss: 0.3885 - val_recall: 0.3315\n",
            "Epoch 29/200\n",
            "64/64 [==============================] - 0s 3ms/step - loss: 0.4120 - recall: 0.2567 - val_loss: 0.3862 - val_recall: 0.3315\n",
            "Epoch 30/200\n",
            "64/64 [==============================] - 0s 3ms/step - loss: 0.4095 - recall: 0.2791 - val_loss: 0.3867 - val_recall: 0.3536\n",
            "Epoch 31/200\n",
            "64/64 [==============================] - 0s 3ms/step - loss: 0.4076 - recall: 0.2785 - val_loss: 0.3826 - val_recall: 0.3536\n",
            "Epoch 32/200\n",
            "64/64 [==============================] - 0s 3ms/step - loss: 0.4052 - recall: 0.2748 - val_loss: 0.3777 - val_recall: 0.3149\n",
            "Epoch 33/200\n",
            "64/64 [==============================] - 0s 3ms/step - loss: 0.4018 - recall: 0.2881 - val_loss: 0.3738 - val_recall: 0.3370\n",
            "Epoch 34/200\n",
            "64/64 [==============================] - 0s 3ms/step - loss: 0.3992 - recall: 0.2863 - val_loss: 0.3705 - val_recall: 0.3536\n",
            "Epoch 35/200\n",
            "64/64 [==============================] - 0s 3ms/step - loss: 0.3972 - recall: 0.3008 - val_loss: 0.3693 - val_recall: 0.3867\n",
            "Epoch 36/200\n",
            "64/64 [==============================] - 0s 3ms/step - loss: 0.3930 - recall: 0.3105 - val_loss: 0.3632 - val_recall: 0.3204\n",
            "Epoch 37/200\n",
            "64/64 [==============================] - 0s 3ms/step - loss: 0.3913 - recall: 0.3142 - val_loss: 0.3595 - val_recall: 0.3757\n",
            "Epoch 38/200\n",
            "64/64 [==============================] - 0s 3ms/step - loss: 0.3879 - recall: 0.3287 - val_loss: 0.3565 - val_recall: 0.3923\n",
            "Epoch 39/200\n",
            "64/64 [==============================] - 0s 3ms/step - loss: 0.3844 - recall: 0.3323 - val_loss: 0.3520 - val_recall: 0.3867\n",
            "Epoch 40/200\n",
            "64/64 [==============================] - 0s 3ms/step - loss: 0.3820 - recall: 0.3378 - val_loss: 0.3492 - val_recall: 0.3978\n",
            "Epoch 41/200\n",
            "64/64 [==============================] - 0s 3ms/step - loss: 0.3794 - recall: 0.3396 - val_loss: 0.3464 - val_recall: 0.4365\n",
            "Epoch 42/200\n",
            "64/64 [==============================] - 0s 3ms/step - loss: 0.3774 - recall: 0.3511 - val_loss: 0.3435 - val_recall: 0.3757\n",
            "Epoch 43/200\n",
            "64/64 [==============================] - 0s 3ms/step - loss: 0.3744 - recall: 0.3499 - val_loss: 0.3396 - val_recall: 0.4475\n",
            "Epoch 44/200\n",
            "64/64 [==============================] - 0s 3ms/step - loss: 0.3728 - recall: 0.3602 - val_loss: 0.3371 - val_recall: 0.4586\n",
            "Epoch 45/200\n",
            "64/64 [==============================] - 0s 3ms/step - loss: 0.3705 - recall: 0.3626 - val_loss: 0.3352 - val_recall: 0.4641\n",
            "Epoch 46/200\n",
            "64/64 [==============================] - 0s 3ms/step - loss: 0.3682 - recall: 0.3602 - val_loss: 0.3324 - val_recall: 0.4641\n",
            "Epoch 47/200\n",
            "64/64 [==============================] - 0s 3ms/step - loss: 0.3667 - recall: 0.3759 - val_loss: 0.3286 - val_recall: 0.4586\n",
            "Epoch 48/200\n",
            "64/64 [==============================] - 0s 3ms/step - loss: 0.3655 - recall: 0.3753 - val_loss: 0.3272 - val_recall: 0.4586\n",
            "Epoch 49/200\n",
            "64/64 [==============================] - 0s 3ms/step - loss: 0.3637 - recall: 0.3808 - val_loss: 0.3258 - val_recall: 0.4199\n",
            "Epoch 50/200\n",
            "64/64 [==============================] - 0s 3ms/step - loss: 0.3620 - recall: 0.3759 - val_loss: 0.3244 - val_recall: 0.4530\n",
            "Epoch 51/200\n",
            "64/64 [==============================] - 0s 3ms/step - loss: 0.3602 - recall: 0.3977 - val_loss: 0.3222 - val_recall: 0.4641\n",
            "Epoch 52/200\n",
            "64/64 [==============================] - 0s 3ms/step - loss: 0.3598 - recall: 0.3832 - val_loss: 0.3237 - val_recall: 0.5028\n",
            "Epoch 53/200\n",
            "64/64 [==============================] - 0s 3ms/step - loss: 0.3588 - recall: 0.3995 - val_loss: 0.3193 - val_recall: 0.4365\n",
            "Epoch 54/200\n",
            "64/64 [==============================] - 0s 3ms/step - loss: 0.3585 - recall: 0.4001 - val_loss: 0.3182 - val_recall: 0.4475\n",
            "Epoch 55/200\n",
            "64/64 [==============================] - 0s 3ms/step - loss: 0.3570 - recall: 0.4013 - val_loss: 0.3172 - val_recall: 0.4807\n",
            "Epoch 56/200\n",
            "64/64 [==============================] - 0s 3ms/step - loss: 0.3559 - recall: 0.4128 - val_loss: 0.3177 - val_recall: 0.5028\n",
            "Epoch 57/200\n",
            "64/64 [==============================] - 0s 3ms/step - loss: 0.3552 - recall: 0.4074 - val_loss: 0.3160 - val_recall: 0.5083\n",
            "Epoch 58/200\n",
            "64/64 [==============================] - 0s 4ms/step - loss: 0.3540 - recall: 0.4086 - val_loss: 0.3144 - val_recall: 0.4751\n",
            "Epoch 59/200\n",
            "64/64 [==============================] - 0s 3ms/step - loss: 0.3539 - recall: 0.4092 - val_loss: 0.3156 - val_recall: 0.5083\n",
            "Epoch 60/200\n",
            "64/64 [==============================] - 0s 3ms/step - loss: 0.3526 - recall: 0.4177 - val_loss: 0.3132 - val_recall: 0.4751\n",
            "Epoch 61/200\n",
            "64/64 [==============================] - 0s 4ms/step - loss: 0.3543 - recall: 0.4019 - val_loss: 0.3127 - val_recall: 0.4917\n",
            "Epoch 62/200\n",
            "64/64 [==============================] - 0s 3ms/step - loss: 0.3516 - recall: 0.4159 - val_loss: 0.3182 - val_recall: 0.5138\n",
            "Epoch 63/200\n",
            "64/64 [==============================] - 0s 3ms/step - loss: 0.3515 - recall: 0.4153 - val_loss: 0.3121 - val_recall: 0.5083\n",
            "Epoch 64/200\n",
            "64/64 [==============================] - 0s 3ms/step - loss: 0.3518 - recall: 0.4171 - val_loss: 0.3131 - val_recall: 0.5083\n",
            "Epoch 65/200\n",
            "64/64 [==============================] - 0s 3ms/step - loss: 0.3504 - recall: 0.4092 - val_loss: 0.3123 - val_recall: 0.4530\n",
            "Epoch 66/200\n",
            "64/64 [==============================] - 0s 4ms/step - loss: 0.3509 - recall: 0.4153 - val_loss: 0.3142 - val_recall: 0.5193\n",
            "Epoch 67/200\n",
            "64/64 [==============================] - 0s 3ms/step - loss: 0.3502 - recall: 0.4268 - val_loss: 0.3099 - val_recall: 0.4751\n",
            "Epoch 68/200\n",
            "64/64 [==============================] - 0s 3ms/step - loss: 0.3499 - recall: 0.4146 - val_loss: 0.3097 - val_recall: 0.5083\n",
            "Epoch 69/200\n",
            "64/64 [==============================] - 0s 3ms/step - loss: 0.3499 - recall: 0.4201 - val_loss: 0.3122 - val_recall: 0.5249\n",
            "Epoch 70/200\n",
            "64/64 [==============================] - 0s 6ms/step - loss: 0.3492 - recall: 0.4280 - val_loss: 0.3083 - val_recall: 0.5138\n",
            "Epoch 71/200\n",
            "64/64 [==============================] - 0s 5ms/step - loss: 0.3488 - recall: 0.4286 - val_loss: 0.3091 - val_recall: 0.4862\n",
            "Epoch 72/200\n",
            "64/64 [==============================] - 0s 5ms/step - loss: 0.3489 - recall: 0.4237 - val_loss: 0.3074 - val_recall: 0.5083\n",
            "Epoch 73/200\n",
            "64/64 [==============================] - 1s 9ms/step - loss: 0.3482 - recall: 0.4237 - val_loss: 0.3072 - val_recall: 0.5083\n",
            "Epoch 74/200\n",
            "64/64 [==============================] - 1s 12ms/step - loss: 0.3476 - recall: 0.4310 - val_loss: 0.3100 - val_recall: 0.5028\n",
            "Epoch 75/200\n",
            "64/64 [==============================] - 1s 13ms/step - loss: 0.3485 - recall: 0.4195 - val_loss: 0.3077 - val_recall: 0.4586\n",
            "Epoch 76/200\n",
            "64/64 [==============================] - 1s 12ms/step - loss: 0.3475 - recall: 0.4262 - val_loss: 0.3090 - val_recall: 0.5028\n",
            "Epoch 77/200\n",
            "64/64 [==============================] - 0s 8ms/step - loss: 0.3471 - recall: 0.4286 - val_loss: 0.3071 - val_recall: 0.5028\n",
            "Epoch 78/200\n",
            "64/64 [==============================] - 1s 12ms/step - loss: 0.3478 - recall: 0.4225 - val_loss: 0.3095 - val_recall: 0.5083\n",
            "Epoch 79/200\n",
            "64/64 [==============================] - 0s 6ms/step - loss: 0.3471 - recall: 0.4231 - val_loss: 0.3085 - val_recall: 0.5083\n",
            "Epoch 80/200\n",
            "64/64 [==============================] - 0s 5ms/step - loss: 0.3471 - recall: 0.4310 - val_loss: 0.3065 - val_recall: 0.5028\n",
            "Epoch 81/200\n",
            "64/64 [==============================] - 0s 7ms/step - loss: 0.3473 - recall: 0.4310 - val_loss: 0.3066 - val_recall: 0.5028\n",
            "Epoch 82/200\n",
            "64/64 [==============================] - 1s 10ms/step - loss: 0.3461 - recall: 0.4231 - val_loss: 0.3065 - val_recall: 0.4641\n",
            "Epoch 83/200\n",
            "64/64 [==============================] - 1s 8ms/step - loss: 0.3464 - recall: 0.4346 - val_loss: 0.3054 - val_recall: 0.4807\n",
            "Epoch 84/200\n",
            "64/64 [==============================] - 0s 6ms/step - loss: 0.3461 - recall: 0.4268 - val_loss: 0.3065 - val_recall: 0.5083\n",
            "Epoch 85/200\n",
            "64/64 [==============================] - 1s 10ms/step - loss: 0.3457 - recall: 0.4304 - val_loss: 0.3050 - val_recall: 0.5193\n",
            "Epoch 86/200\n",
            "64/64 [==============================] - 1s 9ms/step - loss: 0.3458 - recall: 0.4364 - val_loss: 0.3052 - val_recall: 0.5028\n",
            "Epoch 87/200\n",
            "64/64 [==============================] - 0s 6ms/step - loss: 0.3452 - recall: 0.4395 - val_loss: 0.3068 - val_recall: 0.4475\n",
            "Epoch 88/200\n",
            "64/64 [==============================] - 0s 6ms/step - loss: 0.3455 - recall: 0.4316 - val_loss: 0.3056 - val_recall: 0.5028\n",
            "Epoch 89/200\n",
            "64/64 [==============================] - 0s 6ms/step - loss: 0.3449 - recall: 0.4352 - val_loss: 0.3047 - val_recall: 0.5138\n",
            "Epoch 90/200\n",
            "64/64 [==============================] - 0s 6ms/step - loss: 0.3455 - recall: 0.4304 - val_loss: 0.3059 - val_recall: 0.5028\n",
            "Epoch 91/200\n",
            "64/64 [==============================] - 0s 6ms/step - loss: 0.3454 - recall: 0.4370 - val_loss: 0.3069 - val_recall: 0.5304\n",
            "Epoch 92/200\n",
            "64/64 [==============================] - 0s 6ms/step - loss: 0.3447 - recall: 0.4370 - val_loss: 0.3104 - val_recall: 0.5470\n",
            "Epoch 93/200\n",
            "64/64 [==============================] - 0s 6ms/step - loss: 0.3450 - recall: 0.4370 - val_loss: 0.3053 - val_recall: 0.5083\n",
            "Epoch 94/200\n",
            "64/64 [==============================] - 0s 6ms/step - loss: 0.3452 - recall: 0.4431 - val_loss: 0.3074 - val_recall: 0.5138\n",
            "Epoch 95/200\n",
            "64/64 [==============================] - 1s 10ms/step - loss: 0.3444 - recall: 0.4292 - val_loss: 0.3079 - val_recall: 0.5249\n",
            "Epoch 96/200\n",
            "64/64 [==============================] - 1s 10ms/step - loss: 0.3445 - recall: 0.4467 - val_loss: 0.3064 - val_recall: 0.4586\n",
            "Epoch 97/200\n",
            "64/64 [==============================] - 0s 6ms/step - loss: 0.3452 - recall: 0.4346 - val_loss: 0.3079 - val_recall: 0.5304\n",
            "Epoch 98/200\n",
            "64/64 [==============================] - 1s 8ms/step - loss: 0.3449 - recall: 0.4455 - val_loss: 0.3048 - val_recall: 0.4586\n",
            "Epoch 99/200\n",
            "64/64 [==============================] - 1s 14ms/step - loss: 0.3447 - recall: 0.4328 - val_loss: 0.3066 - val_recall: 0.5580\n",
            "Epoch 100/200\n",
            "64/64 [==============================] - 1s 9ms/step - loss: 0.3434 - recall: 0.4370 - val_loss: 0.3038 - val_recall: 0.5083\n",
            "Epoch 101/200\n",
            "64/64 [==============================] - 1s 12ms/step - loss: 0.3435 - recall: 0.4443 - val_loss: 0.3038 - val_recall: 0.4917\n",
            "Epoch 102/200\n",
            "64/64 [==============================] - 1s 16ms/step - loss: 0.3444 - recall: 0.4370 - val_loss: 0.3030 - val_recall: 0.5083\n",
            "Epoch 103/200\n",
            "64/64 [==============================] - 1s 15ms/step - loss: 0.3430 - recall: 0.4473 - val_loss: 0.3052 - val_recall: 0.5193\n",
            "Epoch 104/200\n",
            "64/64 [==============================] - 1s 9ms/step - loss: 0.3426 - recall: 0.4340 - val_loss: 0.3141 - val_recall: 0.5746\n",
            "Epoch 105/200\n",
            "64/64 [==============================] - 0s 6ms/step - loss: 0.3441 - recall: 0.4510 - val_loss: 0.3032 - val_recall: 0.5138\n",
            "Epoch 106/200\n",
            "64/64 [==============================] - 1s 9ms/step - loss: 0.3437 - recall: 0.4479 - val_loss: 0.3039 - val_recall: 0.4917\n",
            "Epoch 107/200\n",
            "64/64 [==============================] - 0s 5ms/step - loss: 0.3435 - recall: 0.4352 - val_loss: 0.3071 - val_recall: 0.5580\n",
            "Epoch 108/200\n",
            "64/64 [==============================] - 0s 4ms/step - loss: 0.3429 - recall: 0.4449 - val_loss: 0.3037 - val_recall: 0.5193\n",
            "Epoch 109/200\n",
            "64/64 [==============================] - 0s 3ms/step - loss: 0.3430 - recall: 0.4492 - val_loss: 0.3043 - val_recall: 0.5193\n",
            "Epoch 110/200\n",
            "64/64 [==============================] - 0s 3ms/step - loss: 0.3426 - recall: 0.4510 - val_loss: 0.3042 - val_recall: 0.5028\n",
            "Epoch 111/200\n",
            "64/64 [==============================] - 0s 3ms/step - loss: 0.3437 - recall: 0.4504 - val_loss: 0.3071 - val_recall: 0.5525\n",
            "Epoch 112/200\n",
            "64/64 [==============================] - 0s 3ms/step - loss: 0.3426 - recall: 0.4540 - val_loss: 0.3045 - val_recall: 0.5193\n",
            "Epoch 113/200\n",
            "64/64 [==============================] - 0s 3ms/step - loss: 0.3425 - recall: 0.4413 - val_loss: 0.3041 - val_recall: 0.5083\n",
            "Epoch 114/200\n",
            "64/64 [==============================] - 0s 3ms/step - loss: 0.3425 - recall: 0.4516 - val_loss: 0.3031 - val_recall: 0.5138\n",
            "Epoch 115/200\n",
            "64/64 [==============================] - 0s 3ms/step - loss: 0.3416 - recall: 0.4552 - val_loss: 0.3031 - val_recall: 0.4862\n",
            "Epoch 116/200\n",
            "64/64 [==============================] - 0s 3ms/step - loss: 0.3419 - recall: 0.4461 - val_loss: 0.3035 - val_recall: 0.5304\n",
            "Epoch 117/200\n",
            "64/64 [==============================] - 0s 3ms/step - loss: 0.3422 - recall: 0.4479 - val_loss: 0.3043 - val_recall: 0.5304\n",
            "Epoch 117: early stopping\n"
          ]
        },
        {
          "output_type": "execute_result",
          "data": {
            "text/plain": [
              "<keras.src.callbacks.History at 0x78ff89c4a7d0>"
            ]
          },
          "metadata": {},
          "execution_count": 30
        }
      ],
      "source": [
        "model.fit(x=X_train,\n",
        "          y=y_train,\n",
        "          validation_split=.1,\n",
        "          batch_size=128,\n",
        "          epochs=200,\n",
        "          verbose=1,\n",
        "          callbacks=[early_stop])"
      ]
    },
    {
      "cell_type": "code",
      "execution_count": 31,
      "id": "bf8ae656",
      "metadata": {
        "cell_style": "center",
        "execution": {
          "iopub.execute_input": "2022-03-13T16:34:23.791205Z",
          "iopub.status.busy": "2022-03-13T16:34:23.789308Z",
          "iopub.status.idle": "2022-03-13T16:34:23.798014Z",
          "shell.execute_reply": "2022-03-13T16:34:23.798904Z",
          "shell.execute_reply.started": "2022-03-13T16:25:26.760643Z"
        },
        "hidden": true,
        "papermill": {
          "duration": 0.468168,
          "end_time": "2022-03-13T16:34:23.799157",
          "exception": false,
          "start_time": "2022-03-13T16:34:23.330989",
          "status": "completed"
        },
        "tags": [],
        "colab": {
          "base_uri": "https://localhost:8080/"
        },
        "id": "bf8ae656",
        "outputId": "5670ffa1-715a-4b36-bff3-473383513602"
      },
      "outputs": [
        {
          "output_type": "stream",
          "name": "stdout",
          "text": [
            "Model: \"sequential\"\n",
            "_________________________________________________________________\n",
            " Layer (type)                Output Shape              Param #   \n",
            "=================================================================\n",
            " dense (Dense)               (None, 16)                192       \n",
            "                                                                 \n",
            " dense_1 (Dense)             (None, 8)                 136       \n",
            "                                                                 \n",
            " dense_2 (Dense)             (None, 1)                 9         \n",
            "                                                                 \n",
            "=================================================================\n",
            "Total params: 337 (1.32 KB)\n",
            "Trainable params: 337 (1.32 KB)\n",
            "Non-trainable params: 0 (0.00 Byte)\n",
            "_________________________________________________________________\n"
          ]
        }
      ],
      "source": [
        "model.summary()"
      ]
    },
    {
      "cell_type": "code",
      "execution_count": 32,
      "id": "e930df78",
      "metadata": {
        "execution": {
          "iopub.execute_input": "2022-03-13T16:34:24.696587Z",
          "iopub.status.busy": "2022-03-13T16:34:24.695599Z",
          "iopub.status.idle": "2022-03-13T16:34:24.699423Z",
          "shell.execute_reply": "2022-03-13T16:34:24.699971Z",
          "shell.execute_reply.started": "2022-03-13T16:25:26.770266Z"
        },
        "papermill": {
          "duration": 0.460046,
          "end_time": "2022-03-13T16:34:24.700145",
          "exception": false,
          "start_time": "2022-03-13T16:34:24.240099",
          "status": "completed"
        },
        "tags": [],
        "colab": {
          "base_uri": "https://localhost:8080/",
          "height": 206
        },
        "id": "e930df78",
        "outputId": "f45994d9-68bf-48fc-80ad-0f7f2d1aa241"
      },
      "outputs": [
        {
          "output_type": "execute_result",
          "data": {
            "text/plain": [
              "       loss    recall  val_loss  val_recall\n",
              "0  0.529529  0.003027  0.491222    0.000000\n",
              "1  0.493686  0.000000  0.477250    0.000000\n",
              "2  0.484057  0.002421  0.470536    0.000000\n",
              "3  0.476941  0.007869  0.464296    0.005525\n",
              "4  0.471091  0.021186  0.457620    0.022099"
            ],
            "text/html": [
              "\n",
              "  <div id=\"df-7bd6a711-106d-46fa-b38d-30dec9b236c5\" class=\"colab-df-container\">\n",
              "    <div>\n",
              "<style scoped>\n",
              "    .dataframe tbody tr th:only-of-type {\n",
              "        vertical-align: middle;\n",
              "    }\n",
              "\n",
              "    .dataframe tbody tr th {\n",
              "        vertical-align: top;\n",
              "    }\n",
              "\n",
              "    .dataframe thead th {\n",
              "        text-align: right;\n",
              "    }\n",
              "</style>\n",
              "<table border=\"1\" class=\"dataframe\">\n",
              "  <thead>\n",
              "    <tr style=\"text-align: right;\">\n",
              "      <th></th>\n",
              "      <th>loss</th>\n",
              "      <th>recall</th>\n",
              "      <th>val_loss</th>\n",
              "      <th>val_recall</th>\n",
              "    </tr>\n",
              "  </thead>\n",
              "  <tbody>\n",
              "    <tr>\n",
              "      <th>0</th>\n",
              "      <td>0.529529</td>\n",
              "      <td>0.003027</td>\n",
              "      <td>0.491222</td>\n",
              "      <td>0.000000</td>\n",
              "    </tr>\n",
              "    <tr>\n",
              "      <th>1</th>\n",
              "      <td>0.493686</td>\n",
              "      <td>0.000000</td>\n",
              "      <td>0.477250</td>\n",
              "      <td>0.000000</td>\n",
              "    </tr>\n",
              "    <tr>\n",
              "      <th>2</th>\n",
              "      <td>0.484057</td>\n",
              "      <td>0.002421</td>\n",
              "      <td>0.470536</td>\n",
              "      <td>0.000000</td>\n",
              "    </tr>\n",
              "    <tr>\n",
              "      <th>3</th>\n",
              "      <td>0.476941</td>\n",
              "      <td>0.007869</td>\n",
              "      <td>0.464296</td>\n",
              "      <td>0.005525</td>\n",
              "    </tr>\n",
              "    <tr>\n",
              "      <th>4</th>\n",
              "      <td>0.471091</td>\n",
              "      <td>0.021186</td>\n",
              "      <td>0.457620</td>\n",
              "      <td>0.022099</td>\n",
              "    </tr>\n",
              "  </tbody>\n",
              "</table>\n",
              "</div>\n",
              "    <div class=\"colab-df-buttons\">\n",
              "\n",
              "  <div class=\"colab-df-container\">\n",
              "    <button class=\"colab-df-convert\" onclick=\"convertToInteractive('df-7bd6a711-106d-46fa-b38d-30dec9b236c5')\"\n",
              "            title=\"Convert this dataframe to an interactive table.\"\n",
              "            style=\"display:none;\">\n",
              "\n",
              "  <svg xmlns=\"http://www.w3.org/2000/svg\" height=\"24px\" viewBox=\"0 -960 960 960\">\n",
              "    <path d=\"M120-120v-720h720v720H120Zm60-500h600v-160H180v160Zm220 220h160v-160H400v160Zm0 220h160v-160H400v160ZM180-400h160v-160H180v160Zm440 0h160v-160H620v160ZM180-180h160v-160H180v160Zm440 0h160v-160H620v160Z\"/>\n",
              "  </svg>\n",
              "    </button>\n",
              "\n",
              "  <style>\n",
              "    .colab-df-container {\n",
              "      display:flex;\n",
              "      gap: 12px;\n",
              "    }\n",
              "\n",
              "    .colab-df-convert {\n",
              "      background-color: #E8F0FE;\n",
              "      border: none;\n",
              "      border-radius: 50%;\n",
              "      cursor: pointer;\n",
              "      display: none;\n",
              "      fill: #1967D2;\n",
              "      height: 32px;\n",
              "      padding: 0 0 0 0;\n",
              "      width: 32px;\n",
              "    }\n",
              "\n",
              "    .colab-df-convert:hover {\n",
              "      background-color: #E2EBFA;\n",
              "      box-shadow: 0px 1px 2px rgba(60, 64, 67, 0.3), 0px 1px 3px 1px rgba(60, 64, 67, 0.15);\n",
              "      fill: #174EA6;\n",
              "    }\n",
              "\n",
              "    .colab-df-buttons div {\n",
              "      margin-bottom: 4px;\n",
              "    }\n",
              "\n",
              "    [theme=dark] .colab-df-convert {\n",
              "      background-color: #3B4455;\n",
              "      fill: #D2E3FC;\n",
              "    }\n",
              "\n",
              "    [theme=dark] .colab-df-convert:hover {\n",
              "      background-color: #434B5C;\n",
              "      box-shadow: 0px 1px 3px 1px rgba(0, 0, 0, 0.15);\n",
              "      filter: drop-shadow(0px 1px 2px rgba(0, 0, 0, 0.3));\n",
              "      fill: #FFFFFF;\n",
              "    }\n",
              "  </style>\n",
              "\n",
              "    <script>\n",
              "      const buttonEl =\n",
              "        document.querySelector('#df-7bd6a711-106d-46fa-b38d-30dec9b236c5 button.colab-df-convert');\n",
              "      buttonEl.style.display =\n",
              "        google.colab.kernel.accessAllowed ? 'block' : 'none';\n",
              "\n",
              "      async function convertToInteractive(key) {\n",
              "        const element = document.querySelector('#df-7bd6a711-106d-46fa-b38d-30dec9b236c5');\n",
              "        const dataTable =\n",
              "          await google.colab.kernel.invokeFunction('convertToInteractive',\n",
              "                                                    [key], {});\n",
              "        if (!dataTable) return;\n",
              "\n",
              "        const docLinkHtml = 'Like what you see? Visit the ' +\n",
              "          '<a target=\"_blank\" href=https://colab.research.google.com/notebooks/data_table.ipynb>data table notebook</a>'\n",
              "          + ' to learn more about interactive tables.';\n",
              "        element.innerHTML = '';\n",
              "        dataTable['output_type'] = 'display_data';\n",
              "        await google.colab.output.renderOutput(dataTable, element);\n",
              "        const docLink = document.createElement('div');\n",
              "        docLink.innerHTML = docLinkHtml;\n",
              "        element.appendChild(docLink);\n",
              "      }\n",
              "    </script>\n",
              "  </div>\n",
              "\n",
              "\n",
              "<div id=\"df-1d8331ed-0b22-46b3-9fb1-3a93e193d41b\">\n",
              "  <button class=\"colab-df-quickchart\" onclick=\"quickchart('df-1d8331ed-0b22-46b3-9fb1-3a93e193d41b')\"\n",
              "            title=\"Suggest charts.\"\n",
              "            style=\"display:none;\">\n",
              "\n",
              "<svg xmlns=\"http://www.w3.org/2000/svg\" height=\"24px\"viewBox=\"0 0 24 24\"\n",
              "     width=\"24px\">\n",
              "    <g>\n",
              "        <path d=\"M19 3H5c-1.1 0-2 .9-2 2v14c0 1.1.9 2 2 2h14c1.1 0 2-.9 2-2V5c0-1.1-.9-2-2-2zM9 17H7v-7h2v7zm4 0h-2V7h2v10zm4 0h-2v-4h2v4z\"/>\n",
              "    </g>\n",
              "</svg>\n",
              "  </button>\n",
              "\n",
              "<style>\n",
              "  .colab-df-quickchart {\n",
              "      --bg-color: #E8F0FE;\n",
              "      --fill-color: #1967D2;\n",
              "      --hover-bg-color: #E2EBFA;\n",
              "      --hover-fill-color: #174EA6;\n",
              "      --disabled-fill-color: #AAA;\n",
              "      --disabled-bg-color: #DDD;\n",
              "  }\n",
              "\n",
              "  [theme=dark] .colab-df-quickchart {\n",
              "      --bg-color: #3B4455;\n",
              "      --fill-color: #D2E3FC;\n",
              "      --hover-bg-color: #434B5C;\n",
              "      --hover-fill-color: #FFFFFF;\n",
              "      --disabled-bg-color: #3B4455;\n",
              "      --disabled-fill-color: #666;\n",
              "  }\n",
              "\n",
              "  .colab-df-quickchart {\n",
              "    background-color: var(--bg-color);\n",
              "    border: none;\n",
              "    border-radius: 50%;\n",
              "    cursor: pointer;\n",
              "    display: none;\n",
              "    fill: var(--fill-color);\n",
              "    height: 32px;\n",
              "    padding: 0;\n",
              "    width: 32px;\n",
              "  }\n",
              "\n",
              "  .colab-df-quickchart:hover {\n",
              "    background-color: var(--hover-bg-color);\n",
              "    box-shadow: 0 1px 2px rgba(60, 64, 67, 0.3), 0 1px 3px 1px rgba(60, 64, 67, 0.15);\n",
              "    fill: var(--button-hover-fill-color);\n",
              "  }\n",
              "\n",
              "  .colab-df-quickchart-complete:disabled,\n",
              "  .colab-df-quickchart-complete:disabled:hover {\n",
              "    background-color: var(--disabled-bg-color);\n",
              "    fill: var(--disabled-fill-color);\n",
              "    box-shadow: none;\n",
              "  }\n",
              "\n",
              "  .colab-df-spinner {\n",
              "    border: 2px solid var(--fill-color);\n",
              "    border-color: transparent;\n",
              "    border-bottom-color: var(--fill-color);\n",
              "    animation:\n",
              "      spin 1s steps(1) infinite;\n",
              "  }\n",
              "\n",
              "  @keyframes spin {\n",
              "    0% {\n",
              "      border-color: transparent;\n",
              "      border-bottom-color: var(--fill-color);\n",
              "      border-left-color: var(--fill-color);\n",
              "    }\n",
              "    20% {\n",
              "      border-color: transparent;\n",
              "      border-left-color: var(--fill-color);\n",
              "      border-top-color: var(--fill-color);\n",
              "    }\n",
              "    30% {\n",
              "      border-color: transparent;\n",
              "      border-left-color: var(--fill-color);\n",
              "      border-top-color: var(--fill-color);\n",
              "      border-right-color: var(--fill-color);\n",
              "    }\n",
              "    40% {\n",
              "      border-color: transparent;\n",
              "      border-right-color: var(--fill-color);\n",
              "      border-top-color: var(--fill-color);\n",
              "    }\n",
              "    60% {\n",
              "      border-color: transparent;\n",
              "      border-right-color: var(--fill-color);\n",
              "    }\n",
              "    80% {\n",
              "      border-color: transparent;\n",
              "      border-right-color: var(--fill-color);\n",
              "      border-bottom-color: var(--fill-color);\n",
              "    }\n",
              "    90% {\n",
              "      border-color: transparent;\n",
              "      border-bottom-color: var(--fill-color);\n",
              "    }\n",
              "  }\n",
              "</style>\n",
              "\n",
              "  <script>\n",
              "    async function quickchart(key) {\n",
              "      const quickchartButtonEl =\n",
              "        document.querySelector('#' + key + ' button');\n",
              "      quickchartButtonEl.disabled = true;  // To prevent multiple clicks.\n",
              "      quickchartButtonEl.classList.add('colab-df-spinner');\n",
              "      try {\n",
              "        const charts = await google.colab.kernel.invokeFunction(\n",
              "            'suggestCharts', [key], {});\n",
              "      } catch (error) {\n",
              "        console.error('Error during call to suggestCharts:', error);\n",
              "      }\n",
              "      quickchartButtonEl.classList.remove('colab-df-spinner');\n",
              "      quickchartButtonEl.classList.add('colab-df-quickchart-complete');\n",
              "    }\n",
              "    (() => {\n",
              "      let quickchartButtonEl =\n",
              "        document.querySelector('#df-1d8331ed-0b22-46b3-9fb1-3a93e193d41b button');\n",
              "      quickchartButtonEl.style.display =\n",
              "        google.colab.kernel.accessAllowed ? 'block' : 'none';\n",
              "    })();\n",
              "  </script>\n",
              "</div>\n",
              "    </div>\n",
              "  </div>\n"
            ]
          },
          "metadata": {},
          "execution_count": 32
        }
      ],
      "source": [
        "loss_df = pd.DataFrame(model.history.history)\n",
        "loss_df.head()"
      ]
    },
    {
      "cell_type": "code",
      "execution_count": 33,
      "id": "ea555d74",
      "metadata": {
        "cell_style": "split",
        "execution": {
          "iopub.execute_input": "2022-03-13T16:34:25.580057Z",
          "iopub.status.busy": "2022-03-13T16:34:25.577855Z",
          "iopub.status.idle": "2022-03-13T16:34:25.963399Z",
          "shell.execute_reply": "2022-03-13T16:34:25.964046Z",
          "shell.execute_reply.started": "2022-03-13T16:25:26.784579Z"
        },
        "hidden": true,
        "id": "ea555d74",
        "papermill": {
          "duration": 0.827658,
          "end_time": "2022-03-13T16:34:25.964272",
          "exception": false,
          "start_time": "2022-03-13T16:34:25.136614",
          "status": "completed"
        },
        "tags": [],
        "colab": {
          "base_uri": "https://localhost:8080/",
          "height": 450
        },
        "outputId": "1769bc3e-3938-4672-99ad-7c5fcdc8653f"
      },
      "outputs": [
        {
          "output_type": "execute_result",
          "data": {
            "text/plain": [
              "<Axes: >"
            ]
          },
          "metadata": {},
          "execution_count": 33
        },
        {
          "output_type": "display_data",
          "data": {
            "text/plain": [
              "<Figure size 640x480 with 1 Axes>"
            ],
            "image/png": "[encoded data removed]"
          },
          "metadata": {}
        }
      ],
      "source": [
        "loss_df.plot()"
      ]
    },
    {
      "cell_type": "code",
      "execution_count": 34,
      "id": "b5d1ea2a",
      "metadata": {
        "cell_style": "split",
        "execution": {
          "iopub.execute_input": "2022-03-13T16:34:26.852629Z",
          "iopub.status.busy": "2022-03-13T16:34:26.851495Z",
          "iopub.status.idle": "2022-03-13T16:34:27.015757Z",
          "shell.execute_reply": "2022-03-13T16:34:27.016543Z",
          "shell.execute_reply.started": "2022-03-13T16:26:03.342983Z"
        },
        "hidden": true,
        "papermill": {
          "duration": 0.612851,
          "end_time": "2022-03-13T16:34:27.016844",
          "exception": false,
          "start_time": "2022-03-13T16:34:26.403993",
          "status": "completed"
        },
        "scrolled": true,
        "tags": [],
        "colab": {
          "base_uri": "https://localhost:8080/"
        },
        "id": "b5d1ea2a",
        "outputId": "0f56b77e-7eff-4747-cbf7-bf7459bb14a6"
      },
      "outputs": [
        {
          "output_type": "stream",
          "name": "stdout",
          "text": [
            "32/32 [==============================] - 0s 1ms/step\n",
            "[[758  38]\n",
            " [104 100]]\n",
            "              precision    recall  f1-score   support\n",
            "\n",
            "           0       0.88      0.95      0.91       796\n",
            "           1       0.72      0.49      0.58       204\n",
            "\n",
            "    accuracy                           0.86      1000\n",
            "   macro avg       0.80      0.72      0.75      1000\n",
            "weighted avg       0.85      0.86      0.85      1000\n",
            "\n"
          ]
        }
      ],
      "source": [
        "from sklearn.metrics import confusion_matrix, classification_report\n",
        "y_pred = (model.predict(X_test) > 0.5).astype(\"int32\")\n",
        "print(confusion_matrix(y_test, y_pred))\n",
        "print(classification_report(y_test, y_pred))"
      ]
    },
    {
      "cell_type": "markdown",
      "id": "3740fb65",
      "metadata": {
        "heading_collapsed": true,
        "papermill": {
          "duration": 0.434957,
          "end_time": "2022-03-13T16:34:27.896376",
          "exception": false,
          "start_time": "2022-03-13T16:34:27.461419",
          "status": "completed"
        },
        "tags": [],
        "id": "3740fb65"
      },
      "source": [
        "### ROC (Receiver Operating Curve) and AUC (Area Under Curve) for model"
      ]
    },
    {
      "cell_type": "code",
      "execution_count": 35,
      "id": "4bef2e51",
      "metadata": {
        "cell_style": "split",
        "execution": {
          "iopub.execute_input": "2022-03-13T16:34:28.783997Z",
          "iopub.status.busy": "2022-03-13T16:34:28.782847Z",
          "iopub.status.idle": "2022-03-13T16:34:29.144833Z",
          "shell.execute_reply": "2022-03-13T16:34:29.145357Z",
          "shell.execute_reply.started": "2022-03-13T16:26:03.506882Z"
        },
        "hidden": true,
        "papermill": {
          "duration": 0.812776,
          "end_time": "2022-03-13T16:34:29.145544",
          "exception": false,
          "start_time": "2022-03-13T16:34:28.332768",
          "status": "completed"
        },
        "tags": [],
        "colab": {
          "base_uri": "https://localhost:8080/",
          "height": 489
        },
        "id": "4bef2e51",
        "outputId": "1d34bd77-920d-49e8-d0b7-880b1dfddce3"
      },
      "outputs": [
        {
          "output_type": "stream",
          "name": "stdout",
          "text": [
            "32/32 [==============================] - 0s 1ms/step\n"
          ]
        },
        {
          "output_type": "display_data",
          "data": {
            "text/plain": [
              "<Figure size 640x480 with 1 Axes>"
            ],
            "image/png": "[encoded data removed]"
          },
          "metadata": {}
        }
      ],
      "source": [
        "from sklearn.metrics import precision_recall_curve\n",
        "y_pred_proba = model.predict(X_test)\n",
        "precisions, recalls, thresholds = precision_recall_curve(y_test, y_pred_proba)\n",
        "plt.plot(recalls, precisions, label='ANN')\n",
        "plt.xlabel('recalls')\n",
        "plt.ylabel('precisions')\n",
        "plt.title('Precision-Recall curve')\n",
        "plt.show()\n",
        "# roc curve, sınıflandırma performansını gösterir"
      ]
    },
    {
      "cell_type": "code",
      "execution_count": 36,
      "id": "506ed2db",
      "metadata": {
        "cell_style": "split",
        "execution": {
          "iopub.execute_input": "2022-03-13T16:34:30.039766Z",
          "iopub.status.busy": "2022-03-13T16:34:30.038685Z",
          "iopub.status.idle": "2022-03-13T16:34:30.047243Z",
          "shell.execute_reply": "2022-03-13T16:34:30.046661Z",
          "shell.execute_reply.started": "2022-03-13T16:26:03.813490Z"
        },
        "hidden": true,
        "papermill": {
          "duration": 0.460725,
          "end_time": "2022-03-13T16:34:30.047387",
          "exception": false,
          "start_time": "2022-03-13T16:34:29.586662",
          "status": "completed"
        },
        "scrolled": true,
        "tags": [],
        "colab": {
          "base_uri": "https://localhost:8080/"
        },
        "id": "506ed2db",
        "outputId": "04d0afe7-5538-4769-827d-5a2e5c20b766"
      },
      "outputs": [
        {
          "output_type": "execute_result",
          "data": {
            "text/plain": [
              "0.6805373811348869"
            ]
          },
          "metadata": {},
          "execution_count": 36
        }
      ],
      "source": [
        "from sklearn.metrics import average_precision_score\n",
        "average_precision_score(y_test, y_pred_proba)"
      ]
    },
    {
      "cell_type": "markdown",
      "id": "1a0da3b9",
      "metadata": {
        "papermill": {
          "duration": 0.44284,
          "end_time": "2022-03-13T16:34:30.931533",
          "exception": false,
          "start_time": "2022-03-13T16:34:30.488693",
          "status": "completed"
        },
        "tags": [],
        "id": "1a0da3b9"
      },
      "source": [
        "### with class_weigth"
      ]
    },
    {
      "cell_type": "code",
      "execution_count": 37,
      "id": "460b7520",
      "metadata": {
        "cell_style": "split",
        "execution": {
          "iopub.execute_input": "2022-03-13T16:34:31.883556Z",
          "iopub.status.busy": "2022-03-13T16:34:31.882465Z",
          "iopub.status.idle": "2022-03-13T16:34:31.905328Z",
          "shell.execute_reply": "2022-03-13T16:34:31.904788Z",
          "shell.execute_reply.started": "2022-03-13T16:26:03.825443Z"
        },
        "papermill": {
          "duration": 0.528825,
          "end_time": "2022-03-13T16:34:31.905472",
          "exception": false,
          "start_time": "2022-03-13T16:34:31.376647",
          "status": "completed"
        },
        "tags": [],
        "id": "460b7520"
      },
      "outputs": [],
      "source": [
        "model = Sequential()\n",
        "\n",
        "tf.random.set_seed(seed)\n",
        "\n",
        "model.add(Dense(16, activation=\"relu\"))\n",
        "model.add(Dense(8, activation=\"relu\"))\n",
        "model.add(Dense(1, activation=\"sigmoid\"))\n",
        "\n",
        "opt = Adam(learning_rate=0.001)\n",
        "model.compile(optimizer=opt,\n",
        "              loss=\"binary_crossentropy\",\n",
        "              metrics=[\"Recall\"])"
      ]
    },
    {
      "cell_type": "code",
      "execution_count": 38,
      "id": "6728edd5",
      "metadata": {
        "execution": {
          "iopub.execute_input": "2022-03-13T16:34:33.125043Z",
          "iopub.status.busy": "2022-03-13T16:34:33.122331Z",
          "iopub.status.idle": "2022-03-13T16:34:33.132339Z",
          "shell.execute_reply": "2022-03-13T16:34:33.133007Z",
          "shell.execute_reply.started": "2022-03-13T16:26:03.851337Z"
        },
        "papermill": {
          "duration": 0.778911,
          "end_time": "2022-03-13T16:34:33.133215",
          "exception": false,
          "start_time": "2022-03-13T16:34:32.354304",
          "status": "completed"
        },
        "tags": [],
        "colab": {
          "base_uri": "https://localhost:8080/"
        },
        "id": "6728edd5",
        "outputId": "6241239f-8871-44d0-f753-64e661c9ac56"
      },
      "outputs": [
        {
          "output_type": "execute_result",
          "data": {
            "text/plain": [
              "{0: 0.6278777731268314, 1: 2.454991816693944}"
            ]
          },
          "metadata": {},
          "execution_count": 38
        }
      ],
      "source": [
        "from sklearn.utils import class_weight\n",
        "\n",
        "class_weights = class_weight.compute_class_weight('balanced',\n",
        "                                                  classes=np.unique(y_train),\n",
        "                                                  y=y_train)\n",
        "\n",
        "class_weights = {0: class_weights[0], 1: class_weights[1]}\n",
        "class_weights"
      ]
    },
    {
      "cell_type": "code",
      "execution_count": 39,
      "id": "399b81bc",
      "metadata": {
        "execution": {
          "iopub.execute_input": "2022-03-13T16:34:34.059885Z",
          "iopub.status.busy": "2022-03-13T16:34:34.058808Z",
          "iopub.status.idle": "2022-03-13T16:34:57.425839Z",
          "shell.execute_reply": "2022-03-13T16:34:57.426424Z",
          "shell.execute_reply.started": "2022-03-13T16:26:03.865961Z"
        },
        "papermill": {
          "duration": 23.820803,
          "end_time": "2022-03-13T16:34:57.426628",
          "exception": false,
          "start_time": "2022-03-13T16:34:33.605825",
          "status": "completed"
        },
        "scrolled": true,
        "tags": [],
        "colab": {
          "base_uri": "https://localhost:8080/"
        },
        "id": "399b81bc",
        "outputId": "73580f72-8322-4d10-cf3d-d46f2594fee3"
      },
      "outputs": [
        {
          "output_type": "stream",
          "name": "stdout",
          "text": [
            "Epoch 1/200\n",
            "64/64 [==============================] - 1s 8ms/step - loss: 0.6944 - recall: 0.8432 - val_loss: 0.7051 - val_recall: 0.7956\n",
            "Epoch 2/200\n",
            "64/64 [==============================] - 0s 4ms/step - loss: 0.6781 - recall: 0.7149 - val_loss: 0.6819 - val_recall: 0.7072\n",
            "Epoch 3/200\n",
            "64/64 [==============================] - 0s 4ms/step - loss: 0.6627 - recall: 0.6889 - val_loss: 0.6534 - val_recall: 0.6243\n",
            "Epoch 4/200\n",
            "64/64 [==============================] - 0s 4ms/step - loss: 0.6468 - recall: 0.6792 - val_loss: 0.6236 - val_recall: 0.6133\n",
            "Epoch 5/200\n",
            "64/64 [==============================] - 0s 3ms/step - loss: 0.6334 - recall: 0.6646 - val_loss: 0.6340 - val_recall: 0.6961\n",
            "Epoch 6/200\n",
            "64/64 [==============================] - 0s 3ms/step - loss: 0.6193 - recall: 0.6731 - val_loss: 0.5784 - val_recall: 0.6243\n",
            "Epoch 7/200\n",
            "64/64 [==============================] - 0s 3ms/step - loss: 0.6095 - recall: 0.6719 - val_loss: 0.6074 - val_recall: 0.7127\n",
            "Epoch 8/200\n",
            "64/64 [==============================] - 0s 4ms/step - loss: 0.6018 - recall: 0.6683 - val_loss: 0.5944 - val_recall: 0.7072\n",
            "Epoch 9/200\n",
            "64/64 [==============================] - 0s 5ms/step - loss: 0.5966 - recall: 0.6870 - val_loss: 0.6248 - val_recall: 0.7735\n",
            "Epoch 10/200\n",
            "64/64 [==============================] - 0s 6ms/step - loss: 0.5931 - recall: 0.6883 - val_loss: 0.5931 - val_recall: 0.7293\n",
            "Epoch 11/200\n",
            "64/64 [==============================] - 0s 5ms/step - loss: 0.5917 - recall: 0.6743 - val_loss: 0.5758 - val_recall: 0.7017\n",
            "Epoch 12/200\n",
            "64/64 [==============================] - 0s 6ms/step - loss: 0.5889 - recall: 0.6919 - val_loss: 0.5905 - val_recall: 0.7238\n",
            "Epoch 13/200\n",
            "64/64 [==============================] - 0s 6ms/step - loss: 0.5870 - recall: 0.6755 - val_loss: 0.6312 - val_recall: 0.7624\n",
            "Epoch 14/200\n",
            "64/64 [==============================] - 0s 6ms/step - loss: 0.5863 - recall: 0.6895 - val_loss: 0.5660 - val_recall: 0.6906\n",
            "Epoch 15/200\n",
            "64/64 [==============================] - 0s 7ms/step - loss: 0.5841 - recall: 0.6798 - val_loss: 0.5715 - val_recall: 0.6906\n",
            "Epoch 16/200\n",
            "64/64 [==============================] - 0s 6ms/step - loss: 0.5835 - recall: 0.6828 - val_loss: 0.5823 - val_recall: 0.6961\n",
            "Epoch 17/200\n",
            "64/64 [==============================] - 0s 4ms/step - loss: 0.5814 - recall: 0.6895 - val_loss: 0.5527 - val_recall: 0.6796\n",
            "Epoch 18/200\n",
            "64/64 [==============================] - 0s 4ms/step - loss: 0.5799 - recall: 0.6713 - val_loss: 0.5572 - val_recall: 0.6796\n",
            "Epoch 19/200\n",
            "64/64 [==============================] - 0s 4ms/step - loss: 0.5782 - recall: 0.6719 - val_loss: 0.5789 - val_recall: 0.7017\n",
            "Epoch 20/200\n",
            "64/64 [==============================] - 0s 3ms/step - loss: 0.5747 - recall: 0.6816 - val_loss: 0.5438 - val_recall: 0.6740\n",
            "Epoch 21/200\n",
            "64/64 [==============================] - 0s 4ms/step - loss: 0.5710 - recall: 0.6683 - val_loss: 0.5753 - val_recall: 0.7182\n",
            "Epoch 22/200\n",
            "64/64 [==============================] - 0s 4ms/step - loss: 0.5678 - recall: 0.6852 - val_loss: 0.5312 - val_recall: 0.6740\n",
            "Epoch 23/200\n",
            "64/64 [==============================] - 0s 4ms/step - loss: 0.5655 - recall: 0.6780 - val_loss: 0.5467 - val_recall: 0.6961\n",
            "Epoch 24/200\n",
            "64/64 [==============================] - 0s 4ms/step - loss: 0.5611 - recall: 0.6737 - val_loss: 0.5487 - val_recall: 0.7127\n",
            "Epoch 25/200\n",
            "64/64 [==============================] - 0s 5ms/step - loss: 0.5567 - recall: 0.6834 - val_loss: 0.5464 - val_recall: 0.7238\n",
            "Epoch 26/200\n",
            "64/64 [==============================] - 0s 3ms/step - loss: 0.5539 - recall: 0.6877 - val_loss: 0.5014 - val_recall: 0.6740\n",
            "Epoch 27/200\n",
            "64/64 [==============================] - 0s 3ms/step - loss: 0.5494 - recall: 0.6858 - val_loss: 0.5353 - val_recall: 0.7238\n",
            "Epoch 28/200\n",
            "64/64 [==============================] - 0s 3ms/step - loss: 0.5472 - recall: 0.6931 - val_loss: 0.5363 - val_recall: 0.7403\n",
            "Epoch 29/200\n",
            "64/64 [==============================] - 0s 3ms/step - loss: 0.5426 - recall: 0.6925 - val_loss: 0.5367 - val_recall: 0.7514\n",
            "Epoch 30/200\n",
            "64/64 [==============================] - 0s 3ms/step - loss: 0.5383 - recall: 0.6949 - val_loss: 0.5478 - val_recall: 0.7735\n",
            "Epoch 31/200\n",
            "64/64 [==============================] - 0s 3ms/step - loss: 0.5348 - recall: 0.7058 - val_loss: 0.5387 - val_recall: 0.7790\n",
            "Epoch 32/200\n",
            "64/64 [==============================] - 0s 3ms/step - loss: 0.5308 - recall: 0.7046 - val_loss: 0.4903 - val_recall: 0.7459\n",
            "Epoch 33/200\n",
            "64/64 [==============================] - 0s 4ms/step - loss: 0.5268 - recall: 0.7131 - val_loss: 0.5040 - val_recall: 0.7514\n",
            "Epoch 34/200\n",
            "64/64 [==============================] - 0s 4ms/step - loss: 0.5230 - recall: 0.6992 - val_loss: 0.4986 - val_recall: 0.7569\n",
            "Epoch 35/200\n",
            "64/64 [==============================] - 0s 4ms/step - loss: 0.5203 - recall: 0.7125 - val_loss: 0.5224 - val_recall: 0.7735\n",
            "Epoch 36/200\n",
            "64/64 [==============================] - 0s 3ms/step - loss: 0.5157 - recall: 0.7234 - val_loss: 0.4653 - val_recall: 0.7403\n",
            "Epoch 37/200\n",
            "64/64 [==============================] - 0s 3ms/step - loss: 0.5147 - recall: 0.7131 - val_loss: 0.4614 - val_recall: 0.7403\n",
            "Epoch 38/200\n",
            "64/64 [==============================] - 0s 3ms/step - loss: 0.5096 - recall: 0.7282 - val_loss: 0.4891 - val_recall: 0.7680\n",
            "Epoch 39/200\n",
            "64/64 [==============================] - 0s 3ms/step - loss: 0.5064 - recall: 0.7276 - val_loss: 0.4624 - val_recall: 0.7459\n",
            "Epoch 40/200\n",
            "64/64 [==============================] - 0s 3ms/step - loss: 0.5040 - recall: 0.7264 - val_loss: 0.4641 - val_recall: 0.7459\n",
            "Epoch 41/200\n",
            "64/64 [==============================] - 0s 3ms/step - loss: 0.5017 - recall: 0.7161 - val_loss: 0.4948 - val_recall: 0.7901\n",
            "Epoch 42/200\n",
            "64/64 [==============================] - 0s 3ms/step - loss: 0.5006 - recall: 0.7361 - val_loss: 0.4369 - val_recall: 0.7293\n",
            "Epoch 43/200\n",
            "64/64 [==============================] - 0s 3ms/step - loss: 0.4973 - recall: 0.7185 - val_loss: 0.4595 - val_recall: 0.7569\n",
            "Epoch 44/200\n",
            "64/64 [==============================] - 0s 3ms/step - loss: 0.4959 - recall: 0.7343 - val_loss: 0.4547 - val_recall: 0.7624\n",
            "Epoch 45/200\n",
            "64/64 [==============================] - 0s 3ms/step - loss: 0.4937 - recall: 0.7373 - val_loss: 0.4714 - val_recall: 0.7680\n",
            "Epoch 46/200\n",
            "64/64 [==============================] - 0s 3ms/step - loss: 0.4927 - recall: 0.7306 - val_loss: 0.4476 - val_recall: 0.7514\n",
            "Epoch 47/200\n",
            "64/64 [==============================] - 0s 3ms/step - loss: 0.4909 - recall: 0.7312 - val_loss: 0.4552 - val_recall: 0.7735\n",
            "Epoch 48/200\n",
            "64/64 [==============================] - 0s 3ms/step - loss: 0.4900 - recall: 0.7391 - val_loss: 0.4644 - val_recall: 0.7845\n",
            "Epoch 49/200\n",
            "64/64 [==============================] - 0s 4ms/step - loss: 0.4887 - recall: 0.7403 - val_loss: 0.4324 - val_recall: 0.7403\n",
            "Epoch 50/200\n",
            "64/64 [==============================] - 0s 5ms/step - loss: 0.4870 - recall: 0.7331 - val_loss: 0.4459 - val_recall: 0.7680\n",
            "Epoch 51/200\n",
            "64/64 [==============================] - 0s 4ms/step - loss: 0.4852 - recall: 0.7379 - val_loss: 0.4405 - val_recall: 0.7624\n",
            "Epoch 52/200\n",
            "64/64 [==============================] - 0s 4ms/step - loss: 0.4851 - recall: 0.7294 - val_loss: 0.4855 - val_recall: 0.8177\n",
            "Epoch 53/200\n",
            "64/64 [==============================] - 0s 4ms/step - loss: 0.4841 - recall: 0.7464 - val_loss: 0.4049 - val_recall: 0.7238\n",
            "Epoch 54/200\n",
            "64/64 [==============================] - 0s 3ms/step - loss: 0.4848 - recall: 0.7391 - val_loss: 0.4133 - val_recall: 0.7403\n",
            "Epoch 55/200\n",
            "64/64 [==============================] - 0s 3ms/step - loss: 0.4831 - recall: 0.7343 - val_loss: 0.4255 - val_recall: 0.7569\n",
            "Epoch 56/200\n",
            "64/64 [==============================] - 0s 3ms/step - loss: 0.4815 - recall: 0.7415 - val_loss: 0.4745 - val_recall: 0.8232\n",
            "Epoch 57/200\n",
            "64/64 [==============================] - 0s 3ms/step - loss: 0.4806 - recall: 0.7452 - val_loss: 0.4657 - val_recall: 0.8066\n",
            "Epoch 58/200\n",
            "64/64 [==============================] - 0s 3ms/step - loss: 0.4792 - recall: 0.7458 - val_loss: 0.4295 - val_recall: 0.7790\n",
            "Epoch 59/200\n",
            "64/64 [==============================] - 0s 3ms/step - loss: 0.4793 - recall: 0.7373 - val_loss: 0.4570 - val_recall: 0.8011\n",
            "Epoch 60/200\n",
            "64/64 [==============================] - 0s 5ms/step - loss: 0.4778 - recall: 0.7446 - val_loss: 0.4224 - val_recall: 0.7680\n",
            "Epoch 61/200\n",
            "64/64 [==============================] - 0s 5ms/step - loss: 0.4795 - recall: 0.7494 - val_loss: 0.4155 - val_recall: 0.7514\n",
            "Epoch 62/200\n",
            "64/64 [==============================] - 0s 5ms/step - loss: 0.4762 - recall: 0.7518 - val_loss: 0.4800 - val_recall: 0.8343\n",
            "Epoch 63/200\n",
            "64/64 [==============================] - 0s 5ms/step - loss: 0.4763 - recall: 0.7464 - val_loss: 0.4298 - val_recall: 0.7790\n",
            "Epoch 64/200\n",
            "64/64 [==============================] - 0s 4ms/step - loss: 0.4764 - recall: 0.7512 - val_loss: 0.4513 - val_recall: 0.8122\n",
            "Epoch 65/200\n",
            "64/64 [==============================] - 0s 5ms/step - loss: 0.4748 - recall: 0.7542 - val_loss: 0.4044 - val_recall: 0.7459\n",
            "Epoch 66/200\n",
            "64/64 [==============================] - 0s 6ms/step - loss: 0.4753 - recall: 0.7524 - val_loss: 0.4638 - val_recall: 0.8287\n",
            "Epoch 67/200\n",
            "64/64 [==============================] - 0s 6ms/step - loss: 0.4746 - recall: 0.7621 - val_loss: 0.4145 - val_recall: 0.7680\n",
            "Epoch 68/200\n",
            "64/64 [==============================] - 0s 7ms/step - loss: 0.4735 - recall: 0.7446 - val_loss: 0.4343 - val_recall: 0.8011\n",
            "Epoch 69/200\n",
            "64/64 [==============================] - 0s 7ms/step - loss: 0.4734 - recall: 0.7458 - val_loss: 0.4600 - val_recall: 0.8343\n",
            "Epoch 70/200\n",
            "64/64 [==============================] - 0s 4ms/step - loss: 0.4730 - recall: 0.7567 - val_loss: 0.4303 - val_recall: 0.8066\n",
            "Epoch 71/200\n",
            "64/64 [==============================] - 0s 3ms/step - loss: 0.4721 - recall: 0.7609 - val_loss: 0.4141 - val_recall: 0.7680\n",
            "Epoch 72/200\n",
            "64/64 [==============================] - 0s 3ms/step - loss: 0.4727 - recall: 0.7494 - val_loss: 0.4264 - val_recall: 0.7901\n",
            "Epoch 73/200\n",
            "64/64 [==============================] - 0s 3ms/step - loss: 0.4713 - recall: 0.7524 - val_loss: 0.4238 - val_recall: 0.8011\n",
            "Epoch 74/200\n",
            "64/64 [==============================] - 0s 3ms/step - loss: 0.4710 - recall: 0.7591 - val_loss: 0.4464 - val_recall: 0.8122\n",
            "Epoch 75/200\n",
            "64/64 [==============================] - 0s 3ms/step - loss: 0.4709 - recall: 0.7573 - val_loss: 0.4045 - val_recall: 0.7735\n",
            "Epoch 76/200\n",
            "64/64 [==============================] - 0s 3ms/step - loss: 0.4698 - recall: 0.7554 - val_loss: 0.4278 - val_recall: 0.7845\n",
            "Epoch 77/200\n",
            "64/64 [==============================] - 0s 3ms/step - loss: 0.4696 - recall: 0.7573 - val_loss: 0.4237 - val_recall: 0.8011\n",
            "Epoch 78/200\n",
            "64/64 [==============================] - 0s 3ms/step - loss: 0.4708 - recall: 0.7554 - val_loss: 0.4494 - val_recall: 0.8177\n",
            "Epoch 79/200\n",
            "64/64 [==============================] - 0s 3ms/step - loss: 0.4695 - recall: 0.7561 - val_loss: 0.4356 - val_recall: 0.8177\n",
            "Epoch 80/200\n",
            "64/64 [==============================] - 0s 3ms/step - loss: 0.4694 - recall: 0.7579 - val_loss: 0.4144 - val_recall: 0.7790\n",
            "Epoch 80: early stopping\n"
          ]
        },
        {
          "output_type": "execute_result",
          "data": {
            "text/plain": [
              "<keras.src.callbacks.History at 0x78ff8c319bd0>"
            ]
          },
          "metadata": {},
          "execution_count": 39
        }
      ],
      "source": [
        "model.fit(x=X_train,\n",
        "          y=y_train,\n",
        "          validation_split=.1,\n",
        "          batch_size=128,\n",
        "          epochs=200,\n",
        "          verbose=1,\n",
        "          callbacks=[early_stop],\n",
        "          class_weight=class_weights)"
      ]
    },
    {
      "cell_type": "code",
      "execution_count": 40,
      "id": "a573a4ec",
      "metadata": {
        "cell_style": "split",
        "execution": {
          "iopub.execute_input": "2022-03-13T16:34:58.713181Z",
          "iopub.status.busy": "2022-03-13T16:34:58.711910Z",
          "iopub.status.idle": "2022-03-13T16:34:59.102093Z",
          "shell.execute_reply": "2022-03-13T16:34:59.102644Z",
          "shell.execute_reply.started": "2022-03-13T16:26:20.601131Z"
        },
        "id": "a573a4ec",
        "papermill": {
          "duration": 1.039938,
          "end_time": "2022-03-13T16:34:59.102821",
          "exception": false,
          "start_time": "2022-03-13T16:34:58.062883",
          "status": "completed"
        },
        "tags": [],
        "colab": {
          "base_uri": "https://localhost:8080/",
          "height": 447
        },
        "outputId": "1064c942-41ee-4585-a87f-f70f4fa4e0ff"
      },
      "outputs": [
        {
          "output_type": "execute_result",
          "data": {
            "text/plain": [
              "<Axes: >"
            ]
          },
          "metadata": {},
          "execution_count": 40
        },
        {
          "output_type": "display_data",
          "data": {
            "text/plain": [
              "<Figure size 640x480 with 1 Axes>"
            ],
            "image/png": "[encoded data removed]"
          },
          "metadata": {}
        }
      ],
      "source": [
        "loss_df = pd.DataFrame(model.history.history)\n",
        "loss_df.plot()"
      ]
    },
    {
      "cell_type": "code",
      "execution_count": 41,
      "id": "1be6f388",
      "metadata": {
        "cell_style": "split",
        "execution": {
          "iopub.execute_input": "2022-03-13T16:35:00.378005Z",
          "iopub.status.busy": "2022-03-13T16:35:00.376927Z",
          "iopub.status.idle": "2022-03-13T16:35:00.526588Z",
          "shell.execute_reply": "2022-03-13T16:35:00.526013Z",
          "shell.execute_reply.started": "2022-03-13T16:26:25.133970Z"
        },
        "papermill": {
          "duration": 0.791041,
          "end_time": "2022-03-13T16:35:00.526733",
          "exception": false,
          "start_time": "2022-03-13T16:34:59.735692",
          "status": "completed"
        },
        "tags": [],
        "colab": {
          "base_uri": "https://localhost:8080/"
        },
        "id": "1be6f388",
        "outputId": "8b90ce2b-99b9-46d8-ebf1-e58423a99730"
      },
      "outputs": [
        {
          "output_type": "stream",
          "name": "stdout",
          "text": [
            "32/32 [==============================] - 0s 2ms/step\n",
            "[[635 161]\n",
            " [ 50 154]]\n",
            "              precision    recall  f1-score   support\n",
            "\n",
            "           0       0.93      0.80      0.86       796\n",
            "           1       0.49      0.75      0.59       204\n",
            "\n",
            "    accuracy                           0.79      1000\n",
            "   macro avg       0.71      0.78      0.73      1000\n",
            "weighted avg       0.84      0.79      0.80      1000\n",
            "\n"
          ]
        }
      ],
      "source": [
        "y_pred = (model.predict(X_test) > 0.5).astype(\"int32\")\n",
        "print(confusion_matrix(y_test, y_pred))\n",
        "print(classification_report(y_test, y_pred))"
      ]
    },
    {
      "cell_type": "markdown",
      "id": "b4d2e441",
      "metadata": {
        "papermill": {
          "duration": 0.646615,
          "end_time": "2022-03-13T16:35:01.816582",
          "exception": false,
          "start_time": "2022-03-13T16:35:01.169967",
          "status": "completed"
        },
        "tags": [],
        "id": "b4d2e441"
      },
      "source": [
        "### ROC (Receiver Operating Curve) and AUC (Area Under Curve) for model"
      ]
    },
    {
      "cell_type": "code",
      "execution_count": 42,
      "id": "6bbf3113",
      "metadata": {
        "cell_style": "split",
        "execution": {
          "iopub.execute_input": "2022-03-13T16:35:03.097454Z",
          "iopub.status.busy": "2022-03-13T16:35:03.096379Z",
          "iopub.status.idle": "2022-03-13T16:35:03.544238Z",
          "shell.execute_reply": "2022-03-13T16:35:03.543655Z",
          "shell.execute_reply.started": "2022-03-13T16:26:25.231910Z"
        },
        "papermill": {
          "duration": 1.090036,
          "end_time": "2022-03-13T16:35:03.544400",
          "exception": false,
          "start_time": "2022-03-13T16:35:02.454364",
          "status": "completed"
        },
        "tags": [],
        "colab": {
          "base_uri": "https://localhost:8080/",
          "height": 489
        },
        "id": "6bbf3113",
        "outputId": "d1bd6223-f16f-4db6-ce1a-d65c61fd32c5"
      },
      "outputs": [
        {
          "output_type": "stream",
          "name": "stdout",
          "text": [
            "32/32 [==============================] - 0s 1ms/step\n"
          ]
        },
        {
          "output_type": "display_data",
          "data": {
            "text/plain": [
              "<Figure size 640x480 with 1 Axes>"
            ],
            "image/png": "[encoded data removed]"
          },
          "metadata": {}
        }
      ],
      "source": [
        "y_pred_proba = model.predict(X_test)\n",
        "precisions, recalls, thresholds = precision_recall_curve(y_test, y_pred_proba)\n",
        "plt.plot(recalls, precisions, label='ANN')\n",
        "plt.xlabel('recalls')\n",
        "plt.ylabel('precisions')\n",
        "plt.title('Precision-Recall curve')\n",
        "plt.show()\n",
        "# roc curve, sınıflandırma performansını gösterir"
      ]
    },
    {
      "cell_type": "code",
      "execution_count": 43,
      "id": "737016ce",
      "metadata": {
        "cell_style": "split",
        "execution": {
          "iopub.execute_input": "2022-03-13T16:35:04.860022Z",
          "iopub.status.busy": "2022-03-13T16:35:04.858995Z",
          "iopub.status.idle": "2022-03-13T16:35:04.866020Z",
          "shell.execute_reply": "2022-03-13T16:35:04.866575Z",
          "shell.execute_reply.started": "2022-03-13T16:26:25.512499Z"
        },
        "papermill": {
          "duration": 0.67062,
          "end_time": "2022-03-13T16:35:04.866738",
          "exception": false,
          "start_time": "2022-03-13T16:35:04.196118",
          "status": "completed"
        },
        "tags": [],
        "colab": {
          "base_uri": "https://localhost:8080/"
        },
        "id": "737016ce",
        "outputId": "0dd99fce-3129-42da-99a7-5c5d820dbe29"
      },
      "outputs": [
        {
          "output_type": "execute_result",
          "data": {
            "text/plain": [
              "0.665629053225956"
            ]
          },
          "metadata": {},
          "execution_count": 43
        }
      ],
      "source": [
        "average_precision_score(y_test, y_pred_proba)   #0.692983743350624"
      ]
    },
    {
      "cell_type": "code",
      "execution_count": 44,
      "id": "8c194309",
      "metadata": {
        "id": "8c194309"
      },
      "outputs": [],
      "source": [
        "from tensorflow.keras.optimizers import Adadelta, RMSprop, Nadam, Adam, SGD\n",
        "def build_classifier(optimizer,learn_rate):\n",
        "    classifier = Sequential()\n",
        "    classifier.add(Dense(units=16, activation='relu'))\n",
        "    classifier.add(Dense(units=8, activation='relu'))\n",
        "    classifier.add(Dense(units=1, activation='sigmoid'))\n",
        "    classifier.compile(optimizer=optimizer(learn_rate),\n",
        "                       loss='binary_crossentropy',\n",
        "                       metrics=['Recall'])\n",
        "    return classifier"
      ]
    },
    {
      "cell_type": "code",
      "execution_count": 45,
      "id": "4e406143",
      "metadata": {
        "colab": {
          "base_uri": "https://localhost:8080/"
        },
        "id": "4e406143",
        "outputId": "e6e51ca6-ae9a-4798-ad48-d4fa54d3a109"
      },
      "outputs": [
        {
          "output_type": "execute_result",
          "data": {
            "text/plain": [
              "{0: 0.6278777731268314, 1: 2.454991816693944}"
            ]
          },
          "metadata": {},
          "execution_count": 45
        }
      ],
      "source": [
        "class_weights"
      ]
    },
    {
      "cell_type": "code",
      "execution_count": 46,
      "id": "98ee9950",
      "metadata": {
        "execution": {
          "iopub.execute_input": "2022-03-13T16:35:09.057741Z",
          "iopub.status.busy": "2022-03-13T16:35:09.056882Z",
          "iopub.status.idle": "2022-03-13T16:35:09.061376Z",
          "shell.execute_reply": "2022-03-13T16:35:09.060735Z",
          "shell.execute_reply.started": "2022-03-13T16:26:32.656434Z"
        },
        "papermill": {
          "duration": 0.654164,
          "end_time": "2022-03-13T16:35:09.061513",
          "exception": false,
          "start_time": "2022-03-13T16:35:08.407349",
          "status": "completed"
        },
        "tags": [],
        "id": "98ee9950"
      },
      "outputs": [],
      "source": [
        "from sklearn.model_selection import GridSearchCV\n",
        "\n",
        "tf.random.set_seed(seed)\n",
        "\n",
        "classifier = KerasClassifier(build_fn=build_classifier, epochs=200)\n",
        "parameters = {\n",
        "    'batch_size': [128, 256],\n",
        "    'optimizer': [Adam, RMSprop, Nadam, Adadelta, SGD],\n",
        "    'learn_rate': [0.001, 0.003, 0.005]\n",
        "}\n",
        "grid_model = GridSearchCV(estimator=classifier,\n",
        "                          param_grid=parameters,\n",
        "                          scoring='recall',\n",
        "                          cv=5,\n",
        "                          n_jobs=-1,\n",
        "                          verbose=0)\n",
        "#grid_model.fit(X_train,y_train, class_weight=class_weights)"
      ]
    },
    {
      "cell_type": "code",
      "execution_count": 47,
      "id": "909f94b1",
      "metadata": {
        "id": "909f94b1"
      },
      "outputs": [],
      "source": [
        "# Create a custom wrapper class\n",
        "class CustomKerasClassifier(KerasClassifier):\n",
        "    def __init__(self, build_fn=None, learn_rate=0.001, **kwargs):\n",
        "        self.learn_rate = learn_rate\n",
        "        super(CustomKerasClassifier, self).__init__(build_fn=build_fn, **kwargs)\n",
        "\n",
        "    def build_fn(self):\n",
        "        return build_classifier(learn_rate=self.learn_rate)\n",
        "\n",
        "# Create a CustomKerasClassifier instance\n",
        "classifier = CustomKerasClassifier(epochs=200, batch_size=128)\n",
        "\n",
        "# Define the parameters grid for grid search\n",
        "parameters = {\n",
        "    'learn_rate': [0.001, 0.003, 0.005],\n",
        "    'batch_size': [128, 256]\n",
        "}"
      ]
    },
    {
      "cell_type": "code",
      "execution_count": 48,
      "id": "578caaca",
      "metadata": {
        "colab": {
          "base_uri": "https://localhost:8080/"
        },
        "id": "578caaca",
        "outputId": "306a78f9-675c-4e84-acb1-faefcc444cab"
      },
      "outputs": [
        {
          "output_type": "execute_result",
          "data": {
            "text/plain": [
              "{0: 0.6278777731268314, 1: 2.454991816693944}"
            ]
          },
          "metadata": {},
          "execution_count": 48
        }
      ],
      "source": [
        "class_weights"
      ]
    },
    {
      "cell_type": "code",
      "execution_count": 49,
      "id": "4b53208d",
      "metadata": {
        "id": "4b53208d"
      },
      "outputs": [],
      "source": [
        "\n",
        "\n",
        "classifier = KerasClassifier(build_fn=build_classifier, epochs=200)\n",
        "parameters = {\n",
        "    'batch_size': [128, 256],\n",
        "    'optimizer': [Adam, RMSprop, Nadam, Adadelta, SGD],\n",
        "    'learn_rate': [0.001, 0.003, 0.005]\n",
        "}\n",
        "grid_model = GridSearchCV(estimator=classifier,\n",
        "                          param_grid=parameters,\n",
        "                          scoring='recall',\n",
        "                          cv=5,\n",
        "                          n_jobs=-1,\n",
        "                          verbose=0)"
      ]
    },
    {
      "cell_type": "code",
      "execution_count": 50,
      "id": "eff2469e",
      "metadata": {
        "id": "eff2469e"
      },
      "outputs": [],
      "source": [
        "#grid_model.fit(X_train, y_train, class_weight=class_weights)"
      ]
    },
    {
      "cell_type": "markdown",
      "id": "de8b15ae",
      "metadata": {
        "papermill": {
          "duration": 1.271435,
          "end_time": "2022-03-13T16:37:02.549812",
          "exception": false,
          "start_time": "2022-03-13T16:37:01.278377",
          "status": "completed"
        },
        "tags": [],
        "id": "de8b15ae"
      },
      "source": [
        "### ROC (Receiver Operating Curve) and AUC (Area Under Curve) for grid_model"
      ]
    },
    {
      "cell_type": "code",
      "execution_count": 51,
      "id": "b76752e9",
      "metadata": {
        "cell_style": "split",
        "execution": {
          "iopub.execute_input": "2022-03-13T16:37:05.149773Z",
          "iopub.status.busy": "2022-03-13T16:37:05.148687Z",
          "iopub.status.idle": "2022-03-13T16:37:05.817184Z",
          "shell.execute_reply": "2022-03-13T16:37:05.817773Z",
          "shell.execute_reply.started": "2022-03-13T16:28:48.240724Z"
        },
        "papermill": {
          "duration": 1.951563,
          "end_time": "2022-03-13T16:37:05.817971",
          "exception": false,
          "start_time": "2022-03-13T16:37:03.866408",
          "status": "completed"
        },
        "tags": [],
        "id": "b76752e9"
      },
      "outputs": [],
      "source": [
        "#y_pred_proba = grid_model.predict(X_test)\n",
        "#precisions, recalls, thresholds = precision_recall_curve(y_test, y_pred_proba)\n",
        "#plt.plot(recalls, precisions, label='ANN')\n",
        "#plt.xlabel('recalls')\n",
        "#plt.ylabel('precisions')\n",
        "#plt.title('Precision-Recall curve')\n",
        "#plt.show()"
      ]
    },
    {
      "cell_type": "code",
      "execution_count": 52,
      "id": "71741108",
      "metadata": {
        "cell_style": "split",
        "execution": {
          "iopub.execute_input": "2022-03-13T16:37:08.776541Z",
          "iopub.status.busy": "2022-03-13T16:37:08.773090Z",
          "iopub.status.idle": "2022-03-13T16:37:08.781676Z",
          "shell.execute_reply": "2022-03-13T16:37:08.782155Z",
          "shell.execute_reply.started": "2022-03-13T16:28:49.072121Z"
        },
        "papermill": {
          "duration": 1.292719,
          "end_time": "2022-03-13T16:37:08.782344",
          "exception": false,
          "start_time": "2022-03-13T16:37:07.489625",
          "status": "completed"
        },
        "scrolled": true,
        "tags": [],
        "colab": {
          "base_uri": "https://localhost:8080/"
        },
        "id": "71741108",
        "outputId": "d0546b77-ab7a-4aac-fb37-a9b1dfe93c5d"
      },
      "outputs": [
        {
          "output_type": "execute_result",
          "data": {
            "text/plain": [
              "0.665629053225956"
            ]
          },
          "metadata": {},
          "execution_count": 52
        }
      ],
      "source": [
        "average_precision_score(y_test, y_pred_proba)"
      ]
    },
    {
      "cell_type": "markdown",
      "id": "c0183755",
      "metadata": {
        "papermill": {
          "duration": 1.269124,
          "end_time": "2022-03-13T16:37:11.320422",
          "exception": false,
          "start_time": "2022-03-13T16:37:10.051298",
          "status": "completed"
        },
        "tags": [],
        "id": "c0183755"
      },
      "source": [
        "## Final Model and Model Deployment"
      ]
    },
    {
      "cell_type": "code",
      "execution_count": 53,
      "id": "f7b9a37d",
      "metadata": {
        "execution": {
          "iopub.execute_input": "2022-03-13T16:37:13.877343Z",
          "iopub.status.busy": "2022-03-13T16:37:13.876422Z",
          "iopub.status.idle": "2022-03-13T16:37:13.879483Z",
          "shell.execute_reply": "2022-03-13T16:37:13.879988Z",
          "shell.execute_reply.started": "2022-03-13T16:28:50.736221Z"
        },
        "papermill": {
          "duration": 1.289758,
          "end_time": "2022-03-13T16:37:13.880164",
          "exception": false,
          "start_time": "2022-03-13T16:37:12.590406",
          "status": "completed"
        },
        "tags": [],
        "id": "f7b9a37d"
      },
      "outputs": [],
      "source": [
        "import pickle\n",
        "\n",
        "pickle.dump(scaler, open(\"scaler_churn\", 'wb'))"
      ]
    },
    {
      "cell_type": "code",
      "execution_count": 54,
      "id": "37ab788a",
      "metadata": {
        "execution": {
          "iopub.execute_input": "2022-03-13T16:37:16.465407Z",
          "iopub.status.busy": "2022-03-13T16:37:16.462885Z",
          "iopub.status.idle": "2022-03-13T16:37:30.808000Z",
          "shell.execute_reply": "2022-03-13T16:37:30.808883Z",
          "shell.execute_reply.started": "2022-03-13T16:28:51.373556Z"
        },
        "papermill": {
          "duration": 15.658602,
          "end_time": "2022-03-13T16:37:30.809064",
          "exception": false,
          "start_time": "2022-03-13T16:37:15.150462",
          "status": "completed"
        },
        "scrolled": true,
        "tags": [],
        "colab": {
          "base_uri": "https://localhost:8080/"
        },
        "id": "37ab788a",
        "outputId": "fa035e34-ea40-42dd-d2f7-49612172f515"
      },
      "outputs": [
        {
          "output_type": "stream",
          "name": "stdout",
          "text": [
            "Epoch 1/200\n",
            "36/36 [==============================] - 1s 10ms/step - loss: 0.6880 - recall: 0.3306 - val_loss: 0.6782 - val_recall: 0.5441\n",
            "Epoch 2/200\n",
            "36/36 [==============================] - 0s 4ms/step - loss: 0.6581 - recall: 0.6378 - val_loss: 0.6599 - val_recall: 0.7059\n",
            "Epoch 3/200\n",
            "36/36 [==============================] - 0s 4ms/step - loss: 0.6270 - recall: 0.6819 - val_loss: 0.6420 - val_recall: 0.7402\n",
            "Epoch 4/200\n",
            "36/36 [==============================] - 0s 3ms/step - loss: 0.6071 - recall: 0.6874 - val_loss: 0.6437 - val_recall: 0.7500\n",
            "Epoch 5/200\n",
            "36/36 [==============================] - 0s 4ms/step - loss: 0.5929 - recall: 0.6945 - val_loss: 0.5817 - val_recall: 0.6667\n",
            "Epoch 6/200\n",
            "36/36 [==============================] - 0s 4ms/step - loss: 0.5846 - recall: 0.6781 - val_loss: 0.6481 - val_recall: 0.7598\n",
            "Epoch 7/200\n",
            "36/36 [==============================] - 0s 4ms/step - loss: 0.5805 - recall: 0.6830 - val_loss: 0.5679 - val_recall: 0.6667\n",
            "Epoch 8/200\n",
            "36/36 [==============================] - 0s 4ms/step - loss: 0.5749 - recall: 0.6770 - val_loss: 0.5738 - val_recall: 0.6863\n",
            "Epoch 9/200\n",
            "36/36 [==============================] - 0s 4ms/step - loss: 0.5701 - recall: 0.6721 - val_loss: 0.6007 - val_recall: 0.7304\n",
            "Epoch 10/200\n",
            "36/36 [==============================] - 0s 3ms/step - loss: 0.5588 - recall: 0.6923 - val_loss: 0.5442 - val_recall: 0.6667\n",
            "Epoch 11/200\n",
            "36/36 [==============================] - 0s 4ms/step - loss: 0.5469 - recall: 0.7081 - val_loss: 0.5856 - val_recall: 0.7549\n",
            "Epoch 12/200\n",
            "36/36 [==============================] - 0s 4ms/step - loss: 0.5359 - recall: 0.7049 - val_loss: 0.6162 - val_recall: 0.7647\n",
            "Epoch 13/200\n",
            "36/36 [==============================] - 0s 4ms/step - loss: 0.5250 - recall: 0.7245 - val_loss: 0.5624 - val_recall: 0.7353\n",
            "Epoch 14/200\n",
            "36/36 [==============================] - 0s 3ms/step - loss: 0.5162 - recall: 0.7250 - val_loss: 0.5175 - val_recall: 0.7010\n",
            "Epoch 15/200\n",
            "36/36 [==============================] - 0s 4ms/step - loss: 0.5089 - recall: 0.7321 - val_loss: 0.5062 - val_recall: 0.6863\n",
            "Epoch 16/200\n",
            "36/36 [==============================] - 0s 3ms/step - loss: 0.5041 - recall: 0.7261 - val_loss: 0.5446 - val_recall: 0.7402\n",
            "Epoch 17/200\n",
            "36/36 [==============================] - 0s 4ms/step - loss: 0.5024 - recall: 0.7447 - val_loss: 0.4662 - val_recall: 0.6618\n",
            "Epoch 18/200\n",
            "36/36 [==============================] - 0s 5ms/step - loss: 0.4949 - recall: 0.7360 - val_loss: 0.5462 - val_recall: 0.7647\n",
            "Epoch 19/200\n",
            "36/36 [==============================] - 0s 4ms/step - loss: 0.4889 - recall: 0.7430 - val_loss: 0.5287 - val_recall: 0.7696\n",
            "Epoch 20/200\n",
            "36/36 [==============================] - 0s 4ms/step - loss: 0.4866 - recall: 0.7490 - val_loss: 0.5089 - val_recall: 0.7451\n",
            "Epoch 21/200\n",
            "36/36 [==============================] - 0s 4ms/step - loss: 0.4834 - recall: 0.7490 - val_loss: 0.5053 - val_recall: 0.7206\n",
            "Epoch 22/200\n",
            "36/36 [==============================] - 0s 4ms/step - loss: 0.4810 - recall: 0.7632 - val_loss: 0.4824 - val_recall: 0.7108\n",
            "Epoch 23/200\n",
            "36/36 [==============================] - 0s 4ms/step - loss: 0.4784 - recall: 0.7610 - val_loss: 0.4412 - val_recall: 0.6716\n",
            "Epoch 24/200\n",
            "36/36 [==============================] - 0s 4ms/step - loss: 0.4803 - recall: 0.7529 - val_loss: 0.4923 - val_recall: 0.7059\n",
            "Epoch 25/200\n",
            "36/36 [==============================] - 0s 4ms/step - loss: 0.4761 - recall: 0.7643 - val_loss: 0.4516 - val_recall: 0.6765\n",
            "Epoch 26/200\n",
            "36/36 [==============================] - 0s 4ms/step - loss: 0.4745 - recall: 0.7561 - val_loss: 0.4548 - val_recall: 0.7108\n",
            "Epoch 27/200\n",
            "36/36 [==============================] - 0s 4ms/step - loss: 0.4743 - recall: 0.7523 - val_loss: 0.4814 - val_recall: 0.7353\n",
            "Epoch 28/200\n",
            "36/36 [==============================] - 0s 4ms/step - loss: 0.4731 - recall: 0.7665 - val_loss: 0.4650 - val_recall: 0.7010\n",
            "Epoch 29/200\n",
            "36/36 [==============================] - 0s 4ms/step - loss: 0.4725 - recall: 0.7540 - val_loss: 0.4682 - val_recall: 0.7206\n",
            "Epoch 30/200\n",
            "36/36 [==============================] - 0s 5ms/step - loss: 0.4699 - recall: 0.7649 - val_loss: 0.4680 - val_recall: 0.7255\n",
            "Epoch 31/200\n",
            "36/36 [==============================] - 0s 5ms/step - loss: 0.4698 - recall: 0.7627 - val_loss: 0.4582 - val_recall: 0.6814\n",
            "Epoch 32/200\n",
            "36/36 [==============================] - 0s 5ms/step - loss: 0.4728 - recall: 0.7621 - val_loss: 0.4353 - val_recall: 0.6471\n",
            "Epoch 33/200\n",
            "36/36 [==============================] - 0s 9ms/step - loss: 0.4739 - recall: 0.7518 - val_loss: 0.4286 - val_recall: 0.6716\n",
            "Epoch 34/200\n",
            "36/36 [==============================] - 0s 6ms/step - loss: 0.4722 - recall: 0.7458 - val_loss: 0.5124 - val_recall: 0.7598\n",
            "Epoch 35/200\n",
            "36/36 [==============================] - 0s 6ms/step - loss: 0.4668 - recall: 0.7621 - val_loss: 0.5209 - val_recall: 0.7745\n",
            "Epoch 36/200\n",
            "36/36 [==============================] - 0s 5ms/step - loss: 0.4689 - recall: 0.7550 - val_loss: 0.5127 - val_recall: 0.7794\n",
            "Epoch 37/200\n",
            "36/36 [==============================] - 0s 7ms/step - loss: 0.4654 - recall: 0.7643 - val_loss: 0.4747 - val_recall: 0.7402\n",
            "Epoch 38/200\n",
            "36/36 [==============================] - 0s 6ms/step - loss: 0.4669 - recall: 0.7654 - val_loss: 0.4429 - val_recall: 0.7255\n",
            "Epoch 39/200\n",
            "36/36 [==============================] - 0s 6ms/step - loss: 0.4641 - recall: 0.7616 - val_loss: 0.4431 - val_recall: 0.6716\n",
            "Epoch 40/200\n",
            "36/36 [==============================] - 0s 5ms/step - loss: 0.4668 - recall: 0.7518 - val_loss: 0.5213 - val_recall: 0.7745\n",
            "Epoch 41/200\n",
            "36/36 [==============================] - 0s 6ms/step - loss: 0.4647 - recall: 0.7589 - val_loss: 0.5006 - val_recall: 0.7549\n",
            "Epoch 42/200\n",
            "36/36 [==============================] - 0s 6ms/step - loss: 0.4647 - recall: 0.7561 - val_loss: 0.4700 - val_recall: 0.7598\n",
            "Epoch 43/200\n",
            "36/36 [==============================] - 0s 5ms/step - loss: 0.4647 - recall: 0.7610 - val_loss: 0.5061 - val_recall: 0.7794\n",
            "Epoch 44/200\n",
            "36/36 [==============================] - 0s 6ms/step - loss: 0.4643 - recall: 0.7643 - val_loss: 0.4375 - val_recall: 0.7108\n",
            "Epoch 45/200\n",
            "36/36 [==============================] - 0s 6ms/step - loss: 0.4630 - recall: 0.7621 - val_loss: 0.5444 - val_recall: 0.8039\n",
            "Epoch 46/200\n",
            "36/36 [==============================] - 0s 6ms/step - loss: 0.4697 - recall: 0.7676 - val_loss: 0.5038 - val_recall: 0.7843\n",
            "Epoch 47/200\n",
            "36/36 [==============================] - 0s 4ms/step - loss: 0.4646 - recall: 0.7605 - val_loss: 0.5229 - val_recall: 0.7794\n",
            "Epoch 48/200\n",
            "36/36 [==============================] - 0s 4ms/step - loss: 0.4625 - recall: 0.7567 - val_loss: 0.4987 - val_recall: 0.7549\n",
            "Epoch 48: early stopping\n"
          ]
        },
        {
          "output_type": "execute_result",
          "data": {
            "text/plain": [
              "<keras.src.callbacks.History at 0x78ff8c485600>"
            ]
          },
          "metadata": {},
          "execution_count": 54
        }
      ],
      "source": [
        "tf.random.set_seed(seed)\n",
        "\n",
        "model = Sequential()\n",
        "\n",
        "model.add(Dense(16, activation=\"relu\"))\n",
        "model.add(Dense(8, activation=\"relu\"))\n",
        "model.add(Dense(1, activation=\"sigmoid\"))\n",
        "\n",
        "opt = Adam(learning_rate=0.003)\n",
        "\n",
        "model.compile(optimizer=opt,\n",
        "              loss=\"binary_crossentropy\",\n",
        "              metrics=[\"Recall\"])\n",
        "\n",
        "model.fit(x=X_train,\n",
        "          y=y_train,\n",
        "          validation_data=(X_test, y_test),\n",
        "          callbacks=[early_stop],\n",
        "          batch_size=256,\n",
        "          epochs=200,\n",
        "          verbose=1,\n",
        "          class_weight=class_weights)\n",
        "# {'batch_size': 256,'learn_rate': 0.003,'optimizer': keras.optimizer_v2.adam.Adam}\n",
        "# pay attention!! validation data"
      ]
    },
    {
      "cell_type": "code",
      "execution_count": 55,
      "id": "9d2f08a6",
      "metadata": {
        "cell_style": "split",
        "execution": {
          "iopub.execute_input": "2022-03-13T16:37:33.769897Z",
          "iopub.status.busy": "2022-03-13T16:37:33.768829Z",
          "iopub.status.idle": "2022-03-13T16:37:38.007745Z",
          "shell.execute_reply": "2022-03-13T16:37:38.008309Z",
          "shell.execute_reply.started": "2022-03-13T16:29:00.554046Z"
        },
        "id": "9d2f08a6",
        "papermill": {
          "duration": 5.659657,
          "end_time": "2022-03-13T16:37:38.008490",
          "exception": false,
          "start_time": "2022-03-13T16:37:32.348833",
          "status": "completed"
        },
        "tags": [],
        "colab": {
          "base_uri": "https://localhost:8080/",
          "height": 447
        },
        "outputId": "952a07da-f0c4-4e27-e0f3-7bf5153c39d0"
      },
      "outputs": [
        {
          "output_type": "execute_result",
          "data": {
            "text/plain": [
              "<Axes: >"
            ]
          },
          "metadata": {},
          "execution_count": 55
        },
        {
          "output_type": "display_data",
          "data": {
            "text/plain": [
              "<Figure size 640x480 with 1 Axes>"
            ],
            "image/png": "[encoded data removed]"
          },
          "metadata": {}
        }
      ],
      "source": [
        "loss_df = pd.DataFrame(model.history.history)\n",
        "loss_df.plot()"
      ]
    },
    {
      "cell_type": "code",
      "execution_count": 56,
      "id": "3432d37f",
      "metadata": {
        "execution": {
          "iopub.execute_input": "2022-03-13T16:37:41.133432Z",
          "iopub.status.busy": "2022-03-13T16:37:41.132412Z",
          "iopub.status.idle": "2022-03-13T16:37:41.259694Z",
          "shell.execute_reply": "2022-03-13T16:37:41.260322Z",
          "shell.execute_reply.started": "2022-03-13T16:29:02.626115Z"
        },
        "papermill": {
          "duration": 1.856183,
          "end_time": "2022-03-13T16:37:41.260502",
          "exception": false,
          "start_time": "2022-03-13T16:37:39.404319",
          "status": "completed"
        },
        "tags": [],
        "colab": {
          "base_uri": "https://localhost:8080/"
        },
        "id": "3432d37f",
        "outputId": "6572feaa-1e0c-40c3-ccfd-178dee472728"
      },
      "outputs": [
        {
          "output_type": "stream",
          "name": "stdout",
          "text": [
            "loss :  0.49871906638145447\n",
            "recall :  0.7549019455909729\n"
          ]
        }
      ],
      "source": [
        "loss, recall = model.evaluate(X_test, y_test, verbose=0)\n",
        "print(\"loss : \", loss)\n",
        "print(\"recall : \", recall)"
      ]
    },
    {
      "cell_type": "code",
      "execution_count": 57,
      "id": "49f1742a",
      "metadata": {
        "execution": {
          "iopub.execute_input": "2022-03-13T16:37:44.061519Z",
          "iopub.status.busy": "2022-03-13T16:37:44.060410Z",
          "iopub.status.idle": "2022-03-13T16:37:44.205433Z",
          "shell.execute_reply": "2022-03-13T16:37:44.206329Z",
          "shell.execute_reply.started": "2022-03-13T16:29:02.761613Z"
        },
        "papermill": {
          "duration": 1.550408,
          "end_time": "2022-03-13T16:37:44.206582",
          "exception": false,
          "start_time": "2022-03-13T16:37:42.656174",
          "status": "completed"
        },
        "tags": [],
        "colab": {
          "base_uri": "https://localhost:8080/"
        },
        "id": "49f1742a",
        "outputId": "3070a117-64d1-440f-f624-c9112b7c0b5a"
      },
      "outputs": [
        {
          "output_type": "stream",
          "name": "stdout",
          "text": [
            "32/32 [==============================] - 0s 1ms/step\n",
            "[[596 200]\n",
            " [ 50 154]]\n",
            "              precision    recall  f1-score   support\n",
            "\n",
            "           0       0.92      0.75      0.83       796\n",
            "           1       0.44      0.75      0.55       204\n",
            "\n",
            "    accuracy                           0.75      1000\n",
            "   macro avg       0.68      0.75      0.69      1000\n",
            "weighted avg       0.82      0.75      0.77      1000\n",
            "\n"
          ]
        }
      ],
      "source": [
        "y_pred = (model.predict(X_test) > 0.5).astype(\"int32\")\n",
        "print(confusion_matrix(y_test, y_pred))\n",
        "print(classification_report(y_test, y_pred))"
      ]
    },
    {
      "cell_type": "code",
      "execution_count": 58,
      "id": "e4e35562",
      "metadata": {
        "execution": {
          "iopub.execute_input": "2022-03-13T16:37:47.001896Z",
          "iopub.status.busy": "2022-03-13T16:37:47.000766Z",
          "iopub.status.idle": "2022-03-13T16:37:47.027893Z",
          "shell.execute_reply": "2022-03-13T16:37:47.027165Z",
          "shell.execute_reply.started": "2022-03-13T16:29:02.877661Z"
        },
        "papermill": {
          "duration": 1.423772,
          "end_time": "2022-03-13T16:37:47.028058",
          "exception": false,
          "start_time": "2022-03-13T16:37:45.604286",
          "status": "completed"
        },
        "tags": [],
        "id": "e4e35562"
      },
      "outputs": [],
      "source": [
        "model.save('model_churn.h5')"
      ]
    },
    {
      "cell_type": "markdown",
      "id": "00975a9a",
      "metadata": {
        "id": "00975a9a",
        "papermill": {
          "duration": 1.415132,
          "end_time": "2022-03-13T16:37:49.884882",
          "exception": false,
          "start_time": "2022-03-13T16:37:48.469750",
          "status": "completed"
        },
        "tags": []
      },
      "source": [
        "### Prediction"
      ]
    },
    {
      "cell_type": "code",
      "execution_count": 59,
      "id": "2fb445ad",
      "metadata": {
        "execution": {
          "iopub.execute_input": "2022-03-13T16:37:52.999453Z",
          "iopub.status.busy": "2022-03-13T16:37:52.995058Z",
          "iopub.status.idle": "2022-03-13T16:37:53.003157Z",
          "shell.execute_reply": "2022-03-13T16:37:53.003728Z",
          "shell.execute_reply.started": "2022-03-13T16:29:02.905137Z"
        },
        "papermill": {
          "duration": 1.399579,
          "end_time": "2022-03-13T16:37:53.003908",
          "exception": false,
          "start_time": "2022-03-13T16:37:51.604329",
          "status": "completed"
        },
        "tags": [],
        "colab": {
          "base_uri": "https://localhost:8080/"
        },
        "id": "2fb445ad",
        "outputId": "a2f6b034-58bb-473b-90e0-f464e7163274"
      },
      "outputs": [
        {
          "output_type": "execute_result",
          "data": {
            "text/plain": [
              "RowNumber               1.00\n",
              "CreditScore           619.00\n",
              "Geography               0.00\n",
              "Gender                  0.00\n",
              "Age                    42.00\n",
              "Tenure                  2.00\n",
              "Balance                 0.00\n",
              "NumOfProducts           1.00\n",
              "HasCrCard               1.00\n",
              "IsActiveMember          1.00\n",
              "EstimatedSalary    101348.88\n",
              "Name: 0, dtype: float64"
            ]
          },
          "metadata": {},
          "execution_count": 59
        }
      ],
      "source": [
        "single_customer = df.drop('Exited', axis=1).iloc[0]\n",
        "single_customer"
      ]
    },
    {
      "cell_type": "code",
      "execution_count": 60,
      "id": "2814ba85",
      "metadata": {
        "execution": {
          "iopub.execute_input": "2022-03-13T16:37:55.849482Z",
          "iopub.status.busy": "2022-03-13T16:37:55.847241Z",
          "iopub.status.idle": "2022-03-13T16:37:55.852371Z",
          "shell.execute_reply": "2022-03-13T16:37:55.851746Z",
          "shell.execute_reply.started": "2022-03-13T16:29:02.916690Z"
        },
        "papermill": {
          "duration": 1.424065,
          "end_time": "2022-03-13T16:37:55.852512",
          "exception": false,
          "start_time": "2022-03-13T16:37:54.428447",
          "status": "completed"
        },
        "tags": [],
        "colab": {
          "base_uri": "https://localhost:8080/"
        },
        "id": "2814ba85",
        "outputId": "94cb00c4-45e3-4652-94d0-91f008a2c9c4"
      },
      "outputs": [
        {
          "output_type": "execute_result",
          "data": {
            "text/plain": [
              "array([[0.        , 0.538     , 0.        , 0.        , 0.32432432,\n",
              "        0.2       , 0.        , 0.        , 1.        , 1.        ,\n",
              "        0.50673489]])"
            ]
          },
          "metadata": {},
          "execution_count": 60
        }
      ],
      "source": [
        "single_customer = scaler.transform(single_customer.values.reshape(-1, 11))\n",
        "single_customer"
      ]
    },
    {
      "cell_type": "code",
      "execution_count": 61,
      "id": "e88627d6",
      "metadata": {
        "execution": {
          "iopub.execute_input": "2022-03-13T16:37:58.683270Z",
          "iopub.status.busy": "2022-03-13T16:37:58.682211Z",
          "iopub.status.idle": "2022-03-13T16:37:58.738739Z",
          "shell.execute_reply": "2022-03-13T16:37:58.738168Z",
          "shell.execute_reply.started": "2022-03-13T16:29:02.925587Z"
        },
        "papermill": {
          "duration": 1.466656,
          "end_time": "2022-03-13T16:37:58.738901",
          "exception": false,
          "start_time": "2022-03-13T16:37:57.272245",
          "status": "completed"
        },
        "tags": [],
        "colab": {
          "base_uri": "https://localhost:8080/"
        },
        "id": "e88627d6",
        "outputId": "f9ed7731-c43e-45ac-e0bb-b3cf92d82416"
      },
      "outputs": [
        {
          "output_type": "stream",
          "name": "stdout",
          "text": [
            "1/1 [==============================] - 0s 22ms/step\n"
          ]
        },
        {
          "output_type": "execute_result",
          "data": {
            "text/plain": [
              "array([[1]], dtype=int32)"
            ]
          },
          "metadata": {},
          "execution_count": 61
        }
      ],
      "source": [
        "y_pred =(model.predict(single_customer) > 0.5).astype(\"int32\")\n",
        "y_pred"
      ]
    },
    {
      "cell_type": "code",
      "execution_count": 62,
      "id": "e8d7eb42",
      "metadata": {
        "execution": {
          "iopub.execute_input": "2022-03-13T16:38:02.554258Z",
          "iopub.status.busy": "2022-03-13T16:38:02.553527Z",
          "iopub.status.idle": "2022-03-13T16:38:02.557360Z",
          "shell.execute_reply": "2022-03-13T16:38:02.558047Z",
          "shell.execute_reply.started": "2022-03-13T16:29:02.970209Z"
        },
        "papermill": {
          "duration": 2.383844,
          "end_time": "2022-03-13T16:38:02.558412",
          "exception": false,
          "start_time": "2022-03-13T16:38:00.174568",
          "status": "completed"
        },
        "tags": [],
        "colab": {
          "base_uri": "https://localhost:8080/"
        },
        "id": "e8d7eb42",
        "outputId": "f06e08e2-f38c-4faf-b59f-601230d0777e"
      },
      "outputs": [
        {
          "output_type": "execute_result",
          "data": {
            "text/plain": [
              "1"
            ]
          },
          "metadata": {},
          "execution_count": 62
        }
      ],
      "source": [
        "df[\"Exited\"].iloc[0]"
      ]
    },
    {
      "cell_type": "markdown",
      "id": "f749c72e",
      "metadata": {
        "papermill": {
          "duration": 1.39377,
          "end_time": "2022-03-13T16:38:05.438531",
          "exception": false,
          "start_time": "2022-03-13T16:38:04.044761",
          "status": "completed"
        },
        "tags": [],
        "id": "f749c72e"
      },
      "source": [
        "## Comparison with ML"
      ]
    },
    {
      "cell_type": "markdown",
      "id": "83642a2c",
      "metadata": {
        "papermill": {
          "duration": 1.429604,
          "end_time": "2022-03-13T16:38:08.267443",
          "exception": false,
          "start_time": "2022-03-13T16:38:06.837839",
          "status": "completed"
        },
        "tags": [],
        "id": "83642a2c"
      },
      "source": [
        "### Logistic Regression"
      ]
    },
    {
      "cell_type": "code",
      "execution_count": 63,
      "id": "a9c90de2",
      "metadata": {
        "execution": {
          "iopub.execute_input": "2022-03-13T16:38:11.076346Z",
          "iopub.status.busy": "2022-03-13T16:38:11.075398Z",
          "iopub.status.idle": "2022-03-13T16:38:11.151021Z",
          "shell.execute_reply": "2022-03-13T16:38:11.151547Z",
          "shell.execute_reply.started": "2022-03-13T16:29:02.980303Z"
        },
        "papermill": {
          "duration": 1.492362,
          "end_time": "2022-03-13T16:38:11.151739",
          "exception": false,
          "start_time": "2022-03-13T16:38:09.659377",
          "status": "completed"
        },
        "tags": [],
        "id": "a9c90de2"
      },
      "outputs": [],
      "source": [
        "from sklearn.linear_model import LogisticRegression"
      ]
    },
    {
      "cell_type": "code",
      "execution_count": 64,
      "id": "aebe20f2",
      "metadata": {
        "execution": {
          "iopub.execute_input": "2022-03-13T16:38:14.283591Z",
          "iopub.status.busy": "2022-03-13T16:38:14.282548Z",
          "iopub.status.idle": "2022-03-13T16:38:14.350771Z",
          "shell.execute_reply": "2022-03-13T16:38:14.349435Z",
          "shell.execute_reply.started": "2022-03-13T16:29:03.049164Z"
        },
        "papermill": {
          "duration": 1.673059,
          "end_time": "2022-03-13T16:38:14.351104",
          "exception": false,
          "start_time": "2022-03-13T16:38:12.678045",
          "status": "completed"
        },
        "tags": [],
        "colab": {
          "base_uri": "https://localhost:8080/"
        },
        "id": "aebe20f2",
        "outputId": "a49cc562-7855-4e37-fdf5-11296a8d6fd1"
      },
      "outputs": [
        {
          "output_type": "stream",
          "name": "stdout",
          "text": [
            "[[548 248]\n",
            " [ 57 147]]\n",
            "              precision    recall  f1-score   support\n",
            "\n",
            "           0       0.91      0.69      0.78       796\n",
            "           1       0.37      0.72      0.49       204\n",
            "\n",
            "    accuracy                           0.69      1000\n",
            "   macro avg       0.64      0.70      0.64      1000\n",
            "weighted avg       0.80      0.69      0.72      1000\n",
            "\n"
          ]
        }
      ],
      "source": [
        "log_model=LogisticRegression(class_weight='balanced')\n",
        "log_model.fit(X_train, y_train)\n",
        "y_pred = log_model.predict(X_test)\n",
        "print(confusion_matrix(y_test, y_pred))\n",
        "print(classification_report(y_test, y_pred))"
      ]
    },
    {
      "cell_type": "markdown",
      "id": "eaad577c",
      "metadata": {
        "papermill": {
          "duration": 1.420343,
          "end_time": "2022-03-13T16:38:17.215969",
          "exception": false,
          "start_time": "2022-03-13T16:38:15.795626",
          "status": "completed"
        },
        "tags": [],
        "id": "eaad577c"
      },
      "source": [
        "### Random Forest"
      ]
    },
    {
      "cell_type": "code",
      "execution_count": 65,
      "id": "408e9d0e",
      "metadata": {
        "execution": {
          "iopub.execute_input": "2022-03-13T16:38:20.039341Z",
          "iopub.status.busy": "2022-03-13T16:38:20.038401Z",
          "iopub.status.idle": "2022-03-13T16:38:20.172999Z",
          "shell.execute_reply": "2022-03-13T16:38:20.173792Z",
          "shell.execute_reply.started": "2022-03-13T16:29:03.104136Z"
        },
        "papermill": {
          "duration": 1.556864,
          "end_time": "2022-03-13T16:38:20.173996",
          "exception": false,
          "start_time": "2022-03-13T16:38:18.617132",
          "status": "completed"
        },
        "tags": [],
        "id": "408e9d0e"
      },
      "outputs": [],
      "source": [
        "from sklearn.ensemble import RandomForestClassifier\n"
      ]
    },
    {
      "cell_type": "code",
      "execution_count": 66,
      "id": "c13638e8",
      "metadata": {
        "execution": {
          "iopub.execute_input": "2022-03-13T16:38:22.981898Z",
          "iopub.status.busy": "2022-03-13T16:38:22.980819Z",
          "iopub.status.idle": "2022-03-13T16:38:24.362417Z",
          "shell.execute_reply": "2022-03-13T16:38:24.363100Z",
          "shell.execute_reply.started": "2022-03-13T16:29:03.235000Z"
        },
        "papermill": {
          "duration": 2.780615,
          "end_time": "2022-03-13T16:38:24.363298",
          "exception": false,
          "start_time": "2022-03-13T16:38:21.582683",
          "status": "completed"
        },
        "tags": [],
        "colab": {
          "base_uri": "https://localhost:8080/"
        },
        "id": "c13638e8",
        "outputId": "6c94a04d-3bdb-4d05-a91a-dc5b1064b74b"
      },
      "outputs": [
        {
          "output_type": "stream",
          "name": "stdout",
          "text": [
            "[[770  26]\n",
            " [122  82]]\n",
            "              precision    recall  f1-score   support\n",
            "\n",
            "           0       0.86      0.97      0.91       796\n",
            "           1       0.76      0.40      0.53       204\n",
            "\n",
            "    accuracy                           0.85      1000\n",
            "   macro avg       0.81      0.68      0.72      1000\n",
            "weighted avg       0.84      0.85      0.83      1000\n",
            "\n"
          ]
        }
      ],
      "source": [
        "rf_model = RandomForestClassifier(class_weight='balanced')\n",
        "rf_model.fit(X_train, y_train)\n",
        "y_pred = rf_model.predict(X_test)\n",
        "print(confusion_matrix(y_test, y_pred))\n",
        "print(classification_report(y_test, y_pred))"
      ]
    },
    {
      "cell_type": "code",
      "execution_count": 66,
      "id": "aa4570aa",
      "metadata": {
        "id": "aa4570aa"
      },
      "outputs": [],
      "source": []
    },
    {
      "cell_type": "code",
      "execution_count": 66,
      "id": "67f22264",
      "metadata": {
        "id": "67f22264"
      },
      "outputs": [],
      "source": []
    },
    {
      "cell_type": "markdown",
      "id": "027657a1",
      "metadata": {
        "papermill": {
          "duration": 0.149353,
          "end_time": "2022-03-13T16:33:15.972259",
          "exception": false,
          "start_time": "2022-03-13T16:33:15.822906",
          "status": "completed"
        },
        "tags": [],
        "id": "027657a1"
      },
      "source": [
        "___\n",
        "\n",
        "<p style=\"text-align: center;\"><img src=\"https://docs.google.com/uc?id=1lY0Uj5R04yMY3-ZppPWxqCr5pvBLYPnV\" class=\"img-fluid\" alt=\"CLRSWY\"></p>\n",
        "\n",
        "___"
      ]
    }
  ],
  "metadata": {
    "kernelspec": {
      "display_name": "Python 3 (ipykernel)",
      "language": "python",
      "name": "python3"
    },
    "language_info": {
      "codemirror_mode": {
        "name": "ipython",
        "version": 3
      },
      "file_extension": ".py",
      "mimetype": "text/x-python",
      "name": "python",
      "nbconvert_exporter": "python",
      "pygments_lexer": "ipython3",
      "version": "3.11.4"
    },
    "papermill": {
      "default_parameters": {},
      "duration": 326.375729,
      "end_time": "2022-03-13T16:38:32.137577",
      "environment_variables": {},
      "exception": null,
      "input_path": "__notebook__.ipynb",
      "output_path": "__notebook__.ipynb",
      "parameters": {},
      "start_time": "2022-03-13T16:33:05.761848",
      "version": "2.3.3"
    },
    "colab": {
      "provenance": []
    }
  },
  "nbformat": 4,
  "nbformat_minor": 5
}